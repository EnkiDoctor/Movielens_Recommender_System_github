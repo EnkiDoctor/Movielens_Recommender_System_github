{
 "cells": [
  {
   "cell_type": "markdown",
   "id": "10855f9b",
   "metadata": {},
   "source": [
    "<h1 align=\"center\"> Movie Recommender System Implementation and Comparison</h1>  "
   ]
  },
  {
   "attachments": {},
   "cell_type": "markdown",
   "id": "afdf5686",
   "metadata": {},
   "source": [
    "**Note:** *The course project of SDSC3002-Data Mining*   \n",
    "Group Member:   \n",
    "*SID: 56641800&emsp; &emsp; Name: Du Junye*  \n",
    "*SID: 55670256&emsp; &emsp; Name: Shan Jinyun*    \n",
    "*SID: 56236609&emsp; &emsp; Name: Li Zhangchao*    \n",
    "*SID: 56197665&emsp; &emsp; Name: Zhang Zirui*  \n",
    "*This project is only for the use of course requirement of sdsc3002*  "
   ]
  },
  {
   "attachments": {},
   "cell_type": "markdown",
   "id": "c06e1177",
   "metadata": {},
   "source": [
    "<b>Before we Begin:  </b>   \n",
    "In order to run the code, necessary pckages are required, make sure the following packages have already been installed in your computer: \n",
    "\n",
    "+ Basic scientific calculation libraries: Numpy, Pandas, Matplotlib  \n",
    "+ Advanced Visualization libraies: Seaborn \n",
    "+ Packages for dynamic graphs: Cufflinks, Plotly\n",
    "+ Packages for machine learning and deep learning: Sklearn, Pytorch(GPU version), Keras   \n",
    "+ Recommender Algorithms support: Surprise\n",
    "+ Natural Language Processing: nltk\n",
    "+ Python type modification: ast \n",
    "\n",
    " \n",
    "\n",
    "\n",
    "<b> Introduction to Our Goals: </b>  \n",
    "*In our project, we want to implement different recommender algorithms and compare their performance, the outline of the project is as followed.*\n",
    "\n",
    "\n",
    "<b> Outline: </b>  \n",
    "\n",
    "I. <b>Data pre-processing</b><br>  \n",
    "> Missing value handling   \n",
    "> Movie information extraction   \n",
    "> Feature engineering   \n",
    "> Addition data modification \n",
    "\n",
    "II. <b>Data exploration and visualization</b><br>   \n",
    "> Introduce weighted rating   \n",
    "> Trend of quantities of different types of films \n",
    "\n",
    "III. <b>Collabrative Filtering Algorithms</b><br> \n",
    "> Baseline, SVD, KNN with means methods   \n",
    "> Performance comparison \n",
    "\n",
    "\n",
    "IV. <b> Movie Recommender Implementation</b><br> \n",
    "> User-rating based recommender   \n",
    "> Description based recommender   \n",
    "> Keyword based recommender   \n",
    "> Hybrid recommender   \n",
    "> Deep Learning method \n",
    "\n",
    "\n",
    "<b> References: </b>\n",
    "<ul> \n",
    "<li>Hands on Machine Learning with Scikit-Learn & TensorFlow by Aurélien Géron (O'Reilly). CopyRight 2017 Aurélien Géron  </li>\n",
    "<li>https://nlp.stanford.edu/IR-book/html/htmledition/stemming-and-lemmatization-1.html</li>\n",
    "<li>Xiangnan He, Lizi Liao, Hanwang Zhang, Liqiang Nie, Xia Hu and Tat-Seng Chua (2017). Neural Collaborative Filtering. In Proceedings of WWW '17, Perth, Australia, April 03-07, 2017.</li>\n",
    "<li>Reference Lecture Note of SDSC3002"
   ]
  },
  {
   "cell_type": "markdown",
   "id": "e4d5170e",
   "metadata": {},
   "source": [
    "## Relevant Packages Import"
   ]
  },
  {
   "cell_type": "code",
   "execution_count": 1,
   "id": "96faf159",
   "metadata": {},
   "outputs": [
    {
     "data": {
      "text/html": [
       "        <script type=\"text/javascript\">\n",
       "        window.PlotlyConfig = {MathJaxConfig: 'local'};\n",
       "        if (window.MathJax) {MathJax.Hub.Config({SVG: {font: \"STIX-Web\"}});}\n",
       "        if (typeof require !== 'undefined') {\n",
       "        require.undef(\"plotly\");\n",
       "        requirejs.config({\n",
       "            paths: {\n",
       "                'plotly': ['https://cdn.plot.ly/plotly-2.4.2.min']\n",
       "            }\n",
       "        });\n",
       "        require(['plotly'], function(Plotly) {\n",
       "            window._Plotly = Plotly;\n",
       "        });\n",
       "        }\n",
       "        </script>\n",
       "        "
      ]
     },
     "metadata": {},
     "output_type": "display_data"
    },
    {
     "data": {
      "text/html": [
       "        <script type=\"text/javascript\">\n",
       "        window.PlotlyConfig = {MathJaxConfig: 'local'};\n",
       "        if (window.MathJax) {MathJax.Hub.Config({SVG: {font: \"STIX-Web\"}});}\n",
       "        if (typeof require !== 'undefined') {\n",
       "        require.undef(\"plotly\");\n",
       "        requirejs.config({\n",
       "            paths: {\n",
       "                'plotly': ['https://cdn.plot.ly/plotly-2.4.2.min']\n",
       "            }\n",
       "        });\n",
       "        require(['plotly'], function(Plotly) {\n",
       "            window._Plotly = Plotly;\n",
       "        });\n",
       "        }\n",
       "        </script>\n",
       "        "
      ]
     },
     "metadata": {},
     "output_type": "display_data"
    },
    {
     "data": {
      "text/html": [
       "        <script type=\"text/javascript\">\n",
       "        window.PlotlyConfig = {MathJaxConfig: 'local'};\n",
       "        if (window.MathJax) {MathJax.Hub.Config({SVG: {font: \"STIX-Web\"}});}\n",
       "        if (typeof require !== 'undefined') {\n",
       "        require.undef(\"plotly\");\n",
       "        requirejs.config({\n",
       "            paths: {\n",
       "                'plotly': ['https://cdn.plot.ly/plotly-2.4.2.min']\n",
       "            }\n",
       "        });\n",
       "        require(['plotly'], function(Plotly) {\n",
       "            window._Plotly = Plotly;\n",
       "        });\n",
       "        }\n",
       "        </script>\n",
       "        "
      ]
     },
     "metadata": {},
     "output_type": "display_data"
    },
    {
     "data": {
      "text/html": [
       "        <script type=\"text/javascript\">\n",
       "        window.PlotlyConfig = {MathJaxConfig: 'local'};\n",
       "        if (window.MathJax) {MathJax.Hub.Config({SVG: {font: \"STIX-Web\"}});}\n",
       "        if (typeof require !== 'undefined') {\n",
       "        require.undef(\"plotly\");\n",
       "        requirejs.config({\n",
       "            paths: {\n",
       "                'plotly': ['https://cdn.plot.ly/plotly-2.4.2.min']\n",
       "            }\n",
       "        });\n",
       "        require(['plotly'], function(Plotly) {\n",
       "            window._Plotly = Plotly;\n",
       "        });\n",
       "        }\n",
       "        </script>\n",
       "        "
      ]
     },
     "metadata": {},
     "output_type": "display_data"
    }
   ],
   "source": [
    "# import relevant packages \n",
    "import pandas as pd\n",
    "import numpy as np\n",
    "import matplotlib.pyplot as plt\n",
    "import seaborn as sns\n",
    "from ast import literal_eval\n",
    "import warnings; warnings.simplefilter('ignore')\n",
    "import ast\n",
    "\n",
    "from nltk.stem.snowball import SnowballStemmer\n",
    "from nltk.stem.wordnet import WordNetLemmatizer\n",
    "from sklearn.feature_extraction.text import TfidfVectorizer, CountVectorizer\n",
    "\n",
    "import surprise\n",
    "from surprise import SVD\n",
    "from surprise import Dataset\n",
    "from surprise.model_selection import cross_validate\n",
    "\n",
    "#animation and dynamic visualization \n",
    "import plotly\n",
    "import plotly.graph_objects as go\n",
    "import plotly.express as px              #the ploty function enable us to realize some interacting function in the visualization \n",
    "from plotly.offline import iplot,init_notebook_mode\n",
    "import cufflinks as cf                   #the visualizzation tool \n",
    "from scipy import stats                  #the package can be used to apply some basic regression method into application\n",
    "\n",
    "%matplotlib inline\n",
    "import plotly.offline as py\n",
    "import plotly.graph_objs as go\n",
    "#plotly.offline.iplot()\n",
    "from plotly.offline import download_plotlyjs, init_notebook_mode, iplot\n",
    "init_notebook_mode(connected=True)\n",
    "import cufflinks as cf\n",
    "cf.go_offline()\n",
    "cf.set_config_file(offline=True, world_readable=True)\n",
    "\n",
    "from keras.layers import Embedding, Input, dot, concatenate\n",
    "from keras.models import Model\n",
    "from IPython.display import SVG\n",
    "from keras.utils.vis_utils import model_to_dot\n",
    "from sklearn.model_selection import train_test_split\n",
    "from sklearn.metrics import mean_squared_log_error,mean_squared_error, r2_score,mean_absolute_error \n",
    "from sklearn.metrics import accuracy_score,precision_score,recall_score,f1_score\n",
    "# Deep Learning Libraries\n",
    "from keras.models import Sequential, load_model\n",
    "from keras.layers import Dense, Dropout, Flatten\n",
    "from keras.layers import Conv2D, MaxPooling2D, BatchNormalization\n",
    "from tensorflow.keras.optimizers import Adam,SGD,Adagrad,Adadelta,RMSprop\n",
    "\n"
   ]
  },
  {
   "cell_type": "markdown",
   "id": "5b463506",
   "metadata": {},
   "source": [
    "## Data Preprocessing Part  \n",
    "**Note:** *In this part, we will preprocess the data into doable format and extract useful information from the mess metadata.*"
   ]
  },
  {
   "cell_type": "code",
   "execution_count": 2,
   "id": "a3b22b7d",
   "metadata": {},
   "outputs": [
    {
     "name": "stdout",
     "output_type": "stream",
     "text": [
      "<class 'pandas.core.frame.DataFrame'>\n",
      "Int64Index: 32269 entries, 0 to 45465\n",
      "Data columns (total 12 columns):\n",
      " #   Column                Non-Null Count  Dtype  \n",
      "---  ------                --------------  -----  \n",
      " 0   genres                32269 non-null  object \n",
      " 1   id                    32269 non-null  int32  \n",
      " 2   imdb_id               32256 non-null  object \n",
      " 3   overview              32200 non-null  object \n",
      " 4   popularity            32267 non-null  object \n",
      " 5   production_companies  23663 non-null  object \n",
      " 6   production_countries  27047 non-null  object \n",
      " 7   release_date          32269 non-null  object \n",
      " 8   tagline               17933 non-null  object \n",
      " 9   title                 32267 non-null  object \n",
      " 10  vote_average          32267 non-null  float64\n",
      " 11  vote_count            32267 non-null  float64\n",
      "dtypes: float64(2), int32(1), object(9)\n",
      "memory usage: 3.1+ MB\n"
     ]
    }
   ],
   "source": [
    "data = pd.read_csv(\"movies_metadata.csv\")\n",
    "data['genres'] = data['genres'].fillna('[]').apply(literal_eval)\\\n",
    "    .apply(lambda x: [i['name'] for i in x] if isinstance(x, list) else [])\n",
    "\n",
    "# since the english movies are the majority of the dataset\n",
    "# we choose to only recommend the english movies \n",
    "data = data[data ['original_language'] == 'en']\n",
    "\n",
    "data = data.drop(['belongs_to_collection','adult','homepage','original_language',\\\n",
    "                  'original_title','poster_path','status','spoken_languages',\\\n",
    "                  'video','budget','revenue','runtime'],axis = 1)\n",
    "\n",
    "data['production_countries'] = data['production_countries'].fillna('[]')\\\n",
    "    .apply(ast.literal_eval).apply(lambda x: [i['name'] for i in x] if isinstance(x, list) else [])\n",
    "data['production_countries'] = data['production_countries'].apply(lambda x: x[0] if x!= [] else np.nan)\n",
    "\n",
    "data['production_companies'] = data['production_companies'].fillna('[]')\\\n",
    "    .apply(ast.literal_eval).apply(lambda x: [i['name'] for i in x] if isinstance(x, list) else [])\n",
    "data['production_companies'] = data['production_companies'].apply(lambda x: x[0] if x!= [] else np.nan)\n",
    "\n",
    "data['release_date'] = data['release_date'].fillna('0').apply(lambda x: x.split('-')[0] )\n",
    "\n",
    "data['id'] = data['id'].astype(int)\n",
    "data.info()"
   ]
  },
  {
   "cell_type": "code",
   "execution_count": 3,
   "id": "ce22eab5",
   "metadata": {},
   "outputs": [],
   "source": [
    "# process the data from other sources and extract the director and actor information from credits\n",
    "# keywords information from keywords dataset \n",
    "credits = pd.read_csv('credits.csv')\n",
    "credits['id'] = credits['id'].astype(int)\n",
    "\n",
    "def get_director(list):\n",
    "    for i in list:\n",
    "        if i['job'] == 'Director': return i['name']\n",
    "    return np.nan\n",
    "\n",
    "credits[\"director\"] = credits['crew'].fillna('[]').apply(ast.literal_eval).\\\n",
    "                    apply(get_director)\n",
    "\n",
    "# the liter_eval function is used to transform the data type into their original format\n",
    "credits[\"actors\"] = credits['cast'].fillna('[]').apply(ast.literal_eval).\\\n",
    "                    apply(lambda x: [i['name'] for i in x] if isinstance(x, list) else []).\\\n",
    "                    apply(lambda x: x[:3] if len(x) >=3 else x)\n",
    "\n",
    "credits = credits.drop(['cast','crew'],axis = 1)\n",
    "\n",
    "keywords = pd.read_csv('keywords.csv')\n",
    "keywords['id'] = keywords['id'].astype(int)\n",
    "\n",
    "keywords['keylist'] = keywords['keywords'].fillna('[]').apply(ast.literal_eval).\\\n",
    "                    apply(lambda x: [i['name'] for i in x] if isinstance(x, list) else [])\n",
    "\n",
    "keywords = keywords.drop(['keywords'],axis = 1) "
   ]
  },
  {
   "cell_type": "code",
   "execution_count": 54,
   "id": "d1b9aa26",
   "metadata": {},
   "outputs": [
    {
     "data": {
      "text/html": [
       "<div>\n",
       "<style scoped>\n",
       "    .dataframe tbody tr th:only-of-type {\n",
       "        vertical-align: middle;\n",
       "    }\n",
       "\n",
       "    .dataframe tbody tr th {\n",
       "        vertical-align: top;\n",
       "    }\n",
       "\n",
       "    .dataframe thead th {\n",
       "        text-align: right;\n",
       "    }\n",
       "</style>\n",
       "<table border=\"1\" class=\"dataframe\">\n",
       "  <thead>\n",
       "    <tr style=\"text-align: right;\">\n",
       "      <th></th>\n",
       "      <th>0</th>\n",
       "      <th>1</th>\n",
       "      <th>2</th>\n",
       "    </tr>\n",
       "  </thead>\n",
       "  <tbody>\n",
       "    <tr>\n",
       "      <th>genres</th>\n",
       "      <td>[Animation, Comedy, Family]</td>\n",
       "      <td>[Adventure, Fantasy, Family]</td>\n",
       "      <td>[Romance, Comedy]</td>\n",
       "    </tr>\n",
       "    <tr>\n",
       "      <th>id</th>\n",
       "      <td>862</td>\n",
       "      <td>8844</td>\n",
       "      <td>15602</td>\n",
       "    </tr>\n",
       "    <tr>\n",
       "      <th>imdb_id</th>\n",
       "      <td>tt0114709</td>\n",
       "      <td>tt0113497</td>\n",
       "      <td>tt0113228</td>\n",
       "    </tr>\n",
       "    <tr>\n",
       "      <th>overview</th>\n",
       "      <td>Led by Woody, Andy's toys live happily in his ...</td>\n",
       "      <td>When siblings Judy and Peter discover an encha...</td>\n",
       "      <td>A family wedding reignites the ancient feud be...</td>\n",
       "    </tr>\n",
       "    <tr>\n",
       "      <th>popularity</th>\n",
       "      <td>21.946943</td>\n",
       "      <td>17.015539</td>\n",
       "      <td>11.7129</td>\n",
       "    </tr>\n",
       "    <tr>\n",
       "      <th>production_companies</th>\n",
       "      <td>Pixar Animation Studios</td>\n",
       "      <td>TriStar Pictures</td>\n",
       "      <td>Warner Bros.</td>\n",
       "    </tr>\n",
       "    <tr>\n",
       "      <th>production_countries</th>\n",
       "      <td>United States of America</td>\n",
       "      <td>United States of America</td>\n",
       "      <td>United States of America</td>\n",
       "    </tr>\n",
       "    <tr>\n",
       "      <th>release_date</th>\n",
       "      <td>1995</td>\n",
       "      <td>1995</td>\n",
       "      <td>1995</td>\n",
       "    </tr>\n",
       "    <tr>\n",
       "      <th>tagline</th>\n",
       "      <td>NaN</td>\n",
       "      <td>Roll the dice and unleash the excitement!</td>\n",
       "      <td>Still Yelling. Still Fighting. Still Ready for...</td>\n",
       "    </tr>\n",
       "    <tr>\n",
       "      <th>title</th>\n",
       "      <td>Toy Story</td>\n",
       "      <td>Jumanji</td>\n",
       "      <td>Grumpier Old Men</td>\n",
       "    </tr>\n",
       "    <tr>\n",
       "      <th>vote_average</th>\n",
       "      <td>7.7</td>\n",
       "      <td>6.9</td>\n",
       "      <td>6.5</td>\n",
       "    </tr>\n",
       "    <tr>\n",
       "      <th>vote_count</th>\n",
       "      <td>5415.0</td>\n",
       "      <td>2413.0</td>\n",
       "      <td>92.0</td>\n",
       "    </tr>\n",
       "    <tr>\n",
       "      <th>director_x</th>\n",
       "      <td>[John Lasseter]</td>\n",
       "      <td>[Joe Johnston]</td>\n",
       "      <td>[Howard Deutch]</td>\n",
       "    </tr>\n",
       "    <tr>\n",
       "      <th>actors_x</th>\n",
       "      <td>[Tom Hanks, Tim Allen, Don Rickles]</td>\n",
       "      <td>[Robin Williams, Jonathan Hyde, Kirsten Dunst]</td>\n",
       "      <td>[Walter Matthau, Jack Lemmon, Ann-Margret]</td>\n",
       "    </tr>\n",
       "    <tr>\n",
       "      <th>keylist_x</th>\n",
       "      <td>[jealousi, toy, boy, friendship, friend, rival...</td>\n",
       "      <td>[boardgam, disappear, basedonchildren'sbook, n...</td>\n",
       "      <td>[fish, bestfriend, duringcreditssting]</td>\n",
       "    </tr>\n",
       "    <tr>\n",
       "      <th>text</th>\n",
       "      <td>Led by Woody, Andy's toys live happily in his ...</td>\n",
       "      <td>Roll the dice and unleash the excitement!When ...</td>\n",
       "      <td>Still Yelling. Still Fighting. Still Ready for...</td>\n",
       "    </tr>\n",
       "    <tr>\n",
       "      <th>new_doc</th>\n",
       "      <td>jealousy toy boy friendship friends rivalry bo...</td>\n",
       "      <td>boardgame disappearance basedonchildren'sbook ...</td>\n",
       "      <td>fishing bestfriend duringcreditsstinger oldmen...</td>\n",
       "    </tr>\n",
       "    <tr>\n",
       "      <th>feature</th>\n",
       "      <td>jealousi toy boy friendship friend rivalri toy...</td>\n",
       "      <td>boardgam disappear basedonchildren'sbook newho...</td>\n",
       "      <td>fish bestfriend duringcreditssting Howard Deut...</td>\n",
       "    </tr>\n",
       "    <tr>\n",
       "      <th>weighted</th>\n",
       "      <td>7.430411</td>\n",
       "      <td>6.53008</td>\n",
       "      <td>5.289934</td>\n",
       "    </tr>\n",
       "    <tr>\n",
       "      <th>director_y</th>\n",
       "      <td>John Lasseter</td>\n",
       "      <td>Joe Johnston</td>\n",
       "      <td>Howard Deutch</td>\n",
       "    </tr>\n",
       "    <tr>\n",
       "      <th>actors_y</th>\n",
       "      <td>[Tom Hanks, Tim Allen, Don Rickles]</td>\n",
       "      <td>[Robin Williams, Jonathan Hyde, Kirsten Dunst]</td>\n",
       "      <td>[Walter Matthau, Jack Lemmon, Ann-Margret]</td>\n",
       "    </tr>\n",
       "    <tr>\n",
       "      <th>keylist_y</th>\n",
       "      <td>[jealousy, toy, boy, friendship, friends, riva...</td>\n",
       "      <td>[board game, disappearance, based on children'...</td>\n",
       "      <td>[fishing, best friend, duringcreditsstinger, o...</td>\n",
       "    </tr>\n",
       "  </tbody>\n",
       "</table>\n",
       "</div>"
      ],
      "text/plain": [
       "                                                                      0  \\\n",
       "genres                                      [Animation, Comedy, Family]   \n",
       "id                                                                  862   \n",
       "imdb_id                                                       tt0114709   \n",
       "overview              Led by Woody, Andy's toys live happily in his ...   \n",
       "popularity                                                    21.946943   \n",
       "production_companies                            Pixar Animation Studios   \n",
       "production_countries                           United States of America   \n",
       "release_date                                                       1995   \n",
       "tagline                                                             NaN   \n",
       "title                                                         Toy Story   \n",
       "vote_average                                                        7.7   \n",
       "vote_count                                                       5415.0   \n",
       "director_x                                              [John Lasseter]   \n",
       "actors_x                            [Tom Hanks, Tim Allen, Don Rickles]   \n",
       "keylist_x             [jealousi, toy, boy, friendship, friend, rival...   \n",
       "text                  Led by Woody, Andy's toys live happily in his ...   \n",
       "new_doc               jealousy toy boy friendship friends rivalry bo...   \n",
       "feature               jealousi toy boy friendship friend rivalri toy...   \n",
       "weighted                                                       7.430411   \n",
       "director_y                                                John Lasseter   \n",
       "actors_y                            [Tom Hanks, Tim Allen, Don Rickles]   \n",
       "keylist_y             [jealousy, toy, boy, friendship, friends, riva...   \n",
       "\n",
       "                                                                      1  \\\n",
       "genres                                     [Adventure, Fantasy, Family]   \n",
       "id                                                                 8844   \n",
       "imdb_id                                                       tt0113497   \n",
       "overview              When siblings Judy and Peter discover an encha...   \n",
       "popularity                                                    17.015539   \n",
       "production_companies                                   TriStar Pictures   \n",
       "production_countries                           United States of America   \n",
       "release_date                                                       1995   \n",
       "tagline                       Roll the dice and unleash the excitement!   \n",
       "title                                                           Jumanji   \n",
       "vote_average                                                        6.9   \n",
       "vote_count                                                       2413.0   \n",
       "director_x                                               [Joe Johnston]   \n",
       "actors_x                 [Robin Williams, Jonathan Hyde, Kirsten Dunst]   \n",
       "keylist_x             [boardgam, disappear, basedonchildren'sbook, n...   \n",
       "text                  Roll the dice and unleash the excitement!When ...   \n",
       "new_doc               boardgame disappearance basedonchildren'sbook ...   \n",
       "feature               boardgam disappear basedonchildren'sbook newho...   \n",
       "weighted                                                        6.53008   \n",
       "director_y                                                 Joe Johnston   \n",
       "actors_y                 [Robin Williams, Jonathan Hyde, Kirsten Dunst]   \n",
       "keylist_y             [board game, disappearance, based on children'...   \n",
       "\n",
       "                                                                      2  \n",
       "genres                                                [Romance, Comedy]  \n",
       "id                                                                15602  \n",
       "imdb_id                                                       tt0113228  \n",
       "overview              A family wedding reignites the ancient feud be...  \n",
       "popularity                                                      11.7129  \n",
       "production_companies                                       Warner Bros.  \n",
       "production_countries                           United States of America  \n",
       "release_date                                                       1995  \n",
       "tagline               Still Yelling. Still Fighting. Still Ready for...  \n",
       "title                                                  Grumpier Old Men  \n",
       "vote_average                                                        6.5  \n",
       "vote_count                                                         92.0  \n",
       "director_x                                              [Howard Deutch]  \n",
       "actors_x                     [Walter Matthau, Jack Lemmon, Ann-Margret]  \n",
       "keylist_x                        [fish, bestfriend, duringcreditssting]  \n",
       "text                  Still Yelling. Still Fighting. Still Ready for...  \n",
       "new_doc               fishing bestfriend duringcreditsstinger oldmen...  \n",
       "feature               fish bestfriend duringcreditssting Howard Deut...  \n",
       "weighted                                                       5.289934  \n",
       "director_y                                                Howard Deutch  \n",
       "actors_y                     [Walter Matthau, Jack Lemmon, Ann-Margret]  \n",
       "keylist_y             [fishing, best friend, duringcreditsstinger, o...  "
      ]
     },
     "execution_count": 54,
     "metadata": {},
     "output_type": "execute_result"
    }
   ],
   "source": [
    "# merge the metadata together with the outside source information \n",
    "data = data.merge(credits, on='id')\n",
    "data = data.merge(keywords, on='id')\n",
    "data = data.reset_index(drop = True)\n",
    "data.head(3).transpose()"
   ]
  },
  {
   "cell_type": "code",
   "execution_count": 5,
   "id": "cc57c44a",
   "metadata": {},
   "outputs": [
    {
     "data": {
      "text/html": [
       "<div>\n",
       "<style scoped>\n",
       "    .dataframe tbody tr th:only-of-type {\n",
       "        vertical-align: middle;\n",
       "    }\n",
       "\n",
       "    .dataframe tbody tr th {\n",
       "        vertical-align: top;\n",
       "    }\n",
       "\n",
       "    .dataframe thead th {\n",
       "        text-align: right;\n",
       "    }\n",
       "</style>\n",
       "<table border=\"1\" class=\"dataframe\">\n",
       "  <thead>\n",
       "    <tr style=\"text-align: right;\">\n",
       "      <th></th>\n",
       "      <th>userId</th>\n",
       "      <th>movieId</th>\n",
       "      <th>rating</th>\n",
       "      <th>timestamp</th>\n",
       "    </tr>\n",
       "  </thead>\n",
       "  <tbody>\n",
       "    <tr>\n",
       "      <th>0</th>\n",
       "      <td>1</td>\n",
       "      <td>31</td>\n",
       "      <td>2.5</td>\n",
       "      <td>1260759144</td>\n",
       "    </tr>\n",
       "    <tr>\n",
       "      <th>1</th>\n",
       "      <td>1</td>\n",
       "      <td>1029</td>\n",
       "      <td>3.0</td>\n",
       "      <td>1260759179</td>\n",
       "    </tr>\n",
       "    <tr>\n",
       "      <th>2</th>\n",
       "      <td>1</td>\n",
       "      <td>1061</td>\n",
       "      <td>3.0</td>\n",
       "      <td>1260759182</td>\n",
       "    </tr>\n",
       "    <tr>\n",
       "      <th>3</th>\n",
       "      <td>1</td>\n",
       "      <td>1129</td>\n",
       "      <td>2.0</td>\n",
       "      <td>1260759185</td>\n",
       "    </tr>\n",
       "    <tr>\n",
       "      <th>4</th>\n",
       "      <td>1</td>\n",
       "      <td>1172</td>\n",
       "      <td>4.0</td>\n",
       "      <td>1260759205</td>\n",
       "    </tr>\n",
       "  </tbody>\n",
       "</table>\n",
       "</div>"
      ],
      "text/plain": [
       "   userId  movieId  rating   timestamp\n",
       "0       1       31     2.5  1260759144\n",
       "1       1     1029     3.0  1260759179\n",
       "2       1     1061     3.0  1260759182\n",
       "3       1     1129     2.0  1260759185\n",
       "4       1     1172     4.0  1260759205"
      ]
     },
     "execution_count": 5,
     "metadata": {},
     "output_type": "execute_result"
    }
   ],
   "source": [
    "# utilize the user-rating dataset to implement the collarbrative filtering \n",
    "from surprise import Reader\n",
    "ratings = pd.read_csv('ratings_small.csv')\n",
    "ratings.head()"
   ]
  },
  {
   "cell_type": "markdown",
   "id": "a8f41e4b",
   "metadata": {},
   "source": [
    "## Data distribution and visualization part"
   ]
  },
  {
   "cell_type": "code",
   "execution_count": 6,
   "id": "23a2680c",
   "metadata": {
    "scrolled": false
   },
   "outputs": [
    {
     "name": "stdout",
     "output_type": "stream",
     "text": [
      "['Animation' 'Comedy' 'Family' 'Adventure' 'Fantasy' 'Romance' 'Drama'\n",
      " 'Action' 'Crime' 'Thriller' 'Horror' 'History' 'Science Fiction'\n",
      " 'Mystery' 'War' 'Music' 'Documentary' 'Foreign' 'Western' 'TV Movie']\n"
     ]
    }
   ],
   "source": [
    "s = data.apply(lambda x: pd.Series(x['genres']),axis=1).stack().reset_index(level=1, drop=True)\n",
    "s.name = 'classfy'\n",
    "genres = data.join(s)\n",
    "# list all the genres of the movies in the dataset\n",
    "genreslist = genres['classfy'].unique()\n",
    "newlist = np.delete(genreslist,15)\n",
    "print(newlist)"
   ]
  },
  {
   "cell_type": "code",
   "execution_count": 7,
   "id": "cc9eb658",
   "metadata": {},
   "outputs": [],
   "source": [
    "# aggregate the data by different keys \n",
    "genres = genres[genres['release_date'] != '0']\n",
    "gen = genres.groupby(by = [\"classfy\"]).agg({'id':'count'})\n",
    "year = data[data['release_date'] != '0'].groupby(by = ['release_date']).agg({'id':\"count\"})\n",
    "combine = genres.groupby(by = [\"classfy\",'release_date']).agg({'id':'count'})\n",
    "\n",
    "year = year.reset_index()\n",
    "year['release_date'] = year['release_date'].astype('int')"
   ]
  },
  {
   "cell_type": "code",
   "execution_count": 8,
   "id": "765ab983",
   "metadata": {},
   "outputs": [
    {
     "data": {
      "image/png": "[encoded data removed]",
      "text/plain": [
       "<Figure size 800x600 with 1 Axes>"
      ]
     },
     "metadata": {
      "needs_background": "light"
     },
     "output_type": "display_data"
    }
   ],
   "source": [
    "plt.figure(figsize = (8,6),dpi = 100)\n",
    "sns.barplot(data = gen.reset_index().sort_values(by = 'id',ascending= False), x = \"id\", y = 'classfy',orient = 'h')\n",
    "plt.title(\"Count of different types of movies\")\n",
    "plt.xlabel(\"Count\")\n",
    "plt.ylabel(\"Genres\")\n",
    "plt.show()"
   ]
  },
  {
   "cell_type": "code",
   "execution_count": 9,
   "id": "a18d39e9",
   "metadata": {},
   "outputs": [
    {
     "data": {
      "application/vnd.plotly.v1+json": {
       "config": {
        "plotlyServerURL": "https://plot.ly"
       },
       "data": [
        {
         "hovertemplate": "release_year=%{x}<br>Count of movies=%{y}<extra></extra>",
         "legendgroup": "",
         "line": {
          "color": "#636efa",
          "dash": "solid"
         },
         "marker": {
          "symbol": "circle"
         },
         "mode": "lines",
         "name": "",
         "orientation": "v",
         "showlegend": false,
         "type": "scatter",
         "x": [
          1878,
          1883,
          1890,
          1891,
          1892,
          1894,
          1895,
          1896,
          1897,
          1898,
          1899,
          1900,
          1901,
          1902,
          1903,
          1904,
          1905,
          1906,
          1907,
          1908,
          1909,
          1910,
          1911,
          1912,
          1913,
          1914,
          1915,
          1916,
          1917,
          1918,
          1919,
          1920,
          1921,
          1922,
          1923,
          1924,
          1925,
          1926,
          1927,
          1928,
          1929,
          1930,
          1931,
          1932,
          1933,
          1934,
          1935,
          1936,
          1937,
          1938,
          1939,
          1940,
          1941,
          1942,
          1943,
          1944,
          1945,
          1946,
          1947,
          1948,
          1949,
          1950,
          1951,
          1952,
          1953,
          1954,
          1955,
          1956,
          1957,
          1958,
          1959,
          1960,
          1961,
          1962,
          1963,
          1964,
          1965,
          1966,
          1967,
          1968,
          1969,
          1970,
          1971,
          1972,
          1973,
          1974,
          1975,
          1976,
          1977,
          1978,
          1979,
          1980,
          1981,
          1982,
          1983,
          1984,
          1985,
          1986,
          1987,
          1988,
          1989,
          1990,
          1991,
          1992,
          1993,
          1994,
          1995,
          1996,
          1997,
          1998,
          1999,
          2000,
          2001,
          2002,
          2003,
          2004,
          2005,
          2006,
          2007,
          2008,
          2009,
          2010,
          2011,
          2012,
          2013,
          2014,
          2015
         ],
         "xaxis": "x",
         "y": [
          1,
          1,
          2,
          1,
          2,
          13,
          1,
          5,
          3,
          5,
          2,
          12,
          7,
          1,
          7,
          4,
          3,
          5,
          3,
          3,
          9,
          5,
          4,
          12,
          6,
          15,
          24,
          30,
          14,
          10,
          17,
          23,
          34,
          26,
          18,
          26,
          30,
          37,
          35,
          55,
          59,
          68,
          95,
          130,
          129,
          125,
          134,
          129,
          136,
          113,
          127,
          145,
          137,
          137,
          141,
          128,
          136,
          112,
          142,
          146,
          148,
          159,
          162,
          168,
          163,
          149,
          155,
          167,
          198,
          166,
          158,
          139,
          127,
          142,
          138,
          165,
          151,
          178,
          174,
          204,
          179,
          227,
          246,
          235,
          220,
          231,
          197,
          204,
          208,
          208,
          221,
          265,
          237,
          235,
          238,
          258,
          290,
          297,
          347,
          375,
          338,
          331,
          327,
          342,
          375,
          432,
          458,
          489,
          497,
          556,
          539,
          566,
          623,
          664,
          623,
          652,
          800,
          878,
          950,
          1053,
          1143,
          1013,
          1161,
          1241,
          1359,
          1432,
          1347
         ],
         "yaxis": "y"
        }
       ],
       "layout": {
        "legend": {
         "tracegroupgap": 0
        },
        "template": {
         "data": {
          "bar": [
           {
            "error_x": {
             "color": "#2a3f5f"
            },
            "error_y": {
             "color": "#2a3f5f"
            },
            "marker": {
             "line": {
              "color": "#E5ECF6",
              "width": 0.5
             },
             "pattern": {
              "fillmode": "overlay",
              "size": 10,
              "solidity": 0.2
             }
            },
            "type": "bar"
           }
          ],
          "barpolar": [
           {
            "marker": {
             "line": {
              "color": "#E5ECF6",
              "width": 0.5
             },
             "pattern": {
              "fillmode": "overlay",
              "size": 10,
              "solidity": 0.2
             }
            },
            "type": "barpolar"
           }
          ],
          "carpet": [
           {
            "aaxis": {
             "endlinecolor": "#2a3f5f",
             "gridcolor": "white",
             "linecolor": "white",
             "minorgridcolor": "white",
             "startlinecolor": "#2a3f5f"
            },
            "baxis": {
             "endlinecolor": "#2a3f5f",
             "gridcolor": "white",
             "linecolor": "white",
             "minorgridcolor": "white",
             "startlinecolor": "#2a3f5f"
            },
            "type": "carpet"
           }
          ],
          "choropleth": [
           {
            "colorbar": {
             "outlinewidth": 0,
             "ticks": ""
            },
            "type": "choropleth"
           }
          ],
          "contour": [
           {
            "colorbar": {
             "outlinewidth": 0,
             "ticks": ""
            },
            "colorscale": [
             [
              0,
              "#0d0887"
             ],
             [
              0.1111111111111111,
              "#46039f"
             ],
             [
              0.2222222222222222,
              "#7201a8"
             ],
             [
              0.3333333333333333,
              "#9c179e"
             ],
             [
              0.4444444444444444,
              "#bd3786"
             ],
             [
              0.5555555555555556,
              "#d8576b"
             ],
             [
              0.6666666666666666,
              "#ed7953"
             ],
             [
              0.7777777777777778,
              "#fb9f3a"
             ],
             [
              0.8888888888888888,
              "#fdca26"
             ],
             [
              1,
              "#f0f921"
             ]
            ],
            "type": "contour"
           }
          ],
          "contourcarpet": [
           {
            "colorbar": {
             "outlinewidth": 0,
             "ticks": ""
            },
            "type": "contourcarpet"
           }
          ],
          "heatmap": [
           {
            "colorbar": {
             "outlinewidth": 0,
             "ticks": ""
            },
            "colorscale": [
             [
              0,
              "#0d0887"
             ],
             [
              0.1111111111111111,
              "#46039f"
             ],
             [
              0.2222222222222222,
              "#7201a8"
             ],
             [
              0.3333333333333333,
              "#9c179e"
             ],
             [
              0.4444444444444444,
              "#bd3786"
             ],
             [
              0.5555555555555556,
              "#d8576b"
             ],
             [
              0.6666666666666666,
              "#ed7953"
             ],
             [
              0.7777777777777778,
              "#fb9f3a"
             ],
             [
              0.8888888888888888,
              "#fdca26"
             ],
             [
              1,
              "#f0f921"
             ]
            ],
            "type": "heatmap"
           }
          ],
          "heatmapgl": [
           {
            "colorbar": {
             "outlinewidth": 0,
             "ticks": ""
            },
            "colorscale": [
             [
              0,
              "#0d0887"
             ],
             [
              0.1111111111111111,
              "#46039f"
             ],
             [
              0.2222222222222222,
              "#7201a8"
             ],
             [
              0.3333333333333333,
              "#9c179e"
             ],
             [
              0.4444444444444444,
              "#bd3786"
             ],
             [
              0.5555555555555556,
              "#d8576b"
             ],
             [
              0.6666666666666666,
              "#ed7953"
             ],
             [
              0.7777777777777778,
              "#fb9f3a"
             ],
             [
              0.8888888888888888,
              "#fdca26"
             ],
             [
              1,
              "#f0f921"
             ]
            ],
            "type": "heatmapgl"
           }
          ],
          "histogram": [
           {
            "marker": {
             "pattern": {
              "fillmode": "overlay",
              "size": 10,
              "solidity": 0.2
             }
            },
            "type": "histogram"
           }
          ],
          "histogram2d": [
           {
            "colorbar": {
             "outlinewidth": 0,
             "ticks": ""
            },
            "colorscale": [
             [
              0,
              "#0d0887"
             ],
             [
              0.1111111111111111,
              "#46039f"
             ],
             [
              0.2222222222222222,
              "#7201a8"
             ],
             [
              0.3333333333333333,
              "#9c179e"
             ],
             [
              0.4444444444444444,
              "#bd3786"
             ],
             [
              0.5555555555555556,
              "#d8576b"
             ],
             [
              0.6666666666666666,
              "#ed7953"
             ],
             [
              0.7777777777777778,
              "#fb9f3a"
             ],
             [
              0.8888888888888888,
              "#fdca26"
             ],
             [
              1,
              "#f0f921"
             ]
            ],
            "type": "histogram2d"
           }
          ],
          "histogram2dcontour": [
           {
            "colorbar": {
             "outlinewidth": 0,
             "ticks": ""
            },
            "colorscale": [
             [
              0,
              "#0d0887"
             ],
             [
              0.1111111111111111,
              "#46039f"
             ],
             [
              0.2222222222222222,
              "#7201a8"
             ],
             [
              0.3333333333333333,
              "#9c179e"
             ],
             [
              0.4444444444444444,
              "#bd3786"
             ],
             [
              0.5555555555555556,
              "#d8576b"
             ],
             [
              0.6666666666666666,
              "#ed7953"
             ],
             [
              0.7777777777777778,
              "#fb9f3a"
             ],
             [
              0.8888888888888888,
              "#fdca26"
             ],
             [
              1,
              "#f0f921"
             ]
            ],
            "type": "histogram2dcontour"
           }
          ],
          "mesh3d": [
           {
            "colorbar": {
             "outlinewidth": 0,
             "ticks": ""
            },
            "type": "mesh3d"
           }
          ],
          "parcoords": [
           {
            "line": {
             "colorbar": {
              "outlinewidth": 0,
              "ticks": ""
             }
            },
            "type": "parcoords"
           }
          ],
          "pie": [
           {
            "automargin": true,
            "type": "pie"
           }
          ],
          "scatter": [
           {
            "marker": {
             "colorbar": {
              "outlinewidth": 0,
              "ticks": ""
             }
            },
            "type": "scatter"
           }
          ],
          "scatter3d": [
           {
            "line": {
             "colorbar": {
              "outlinewidth": 0,
              "ticks": ""
             }
            },
            "marker": {
             "colorbar": {
              "outlinewidth": 0,
              "ticks": ""
             }
            },
            "type": "scatter3d"
           }
          ],
          "scattercarpet": [
           {
            "marker": {
             "colorbar": {
              "outlinewidth": 0,
              "ticks": ""
             }
            },
            "type": "scattercarpet"
           }
          ],
          "scattergeo": [
           {
            "marker": {
             "colorbar": {
              "outlinewidth": 0,
              "ticks": ""
             }
            },
            "type": "scattergeo"
           }
          ],
          "scattergl": [
           {
            "marker": {
             "colorbar": {
              "outlinewidth": 0,
              "ticks": ""
             }
            },
            "type": "scattergl"
           }
          ],
          "scattermapbox": [
           {
            "marker": {
             "colorbar": {
              "outlinewidth": 0,
              "ticks": ""
             }
            },
            "type": "scattermapbox"
           }
          ],
          "scatterpolar": [
           {
            "marker": {
             "colorbar": {
              "outlinewidth": 0,
              "ticks": ""
             }
            },
            "type": "scatterpolar"
           }
          ],
          "scatterpolargl": [
           {
            "marker": {
             "colorbar": {
              "outlinewidth": 0,
              "ticks": ""
             }
            },
            "type": "scatterpolargl"
           }
          ],
          "scatterternary": [
           {
            "marker": {
             "colorbar": {
              "outlinewidth": 0,
              "ticks": ""
             }
            },
            "type": "scatterternary"
           }
          ],
          "surface": [
           {
            "colorbar": {
             "outlinewidth": 0,
             "ticks": ""
            },
            "colorscale": [
             [
              0,
              "#0d0887"
             ],
             [
              0.1111111111111111,
              "#46039f"
             ],
             [
              0.2222222222222222,
              "#7201a8"
             ],
             [
              0.3333333333333333,
              "#9c179e"
             ],
             [
              0.4444444444444444,
              "#bd3786"
             ],
             [
              0.5555555555555556,
              "#d8576b"
             ],
             [
              0.6666666666666666,
              "#ed7953"
             ],
             [
              0.7777777777777778,
              "#fb9f3a"
             ],
             [
              0.8888888888888888,
              "#fdca26"
             ],
             [
              1,
              "#f0f921"
             ]
            ],
            "type": "surface"
           }
          ],
          "table": [
           {
            "cells": {
             "fill": {
              "color": "#EBF0F8"
             },
             "line": {
              "color": "white"
             }
            },
            "header": {
             "fill": {
              "color": "#C8D4E3"
             },
             "line": {
              "color": "white"
             }
            },
            "type": "table"
           }
          ]
         },
         "layout": {
          "annotationdefaults": {
           "arrowcolor": "#2a3f5f",
           "arrowhead": 0,
           "arrowwidth": 1
          },
          "autotypenumbers": "strict",
          "coloraxis": {
           "colorbar": {
            "outlinewidth": 0,
            "ticks": ""
           }
          },
          "colorscale": {
           "diverging": [
            [
             0,
             "#8e0152"
            ],
            [
             0.1,
             "#c51b7d"
            ],
            [
             0.2,
             "#de77ae"
            ],
            [
             0.3,
             "#f1b6da"
            ],
            [
             0.4,
             "#fde0ef"
            ],
            [
             0.5,
             "#f7f7f7"
            ],
            [
             0.6,
             "#e6f5d0"
            ],
            [
             0.7,
             "#b8e186"
            ],
            [
             0.8,
             "#7fbc41"
            ],
            [
             0.9,
             "#4d9221"
            ],
            [
             1,
             "#276419"
            ]
           ],
           "sequential": [
            [
             0,
             "#0d0887"
            ],
            [
             0.1111111111111111,
             "#46039f"
            ],
            [
             0.2222222222222222,
             "#7201a8"
            ],
            [
             0.3333333333333333,
             "#9c179e"
            ],
            [
             0.4444444444444444,
             "#bd3786"
            ],
            [
             0.5555555555555556,
             "#d8576b"
            ],
            [
             0.6666666666666666,
             "#ed7953"
            ],
            [
             0.7777777777777778,
             "#fb9f3a"
            ],
            [
             0.8888888888888888,
             "#fdca26"
            ],
            [
             1,
             "#f0f921"
            ]
           ],
           "sequentialminus": [
            [
             0,
             "#0d0887"
            ],
            [
             0.1111111111111111,
             "#46039f"
            ],
            [
             0.2222222222222222,
             "#7201a8"
            ],
            [
             0.3333333333333333,
             "#9c179e"
            ],
            [
             0.4444444444444444,
             "#bd3786"
            ],
            [
             0.5555555555555556,
             "#d8576b"
            ],
            [
             0.6666666666666666,
             "#ed7953"
            ],
            [
             0.7777777777777778,
             "#fb9f3a"
            ],
            [
             0.8888888888888888,
             "#fdca26"
            ],
            [
             1,
             "#f0f921"
            ]
           ]
          },
          "colorway": [
           "#636efa",
           "#EF553B",
           "#00cc96",
           "#ab63fa",
           "#FFA15A",
           "#19d3f3",
           "#FF6692",
           "#B6E880",
           "#FF97FF",
           "#FECB52"
          ],
          "font": {
           "color": "#2a3f5f"
          },
          "geo": {
           "bgcolor": "white",
           "lakecolor": "white",
           "landcolor": "#E5ECF6",
           "showlakes": true,
           "showland": true,
           "subunitcolor": "white"
          },
          "hoverlabel": {
           "align": "left"
          },
          "hovermode": "closest",
          "mapbox": {
           "style": "light"
          },
          "paper_bgcolor": "white",
          "plot_bgcolor": "#E5ECF6",
          "polar": {
           "angularaxis": {
            "gridcolor": "white",
            "linecolor": "white",
            "ticks": ""
           },
           "bgcolor": "#E5ECF6",
           "radialaxis": {
            "gridcolor": "white",
            "linecolor": "white",
            "ticks": ""
           }
          },
          "scene": {
           "xaxis": {
            "backgroundcolor": "#E5ECF6",
            "gridcolor": "white",
            "gridwidth": 2,
            "linecolor": "white",
            "showbackground": true,
            "ticks": "",
            "zerolinecolor": "white"
           },
           "yaxis": {
            "backgroundcolor": "#E5ECF6",
            "gridcolor": "white",
            "gridwidth": 2,
            "linecolor": "white",
            "showbackground": true,
            "ticks": "",
            "zerolinecolor": "white"
           },
           "zaxis": {
            "backgroundcolor": "#E5ECF6",
            "gridcolor": "white",
            "gridwidth": 2,
            "linecolor": "white",
            "showbackground": true,
            "ticks": "",
            "zerolinecolor": "white"
           }
          },
          "shapedefaults": {
           "line": {
            "color": "#2a3f5f"
           }
          },
          "ternary": {
           "aaxis": {
            "gridcolor": "white",
            "linecolor": "white",
            "ticks": ""
           },
           "baxis": {
            "gridcolor": "white",
            "linecolor": "white",
            "ticks": ""
           },
           "bgcolor": "#E5ECF6",
           "caxis": {
            "gridcolor": "white",
            "linecolor": "white",
            "ticks": ""
           }
          },
          "title": {
           "x": 0.05
          },
          "xaxis": {
           "automargin": true,
           "gridcolor": "white",
           "linecolor": "white",
           "ticks": "",
           "title": {
            "standoff": 15
           },
           "zerolinecolor": "white",
           "zerolinewidth": 2
          },
          "yaxis": {
           "automargin": true,
           "gridcolor": "white",
           "linecolor": "white",
           "ticks": "",
           "title": {
            "standoff": 15
           },
           "zerolinecolor": "white",
           "zerolinewidth": 2
          }
         }
        },
        "title": {
         "text": "The trend of movie quantities by year"
        },
        "xaxis": {
         "anchor": "y",
         "domain": [
          0,
          1
         ],
         "rangeslider": {
          "visible": true
         },
         "title": {
          "text": "release_year"
         }
        },
        "yaxis": {
         "anchor": "x",
         "domain": [
          0,
          1
         ],
         "title": {
          "text": "Count of movies"
         }
        }
       }
      },
      "text/html": [
       "<div>                            <div id=\"43bf90a6-b489-4e26-81b4-b6de338de4a1\" class=\"plotly-graph-div\" style=\"height:525px; width:100%;\"></div>            <script type=\"text/javascript\">                require([\"plotly\"], function(Plotly) {                    window.PLOTLYENV=window.PLOTLYENV || {};                                    if (document.getElementById(\"43bf90a6-b489-4e26-81b4-b6de338de4a1\")) {                    Plotly.newPlot(                        \"43bf90a6-b489-4e26-81b4-b6de338de4a1\",                        [{\"hovertemplate\":\"release_year=%{x}<br>Count of movies=%{y}<extra></extra>\",\"legendgroup\":\"\",\"line\":{\"color\":\"#636efa\",\"dash\":\"solid\"},\"marker\":{\"symbol\":\"circle\"},\"mode\":\"lines\",\"name\":\"\",\"orientation\":\"v\",\"showlegend\":false,\"type\":\"scatter\",\"x\":[1878,1883,1890,1891,1892,1894,1895,1896,1897,1898,1899,1900,1901,1902,1903,1904,1905,1906,1907,1908,1909,1910,1911,1912,1913,1914,1915,1916,1917,1918,1919,1920,1921,1922,1923,1924,1925,1926,1927,1928,1929,1930,1931,1932,1933,1934,1935,1936,1937,1938,1939,1940,1941,1942,1943,1944,1945,1946,1947,1948,1949,1950,1951,1952,1953,1954,1955,1956,1957,1958,1959,1960,1961,1962,1963,1964,1965,1966,1967,1968,1969,1970,1971,1972,1973,1974,1975,1976,1977,1978,1979,1980,1981,1982,1983,1984,1985,1986,1987,1988,1989,1990,1991,1992,1993,1994,1995,1996,1997,1998,1999,2000,2001,2002,2003,2004,2005,2006,2007,2008,2009,2010,2011,2012,2013,2014,2015],\"xaxis\":\"x\",\"y\":[1,1,2,1,2,13,1,5,3,5,2,12,7,1,7,4,3,5,3,3,9,5,4,12,6,15,24,30,14,10,17,23,34,26,18,26,30,37,35,55,59,68,95,130,129,125,134,129,136,113,127,145,137,137,141,128,136,112,142,146,148,159,162,168,163,149,155,167,198,166,158,139,127,142,138,165,151,178,174,204,179,227,246,235,220,231,197,204,208,208,221,265,237,235,238,258,290,297,347,375,338,331,327,342,375,432,458,489,497,556,539,566,623,664,623,652,800,878,950,1053,1143,1013,1161,1241,1359,1432,1347],\"yaxis\":\"y\"}],                        {\"legend\":{\"tracegroupgap\":0},\"template\":{\"data\":{\"bar\":[{\"error_x\":{\"color\":\"#2a3f5f\"},\"error_y\":{\"color\":\"#2a3f5f\"},\"marker\":{\"line\":{\"color\":\"#E5ECF6\",\"width\":0.5},\"pattern\":{\"fillmode\":\"overlay\",\"size\":10,\"solidity\":0.2}},\"type\":\"bar\"}],\"barpolar\":[{\"marker\":{\"line\":{\"color\":\"#E5ECF6\",\"width\":0.5},\"pattern\":{\"fillmode\":\"overlay\",\"size\":10,\"solidity\":0.2}},\"type\":\"barpolar\"}],\"carpet\":[{\"aaxis\":{\"endlinecolor\":\"#2a3f5f\",\"gridcolor\":\"white\",\"linecolor\":\"white\",\"minorgridcolor\":\"white\",\"startlinecolor\":\"#2a3f5f\"},\"baxis\":{\"endlinecolor\":\"#2a3f5f\",\"gridcolor\":\"white\",\"linecolor\":\"white\",\"minorgridcolor\":\"white\",\"startlinecolor\":\"#2a3f5f\"},\"type\":\"carpet\"}],\"choropleth\":[{\"colorbar\":{\"outlinewidth\":0,\"ticks\":\"\"},\"type\":\"choropleth\"}],\"contour\":[{\"colorbar\":{\"outlinewidth\":0,\"ticks\":\"\"},\"colorscale\":[[0.0,\"#0d0887\"],[0.1111111111111111,\"#46039f\"],[0.2222222222222222,\"#7201a8\"],[0.3333333333333333,\"#9c179e\"],[0.4444444444444444,\"#bd3786\"],[0.5555555555555556,\"#d8576b\"],[0.6666666666666666,\"#ed7953\"],[0.7777777777777778,\"#fb9f3a\"],[0.8888888888888888,\"#fdca26\"],[1.0,\"#f0f921\"]],\"type\":\"contour\"}],\"contourcarpet\":[{\"colorbar\":{\"outlinewidth\":0,\"ticks\":\"\"},\"type\":\"contourcarpet\"}],\"heatmap\":[{\"colorbar\":{\"outlinewidth\":0,\"ticks\":\"\"},\"colorscale\":[[0.0,\"#0d0887\"],[0.1111111111111111,\"#46039f\"],[0.2222222222222222,\"#7201a8\"],[0.3333333333333333,\"#9c179e\"],[0.4444444444444444,\"#bd3786\"],[0.5555555555555556,\"#d8576b\"],[0.6666666666666666,\"#ed7953\"],[0.7777777777777778,\"#fb9f3a\"],[0.8888888888888888,\"#fdca26\"],[1.0,\"#f0f921\"]],\"type\":\"heatmap\"}],\"heatmapgl\":[{\"colorbar\":{\"outlinewidth\":0,\"ticks\":\"\"},\"colorscale\":[[0.0,\"#0d0887\"],[0.1111111111111111,\"#46039f\"],[0.2222222222222222,\"#7201a8\"],[0.3333333333333333,\"#9c179e\"],[0.4444444444444444,\"#bd3786\"],[0.5555555555555556,\"#d8576b\"],[0.6666666666666666,\"#ed7953\"],[0.7777777777777778,\"#fb9f3a\"],[0.8888888888888888,\"#fdca26\"],[1.0,\"#f0f921\"]],\"type\":\"heatmapgl\"}],\"histogram\":[{\"marker\":{\"pattern\":{\"fillmode\":\"overlay\",\"size\":10,\"solidity\":0.2}},\"type\":\"histogram\"}],\"histogram2d\":[{\"colorbar\":{\"outlinewidth\":0,\"ticks\":\"\"},\"colorscale\":[[0.0,\"#0d0887\"],[0.1111111111111111,\"#46039f\"],[0.2222222222222222,\"#7201a8\"],[0.3333333333333333,\"#9c179e\"],[0.4444444444444444,\"#bd3786\"],[0.5555555555555556,\"#d8576b\"],[0.6666666666666666,\"#ed7953\"],[0.7777777777777778,\"#fb9f3a\"],[0.8888888888888888,\"#fdca26\"],[1.0,\"#f0f921\"]],\"type\":\"histogram2d\"}],\"histogram2dcontour\":[{\"colorbar\":{\"outlinewidth\":0,\"ticks\":\"\"},\"colorscale\":[[0.0,\"#0d0887\"],[0.1111111111111111,\"#46039f\"],[0.2222222222222222,\"#7201a8\"],[0.3333333333333333,\"#9c179e\"],[0.4444444444444444,\"#bd3786\"],[0.5555555555555556,\"#d8576b\"],[0.6666666666666666,\"#ed7953\"],[0.7777777777777778,\"#fb9f3a\"],[0.8888888888888888,\"#fdca26\"],[1.0,\"#f0f921\"]],\"type\":\"histogram2dcontour\"}],\"mesh3d\":[{\"colorbar\":{\"outlinewidth\":0,\"ticks\":\"\"},\"type\":\"mesh3d\"}],\"parcoords\":[{\"line\":{\"colorbar\":{\"outlinewidth\":0,\"ticks\":\"\"}},\"type\":\"parcoords\"}],\"pie\":[{\"automargin\":true,\"type\":\"pie\"}],\"scatter\":[{\"marker\":{\"colorbar\":{\"outlinewidth\":0,\"ticks\":\"\"}},\"type\":\"scatter\"}],\"scatter3d\":[{\"line\":{\"colorbar\":{\"outlinewidth\":0,\"ticks\":\"\"}},\"marker\":{\"colorbar\":{\"outlinewidth\":0,\"ticks\":\"\"}},\"type\":\"scatter3d\"}],\"scattercarpet\":[{\"marker\":{\"colorbar\":{\"outlinewidth\":0,\"ticks\":\"\"}},\"type\":\"scattercarpet\"}],\"scattergeo\":[{\"marker\":{\"colorbar\":{\"outlinewidth\":0,\"ticks\":\"\"}},\"type\":\"scattergeo\"}],\"scattergl\":[{\"marker\":{\"colorbar\":{\"outlinewidth\":0,\"ticks\":\"\"}},\"type\":\"scattergl\"}],\"scattermapbox\":[{\"marker\":{\"colorbar\":{\"outlinewidth\":0,\"ticks\":\"\"}},\"type\":\"scattermapbox\"}],\"scatterpolar\":[{\"marker\":{\"colorbar\":{\"outlinewidth\":0,\"ticks\":\"\"}},\"type\":\"scatterpolar\"}],\"scatterpolargl\":[{\"marker\":{\"colorbar\":{\"outlinewidth\":0,\"ticks\":\"\"}},\"type\":\"scatterpolargl\"}],\"scatterternary\":[{\"marker\":{\"colorbar\":{\"outlinewidth\":0,\"ticks\":\"\"}},\"type\":\"scatterternary\"}],\"surface\":[{\"colorbar\":{\"outlinewidth\":0,\"ticks\":\"\"},\"colorscale\":[[0.0,\"#0d0887\"],[0.1111111111111111,\"#46039f\"],[0.2222222222222222,\"#7201a8\"],[0.3333333333333333,\"#9c179e\"],[0.4444444444444444,\"#bd3786\"],[0.5555555555555556,\"#d8576b\"],[0.6666666666666666,\"#ed7953\"],[0.7777777777777778,\"#fb9f3a\"],[0.8888888888888888,\"#fdca26\"],[1.0,\"#f0f921\"]],\"type\":\"surface\"}],\"table\":[{\"cells\":{\"fill\":{\"color\":\"#EBF0F8\"},\"line\":{\"color\":\"white\"}},\"header\":{\"fill\":{\"color\":\"#C8D4E3\"},\"line\":{\"color\":\"white\"}},\"type\":\"table\"}]},\"layout\":{\"annotationdefaults\":{\"arrowcolor\":\"#2a3f5f\",\"arrowhead\":0,\"arrowwidth\":1},\"autotypenumbers\":\"strict\",\"coloraxis\":{\"colorbar\":{\"outlinewidth\":0,\"ticks\":\"\"}},\"colorscale\":{\"diverging\":[[0,\"#8e0152\"],[0.1,\"#c51b7d\"],[0.2,\"#de77ae\"],[0.3,\"#f1b6da\"],[0.4,\"#fde0ef\"],[0.5,\"#f7f7f7\"],[0.6,\"#e6f5d0\"],[0.7,\"#b8e186\"],[0.8,\"#7fbc41\"],[0.9,\"#4d9221\"],[1,\"#276419\"]],\"sequential\":[[0.0,\"#0d0887\"],[0.1111111111111111,\"#46039f\"],[0.2222222222222222,\"#7201a8\"],[0.3333333333333333,\"#9c179e\"],[0.4444444444444444,\"#bd3786\"],[0.5555555555555556,\"#d8576b\"],[0.6666666666666666,\"#ed7953\"],[0.7777777777777778,\"#fb9f3a\"],[0.8888888888888888,\"#fdca26\"],[1.0,\"#f0f921\"]],\"sequentialminus\":[[0.0,\"#0d0887\"],[0.1111111111111111,\"#46039f\"],[0.2222222222222222,\"#7201a8\"],[0.3333333333333333,\"#9c179e\"],[0.4444444444444444,\"#bd3786\"],[0.5555555555555556,\"#d8576b\"],[0.6666666666666666,\"#ed7953\"],[0.7777777777777778,\"#fb9f3a\"],[0.8888888888888888,\"#fdca26\"],[1.0,\"#f0f921\"]]},\"colorway\":[\"#636efa\",\"#EF553B\",\"#00cc96\",\"#ab63fa\",\"#FFA15A\",\"#19d3f3\",\"#FF6692\",\"#B6E880\",\"#FF97FF\",\"#FECB52\"],\"font\":{\"color\":\"#2a3f5f\"},\"geo\":{\"bgcolor\":\"white\",\"lakecolor\":\"white\",\"landcolor\":\"#E5ECF6\",\"showlakes\":true,\"showland\":true,\"subunitcolor\":\"white\"},\"hoverlabel\":{\"align\":\"left\"},\"hovermode\":\"closest\",\"mapbox\":{\"style\":\"light\"},\"paper_bgcolor\":\"white\",\"plot_bgcolor\":\"#E5ECF6\",\"polar\":{\"angularaxis\":{\"gridcolor\":\"white\",\"linecolor\":\"white\",\"ticks\":\"\"},\"bgcolor\":\"#E5ECF6\",\"radialaxis\":{\"gridcolor\":\"white\",\"linecolor\":\"white\",\"ticks\":\"\"}},\"scene\":{\"xaxis\":{\"backgroundcolor\":\"#E5ECF6\",\"gridcolor\":\"white\",\"gridwidth\":2,\"linecolor\":\"white\",\"showbackground\":true,\"ticks\":\"\",\"zerolinecolor\":\"white\"},\"yaxis\":{\"backgroundcolor\":\"#E5ECF6\",\"gridcolor\":\"white\",\"gridwidth\":2,\"linecolor\":\"white\",\"showbackground\":true,\"ticks\":\"\",\"zerolinecolor\":\"white\"},\"zaxis\":{\"backgroundcolor\":\"#E5ECF6\",\"gridcolor\":\"white\",\"gridwidth\":2,\"linecolor\":\"white\",\"showbackground\":true,\"ticks\":\"\",\"zerolinecolor\":\"white\"}},\"shapedefaults\":{\"line\":{\"color\":\"#2a3f5f\"}},\"ternary\":{\"aaxis\":{\"gridcolor\":\"white\",\"linecolor\":\"white\",\"ticks\":\"\"},\"baxis\":{\"gridcolor\":\"white\",\"linecolor\":\"white\",\"ticks\":\"\"},\"bgcolor\":\"#E5ECF6\",\"caxis\":{\"gridcolor\":\"white\",\"linecolor\":\"white\",\"ticks\":\"\"}},\"title\":{\"x\":0.05},\"xaxis\":{\"automargin\":true,\"gridcolor\":\"white\",\"linecolor\":\"white\",\"ticks\":\"\",\"title\":{\"standoff\":15},\"zerolinecolor\":\"white\",\"zerolinewidth\":2},\"yaxis\":{\"automargin\":true,\"gridcolor\":\"white\",\"linecolor\":\"white\",\"ticks\":\"\",\"title\":{\"standoff\":15},\"zerolinecolor\":\"white\",\"zerolinewidth\":2}}},\"title\":{\"text\":\"The trend of movie quantities by year\"},\"xaxis\":{\"anchor\":\"y\",\"domain\":[0.0,1.0],\"rangeslider\":{\"visible\":true},\"title\":{\"text\":\"release_year\"}},\"yaxis\":{\"anchor\":\"x\",\"domain\":[0.0,1.0],\"title\":{\"text\":\"Count of movies\"}}},                        {\"responsive\": true}                    ).then(function(){\n",
       "                            \n",
       "var gd = document.getElementById('43bf90a6-b489-4e26-81b4-b6de338de4a1');\n",
       "var x = new MutationObserver(function (mutations, observer) {{\n",
       "        var display = window.getComputedStyle(gd).display;\n",
       "        if (!display || display === 'none') {{\n",
       "            console.log([gd, 'removed!']);\n",
       "            Plotly.purge(gd);\n",
       "            observer.disconnect();\n",
       "        }}\n",
       "}});\n",
       "\n",
       "// Listen for the removal of the full notebook cells\n",
       "var notebookContainer = gd.closest('#notebook-container');\n",
       "if (notebookContainer) {{\n",
       "    x.observe(notebookContainer, {childList: true});\n",
       "}}\n",
       "\n",
       "// Listen for the clearing of the current output cell\n",
       "var outputEl = gd.closest('.output');\n",
       "if (outputEl) {{\n",
       "    x.observe(outputEl, {childList: true});\n",
       "}}\n",
       "\n",
       "                        })                };                });            </script>        </div>"
      ]
     },
     "metadata": {},
     "output_type": "display_data"
    }
   ],
   "source": [
    "import plotly.express as px\n",
    "# plot the overall trend of the movir quantities \n",
    "year.columns = ['release_year','Count of movies']\n",
    "\n",
    "fig = px.line(year[year['release_year']<= 2015], x='release_year', y='Count of movies', title='The trend of movie quantities by year')\n",
    "\n",
    "fig.update_xaxes(rangeslider_visible=True)\n",
    "fig.show()"
   ]
  },
  {
   "cell_type": "code",
   "execution_count": 10,
   "id": "f47d0592",
   "metadata": {
    "scrolled": false
   },
   "outputs": [
    {
     "data": {
      "application/vnd.plotly.v1+json": {
       "config": {
        "plotlyServerURL": "https://plot.ly"
       },
       "data": [
        {
         "connectgaps": true,
         "line": {
          "color": "rgb(67,67,67)",
          "width": 2
         },
         "mode": "lines",
         "name": "Drama",
         "type": "scatter",
         "x": [
          2005,
          2006,
          2007,
          2008,
          2009,
          2010,
          2011,
          2012,
          2013,
          2014,
          2015,
          2016
         ],
         "y": [
          286,
          366,
          371,
          387,
          412,
          439,
          369,
          447,
          385,
          490,
          479,
          464
         ]
        },
        {
         "marker": {
          "color": "rgb(67,67,67)",
          "size": 8
         },
         "mode": "markers",
         "type": "scatter",
         "x": [
          2005,
          2016
         ],
         "y": [
          286,
          464
         ]
        },
        {
         "connectgaps": true,
         "line": {
          "color": "rgb(115,115,115)",
          "width": 2
         },
         "mode": "lines",
         "name": "Comedy",
         "type": "scatter",
         "x": [
          2005,
          2006,
          2007,
          2008,
          2009,
          2010,
          2011,
          2012,
          2013,
          2014,
          2015,
          2016
         ],
         "y": [
          213,
          252,
          265,
          271,
          292,
          341,
          280,
          306,
          295,
          305,
          358,
          323
         ]
        },
        {
         "marker": {
          "color": "rgb(115,115,115)",
          "size": 8
         },
         "mode": "markers",
         "type": "scatter",
         "x": [
          2005,
          2016
         ],
         "y": [
          213,
          323
         ]
        },
        {
         "connectgaps": true,
         "line": {
          "color": "rgb(49,130,189)",
          "width": 4
         },
         "mode": "lines",
         "name": "Thriller",
         "type": "scatter",
         "x": [
          2005,
          2006,
          2007,
          2008,
          2009,
          2010,
          2011,
          2012,
          2013,
          2014,
          2015,
          2016
         ],
         "y": [
          123,
          144,
          208,
          200,
          217,
          256,
          232,
          228,
          223,
          256,
          271,
          287
         ]
        },
        {
         "marker": {
          "color": "rgb(49,130,189)",
          "size": 12
         },
         "mode": "markers",
         "type": "scatter",
         "x": [
          2005,
          2016
         ],
         "y": [
          123,
          287
         ]
        },
        {
         "connectgaps": true,
         "line": {
          "color": "rgb(189,189,189)",
          "width": 2
         },
         "mode": "lines",
         "name": "Romance",
         "type": "scatter",
         "x": [
          2005,
          2006,
          2007,
          2008,
          2009,
          2010,
          2011,
          2012,
          2013,
          2014,
          2015,
          2016
         ],
         "y": [
          95,
          136,
          127,
          141,
          127,
          149,
          138,
          132,
          127,
          115,
          140,
          111
         ]
        },
        {
         "marker": {
          "color": "rgb(189,189,189)",
          "size": 8
         },
         "mode": "markers",
         "type": "scatter",
         "x": [
          2005,
          2016
         ],
         "y": [
          95,
          111
         ]
        }
       ],
       "layout": {
        "annotations": [
         {
          "font": {
           "family": "Arial",
           "size": 16
          },
          "showarrow": false,
          "text": "Drama 286",
          "x": 0.05,
          "xanchor": "right",
          "xref": "paper",
          "y": 286,
          "yanchor": "middle"
         },
         {
          "font": {
           "family": "Arial",
           "size": 16
          },
          "showarrow": false,
          "text": "464",
          "x": 0.95,
          "xanchor": "left",
          "xref": "paper",
          "y": 464,
          "yanchor": "middle"
         },
         {
          "font": {
           "family": "Arial",
           "size": 16
          },
          "showarrow": false,
          "text": "Comedy 213",
          "x": 0.05,
          "xanchor": "right",
          "xref": "paper",
          "y": 213,
          "yanchor": "middle"
         },
         {
          "font": {
           "family": "Arial",
           "size": 16
          },
          "showarrow": false,
          "text": "323",
          "x": 0.95,
          "xanchor": "left",
          "xref": "paper",
          "y": 323,
          "yanchor": "middle"
         },
         {
          "font": {
           "family": "Arial",
           "size": 16
          },
          "showarrow": false,
          "text": "Thriller 123",
          "x": 0.05,
          "xanchor": "right",
          "xref": "paper",
          "y": 123,
          "yanchor": "middle"
         },
         {
          "font": {
           "family": "Arial",
           "size": 16
          },
          "showarrow": false,
          "text": "287",
          "x": 0.95,
          "xanchor": "left",
          "xref": "paper",
          "y": 287,
          "yanchor": "middle"
         },
         {
          "font": {
           "family": "Arial",
           "size": 16
          },
          "showarrow": false,
          "text": "Romance 95",
          "x": 0.05,
          "xanchor": "right",
          "xref": "paper",
          "y": 95,
          "yanchor": "middle"
         },
         {
          "font": {
           "family": "Arial",
           "size": 16
          },
          "showarrow": false,
          "text": "111",
          "x": 0.95,
          "xanchor": "left",
          "xref": "paper",
          "y": 111,
          "yanchor": "middle"
         },
         {
          "font": {
           "color": "rgb(37,37,37)",
           "family": "Arial",
           "size": 30
          },
          "showarrow": false,
          "text": "Different types of movies' trend",
          "x": 0,
          "xanchor": "left",
          "xref": "paper",
          "y": 1.05,
          "yanchor": "bottom",
          "yref": "paper"
         },
         {
          "font": {
           "color": "rgb(150,150,150)",
           "family": "Arial",
           "size": 12
          },
          "showarrow": false,
          "text": "Source: Moives DataSet from CC0: Public Domain",
          "x": 0.5,
          "xanchor": "center",
          "xref": "paper",
          "y": -0.1,
          "yanchor": "top",
          "yref": "paper"
         }
        ],
        "autosize": false,
        "margin": {
         "autoexpand": false,
         "l": 100,
         "r": 20,
         "t": 110
        },
        "plot_bgcolor": "white",
        "showlegend": false,
        "template": {
         "data": {
          "bar": [
           {
            "error_x": {
             "color": "#2a3f5f"
            },
            "error_y": {
             "color": "#2a3f5f"
            },
            "marker": {
             "line": {
              "color": "#E5ECF6",
              "width": 0.5
             },
             "pattern": {
              "fillmode": "overlay",
              "size": 10,
              "solidity": 0.2
             }
            },
            "type": "bar"
           }
          ],
          "barpolar": [
           {
            "marker": {
             "line": {
              "color": "#E5ECF6",
              "width": 0.5
             },
             "pattern": {
              "fillmode": "overlay",
              "size": 10,
              "solidity": 0.2
             }
            },
            "type": "barpolar"
           }
          ],
          "carpet": [
           {
            "aaxis": {
             "endlinecolor": "#2a3f5f",
             "gridcolor": "white",
             "linecolor": "white",
             "minorgridcolor": "white",
             "startlinecolor": "#2a3f5f"
            },
            "baxis": {
             "endlinecolor": "#2a3f5f",
             "gridcolor": "white",
             "linecolor": "white",
             "minorgridcolor": "white",
             "startlinecolor": "#2a3f5f"
            },
            "type": "carpet"
           }
          ],
          "choropleth": [
           {
            "colorbar": {
             "outlinewidth": 0,
             "ticks": ""
            },
            "type": "choropleth"
           }
          ],
          "contour": [
           {
            "colorbar": {
             "outlinewidth": 0,
             "ticks": ""
            },
            "colorscale": [
             [
              0,
              "#0d0887"
             ],
             [
              0.1111111111111111,
              "#46039f"
             ],
             [
              0.2222222222222222,
              "#7201a8"
             ],
             [
              0.3333333333333333,
              "#9c179e"
             ],
             [
              0.4444444444444444,
              "#bd3786"
             ],
             [
              0.5555555555555556,
              "#d8576b"
             ],
             [
              0.6666666666666666,
              "#ed7953"
             ],
             [
              0.7777777777777778,
              "#fb9f3a"
             ],
             [
              0.8888888888888888,
              "#fdca26"
             ],
             [
              1,
              "#f0f921"
             ]
            ],
            "type": "contour"
           }
          ],
          "contourcarpet": [
           {
            "colorbar": {
             "outlinewidth": 0,
             "ticks": ""
            },
            "type": "contourcarpet"
           }
          ],
          "heatmap": [
           {
            "colorbar": {
             "outlinewidth": 0,
             "ticks": ""
            },
            "colorscale": [
             [
              0,
              "#0d0887"
             ],
             [
              0.1111111111111111,
              "#46039f"
             ],
             [
              0.2222222222222222,
              "#7201a8"
             ],
             [
              0.3333333333333333,
              "#9c179e"
             ],
             [
              0.4444444444444444,
              "#bd3786"
             ],
             [
              0.5555555555555556,
              "#d8576b"
             ],
             [
              0.6666666666666666,
              "#ed7953"
             ],
             [
              0.7777777777777778,
              "#fb9f3a"
             ],
             [
              0.8888888888888888,
              "#fdca26"
             ],
             [
              1,
              "#f0f921"
             ]
            ],
            "type": "heatmap"
           }
          ],
          "heatmapgl": [
           {
            "colorbar": {
             "outlinewidth": 0,
             "ticks": ""
            },
            "colorscale": [
             [
              0,
              "#0d0887"
             ],
             [
              0.1111111111111111,
              "#46039f"
             ],
             [
              0.2222222222222222,
              "#7201a8"
             ],
             [
              0.3333333333333333,
              "#9c179e"
             ],
             [
              0.4444444444444444,
              "#bd3786"
             ],
             [
              0.5555555555555556,
              "#d8576b"
             ],
             [
              0.6666666666666666,
              "#ed7953"
             ],
             [
              0.7777777777777778,
              "#fb9f3a"
             ],
             [
              0.8888888888888888,
              "#fdca26"
             ],
             [
              1,
              "#f0f921"
             ]
            ],
            "type": "heatmapgl"
           }
          ],
          "histogram": [
           {
            "marker": {
             "pattern": {
              "fillmode": "overlay",
              "size": 10,
              "solidity": 0.2
             }
            },
            "type": "histogram"
           }
          ],
          "histogram2d": [
           {
            "colorbar": {
             "outlinewidth": 0,
             "ticks": ""
            },
            "colorscale": [
             [
              0,
              "#0d0887"
             ],
             [
              0.1111111111111111,
              "#46039f"
             ],
             [
              0.2222222222222222,
              "#7201a8"
             ],
             [
              0.3333333333333333,
              "#9c179e"
             ],
             [
              0.4444444444444444,
              "#bd3786"
             ],
             [
              0.5555555555555556,
              "#d8576b"
             ],
             [
              0.6666666666666666,
              "#ed7953"
             ],
             [
              0.7777777777777778,
              "#fb9f3a"
             ],
             [
              0.8888888888888888,
              "#fdca26"
             ],
             [
              1,
              "#f0f921"
             ]
            ],
            "type": "histogram2d"
           }
          ],
          "histogram2dcontour": [
           {
            "colorbar": {
             "outlinewidth": 0,
             "ticks": ""
            },
            "colorscale": [
             [
              0,
              "#0d0887"
             ],
             [
              0.1111111111111111,
              "#46039f"
             ],
             [
              0.2222222222222222,
              "#7201a8"
             ],
             [
              0.3333333333333333,
              "#9c179e"
             ],
             [
              0.4444444444444444,
              "#bd3786"
             ],
             [
              0.5555555555555556,
              "#d8576b"
             ],
             [
              0.6666666666666666,
              "#ed7953"
             ],
             [
              0.7777777777777778,
              "#fb9f3a"
             ],
             [
              0.8888888888888888,
              "#fdca26"
             ],
             [
              1,
              "#f0f921"
             ]
            ],
            "type": "histogram2dcontour"
           }
          ],
          "mesh3d": [
           {
            "colorbar": {
             "outlinewidth": 0,
             "ticks": ""
            },
            "type": "mesh3d"
           }
          ],
          "parcoords": [
           {
            "line": {
             "colorbar": {
              "outlinewidth": 0,
              "ticks": ""
             }
            },
            "type": "parcoords"
           }
          ],
          "pie": [
           {
            "automargin": true,
            "type": "pie"
           }
          ],
          "scatter": [
           {
            "marker": {
             "colorbar": {
              "outlinewidth": 0,
              "ticks": ""
             }
            },
            "type": "scatter"
           }
          ],
          "scatter3d": [
           {
            "line": {
             "colorbar": {
              "outlinewidth": 0,
              "ticks": ""
             }
            },
            "marker": {
             "colorbar": {
              "outlinewidth": 0,
              "ticks": ""
             }
            },
            "type": "scatter3d"
           }
          ],
          "scattercarpet": [
           {
            "marker": {
             "colorbar": {
              "outlinewidth": 0,
              "ticks": ""
             }
            },
            "type": "scattercarpet"
           }
          ],
          "scattergeo": [
           {
            "marker": {
             "colorbar": {
              "outlinewidth": 0,
              "ticks": ""
             }
            },
            "type": "scattergeo"
           }
          ],
          "scattergl": [
           {
            "marker": {
             "colorbar": {
              "outlinewidth": 0,
              "ticks": ""
             }
            },
            "type": "scattergl"
           }
          ],
          "scattermapbox": [
           {
            "marker": {
             "colorbar": {
              "outlinewidth": 0,
              "ticks": ""
             }
            },
            "type": "scattermapbox"
           }
          ],
          "scatterpolar": [
           {
            "marker": {
             "colorbar": {
              "outlinewidth": 0,
              "ticks": ""
             }
            },
            "type": "scatterpolar"
           }
          ],
          "scatterpolargl": [
           {
            "marker": {
             "colorbar": {
              "outlinewidth": 0,
              "ticks": ""
             }
            },
            "type": "scatterpolargl"
           }
          ],
          "scatterternary": [
           {
            "marker": {
             "colorbar": {
              "outlinewidth": 0,
              "ticks": ""
             }
            },
            "type": "scatterternary"
           }
          ],
          "surface": [
           {
            "colorbar": {
             "outlinewidth": 0,
             "ticks": ""
            },
            "colorscale": [
             [
              0,
              "#0d0887"
             ],
             [
              0.1111111111111111,
              "#46039f"
             ],
             [
              0.2222222222222222,
              "#7201a8"
             ],
             [
              0.3333333333333333,
              "#9c179e"
             ],
             [
              0.4444444444444444,
              "#bd3786"
             ],
             [
              0.5555555555555556,
              "#d8576b"
             ],
             [
              0.6666666666666666,
              "#ed7953"
             ],
             [
              0.7777777777777778,
              "#fb9f3a"
             ],
             [
              0.8888888888888888,
              "#fdca26"
             ],
             [
              1,
              "#f0f921"
             ]
            ],
            "type": "surface"
           }
          ],
          "table": [
           {
            "cells": {
             "fill": {
              "color": "#EBF0F8"
             },
             "line": {
              "color": "white"
             }
            },
            "header": {
             "fill": {
              "color": "#C8D4E3"
             },
             "line": {
              "color": "white"
             }
            },
            "type": "table"
           }
          ]
         },
         "layout": {
          "annotationdefaults": {
           "arrowcolor": "#2a3f5f",
           "arrowhead": 0,
           "arrowwidth": 1
          },
          "autotypenumbers": "strict",
          "coloraxis": {
           "colorbar": {
            "outlinewidth": 0,
            "ticks": ""
           }
          },
          "colorscale": {
           "diverging": [
            [
             0,
             "#8e0152"
            ],
            [
             0.1,
             "#c51b7d"
            ],
            [
             0.2,
             "#de77ae"
            ],
            [
             0.3,
             "#f1b6da"
            ],
            [
             0.4,
             "#fde0ef"
            ],
            [
             0.5,
             "#f7f7f7"
            ],
            [
             0.6,
             "#e6f5d0"
            ],
            [
             0.7,
             "#b8e186"
            ],
            [
             0.8,
             "#7fbc41"
            ],
            [
             0.9,
             "#4d9221"
            ],
            [
             1,
             "#276419"
            ]
           ],
           "sequential": [
            [
             0,
             "#0d0887"
            ],
            [
             0.1111111111111111,
             "#46039f"
            ],
            [
             0.2222222222222222,
             "#7201a8"
            ],
            [
             0.3333333333333333,
             "#9c179e"
            ],
            [
             0.4444444444444444,
             "#bd3786"
            ],
            [
             0.5555555555555556,
             "#d8576b"
            ],
            [
             0.6666666666666666,
             "#ed7953"
            ],
            [
             0.7777777777777778,
             "#fb9f3a"
            ],
            [
             0.8888888888888888,
             "#fdca26"
            ],
            [
             1,
             "#f0f921"
            ]
           ],
           "sequentialminus": [
            [
             0,
             "#0d0887"
            ],
            [
             0.1111111111111111,
             "#46039f"
            ],
            [
             0.2222222222222222,
             "#7201a8"
            ],
            [
             0.3333333333333333,
             "#9c179e"
            ],
            [
             0.4444444444444444,
             "#bd3786"
            ],
            [
             0.5555555555555556,
             "#d8576b"
            ],
            [
             0.6666666666666666,
             "#ed7953"
            ],
            [
             0.7777777777777778,
             "#fb9f3a"
            ],
            [
             0.8888888888888888,
             "#fdca26"
            ],
            [
             1,
             "#f0f921"
            ]
           ]
          },
          "colorway": [
           "#636efa",
           "#EF553B",
           "#00cc96",
           "#ab63fa",
           "#FFA15A",
           "#19d3f3",
           "#FF6692",
           "#B6E880",
           "#FF97FF",
           "#FECB52"
          ],
          "font": {
           "color": "#2a3f5f"
          },
          "geo": {
           "bgcolor": "white",
           "lakecolor": "white",
           "landcolor": "#E5ECF6",
           "showlakes": true,
           "showland": true,
           "subunitcolor": "white"
          },
          "hoverlabel": {
           "align": "left"
          },
          "hovermode": "closest",
          "mapbox": {
           "style": "light"
          },
          "paper_bgcolor": "white",
          "plot_bgcolor": "#E5ECF6",
          "polar": {
           "angularaxis": {
            "gridcolor": "white",
            "linecolor": "white",
            "ticks": ""
           },
           "bgcolor": "#E5ECF6",
           "radialaxis": {
            "gridcolor": "white",
            "linecolor": "white",
            "ticks": ""
           }
          },
          "scene": {
           "xaxis": {
            "backgroundcolor": "#E5ECF6",
            "gridcolor": "white",
            "gridwidth": 2,
            "linecolor": "white",
            "showbackground": true,
            "ticks": "",
            "zerolinecolor": "white"
           },
           "yaxis": {
            "backgroundcolor": "#E5ECF6",
            "gridcolor": "white",
            "gridwidth": 2,
            "linecolor": "white",
            "showbackground": true,
            "ticks": "",
            "zerolinecolor": "white"
           },
           "zaxis": {
            "backgroundcolor": "#E5ECF6",
            "gridcolor": "white",
            "gridwidth": 2,
            "linecolor": "white",
            "showbackground": true,
            "ticks": "",
            "zerolinecolor": "white"
           }
          },
          "shapedefaults": {
           "line": {
            "color": "#2a3f5f"
           }
          },
          "ternary": {
           "aaxis": {
            "gridcolor": "white",
            "linecolor": "white",
            "ticks": ""
           },
           "baxis": {
            "gridcolor": "white",
            "linecolor": "white",
            "ticks": ""
           },
           "bgcolor": "#E5ECF6",
           "caxis": {
            "gridcolor": "white",
            "linecolor": "white",
            "ticks": ""
           }
          },
          "title": {
           "x": 0.05
          },
          "xaxis": {
           "automargin": true,
           "gridcolor": "white",
           "linecolor": "white",
           "ticks": "",
           "title": {
            "standoff": 15
           },
           "zerolinecolor": "white",
           "zerolinewidth": 2
          },
          "yaxis": {
           "automargin": true,
           "gridcolor": "white",
           "linecolor": "white",
           "ticks": "",
           "title": {
            "standoff": 15
           },
           "zerolinecolor": "white",
           "zerolinewidth": 2
          }
         }
        },
        "xaxis": {
         "linecolor": "rgb(204, 204, 204)",
         "linewidth": 2,
         "showgrid": false,
         "showline": true,
         "showticklabels": true,
         "tickfont": {
          "color": "rgb(82, 82, 82)",
          "family": "Arial",
          "size": 12
         },
         "ticks": "outside"
        },
        "yaxis": {
         "showgrid": false,
         "showline": false,
         "showticklabels": false,
         "zeroline": false
        }
       }
      },
      "text/html": [
       "<div>                            <div id=\"c5a00407-4b3d-483e-9944-b6e42bafb93f\" class=\"plotly-graph-div\" style=\"height:525px; width:100%;\"></div>            <script type=\"text/javascript\">                require([\"plotly\"], function(Plotly) {                    window.PLOTLYENV=window.PLOTLYENV || {};                                    if (document.getElementById(\"c5a00407-4b3d-483e-9944-b6e42bafb93f\")) {                    Plotly.newPlot(                        \"c5a00407-4b3d-483e-9944-b6e42bafb93f\",                        [{\"connectgaps\":true,\"line\":{\"color\":\"rgb(67,67,67)\",\"width\":2},\"mode\":\"lines\",\"name\":\"Drama\",\"type\":\"scatter\",\"x\":[2005,2006,2007,2008,2009,2010,2011,2012,2013,2014,2015,2016],\"y\":[286,366,371,387,412,439,369,447,385,490,479,464]},{\"marker\":{\"color\":\"rgb(67,67,67)\",\"size\":8},\"mode\":\"markers\",\"type\":\"scatter\",\"x\":[2005,2016],\"y\":[286,464]},{\"connectgaps\":true,\"line\":{\"color\":\"rgb(115,115,115)\",\"width\":2},\"mode\":\"lines\",\"name\":\"Comedy\",\"type\":\"scatter\",\"x\":[2005,2006,2007,2008,2009,2010,2011,2012,2013,2014,2015,2016],\"y\":[213,252,265,271,292,341,280,306,295,305,358,323]},{\"marker\":{\"color\":\"rgb(115,115,115)\",\"size\":8},\"mode\":\"markers\",\"type\":\"scatter\",\"x\":[2005,2016],\"y\":[213,323]},{\"connectgaps\":true,\"line\":{\"color\":\"rgb(49,130,189)\",\"width\":4},\"mode\":\"lines\",\"name\":\"Thriller\",\"type\":\"scatter\",\"x\":[2005,2006,2007,2008,2009,2010,2011,2012,2013,2014,2015,2016],\"y\":[123,144,208,200,217,256,232,228,223,256,271,287]},{\"marker\":{\"color\":\"rgb(49,130,189)\",\"size\":12},\"mode\":\"markers\",\"type\":\"scatter\",\"x\":[2005,2016],\"y\":[123,287]},{\"connectgaps\":true,\"line\":{\"color\":\"rgb(189,189,189)\",\"width\":2},\"mode\":\"lines\",\"name\":\"Romance\",\"type\":\"scatter\",\"x\":[2005,2006,2007,2008,2009,2010,2011,2012,2013,2014,2015,2016],\"y\":[95,136,127,141,127,149,138,132,127,115,140,111]},{\"marker\":{\"color\":\"rgb(189,189,189)\",\"size\":8},\"mode\":\"markers\",\"type\":\"scatter\",\"x\":[2005,2016],\"y\":[95,111]}],                        {\"annotations\":[{\"font\":{\"family\":\"Arial\",\"size\":16},\"showarrow\":false,\"text\":\"Drama 286\",\"x\":0.05,\"xanchor\":\"right\",\"xref\":\"paper\",\"y\":286,\"yanchor\":\"middle\"},{\"font\":{\"family\":\"Arial\",\"size\":16},\"showarrow\":false,\"text\":\"464\",\"x\":0.95,\"xanchor\":\"left\",\"xref\":\"paper\",\"y\":464,\"yanchor\":\"middle\"},{\"font\":{\"family\":\"Arial\",\"size\":16},\"showarrow\":false,\"text\":\"Comedy 213\",\"x\":0.05,\"xanchor\":\"right\",\"xref\":\"paper\",\"y\":213,\"yanchor\":\"middle\"},{\"font\":{\"family\":\"Arial\",\"size\":16},\"showarrow\":false,\"text\":\"323\",\"x\":0.95,\"xanchor\":\"left\",\"xref\":\"paper\",\"y\":323,\"yanchor\":\"middle\"},{\"font\":{\"family\":\"Arial\",\"size\":16},\"showarrow\":false,\"text\":\"Thriller 123\",\"x\":0.05,\"xanchor\":\"right\",\"xref\":\"paper\",\"y\":123,\"yanchor\":\"middle\"},{\"font\":{\"family\":\"Arial\",\"size\":16},\"showarrow\":false,\"text\":\"287\",\"x\":0.95,\"xanchor\":\"left\",\"xref\":\"paper\",\"y\":287,\"yanchor\":\"middle\"},{\"font\":{\"family\":\"Arial\",\"size\":16},\"showarrow\":false,\"text\":\"Romance 95\",\"x\":0.05,\"xanchor\":\"right\",\"xref\":\"paper\",\"y\":95,\"yanchor\":\"middle\"},{\"font\":{\"family\":\"Arial\",\"size\":16},\"showarrow\":false,\"text\":\"111\",\"x\":0.95,\"xanchor\":\"left\",\"xref\":\"paper\",\"y\":111,\"yanchor\":\"middle\"},{\"font\":{\"color\":\"rgb(37,37,37)\",\"family\":\"Arial\",\"size\":30},\"showarrow\":false,\"text\":\"Different types of movies' trend\",\"x\":0.0,\"xanchor\":\"left\",\"xref\":\"paper\",\"y\":1.05,\"yanchor\":\"bottom\",\"yref\":\"paper\"},{\"font\":{\"color\":\"rgb(150,150,150)\",\"family\":\"Arial\",\"size\":12},\"showarrow\":false,\"text\":\"Source: Moives DataSet from CC0: Public Domain\",\"x\":0.5,\"xanchor\":\"center\",\"xref\":\"paper\",\"y\":-0.1,\"yanchor\":\"top\",\"yref\":\"paper\"}],\"autosize\":false,\"margin\":{\"autoexpand\":false,\"l\":100,\"r\":20,\"t\":110},\"plot_bgcolor\":\"white\",\"showlegend\":false,\"template\":{\"data\":{\"bar\":[{\"error_x\":{\"color\":\"#2a3f5f\"},\"error_y\":{\"color\":\"#2a3f5f\"},\"marker\":{\"line\":{\"color\":\"#E5ECF6\",\"width\":0.5},\"pattern\":{\"fillmode\":\"overlay\",\"size\":10,\"solidity\":0.2}},\"type\":\"bar\"}],\"barpolar\":[{\"marker\":{\"line\":{\"color\":\"#E5ECF6\",\"width\":0.5},\"pattern\":{\"fillmode\":\"overlay\",\"size\":10,\"solidity\":0.2}},\"type\":\"barpolar\"}],\"carpet\":[{\"aaxis\":{\"endlinecolor\":\"#2a3f5f\",\"gridcolor\":\"white\",\"linecolor\":\"white\",\"minorgridcolor\":\"white\",\"startlinecolor\":\"#2a3f5f\"},\"baxis\":{\"endlinecolor\":\"#2a3f5f\",\"gridcolor\":\"white\",\"linecolor\":\"white\",\"minorgridcolor\":\"white\",\"startlinecolor\":\"#2a3f5f\"},\"type\":\"carpet\"}],\"choropleth\":[{\"colorbar\":{\"outlinewidth\":0,\"ticks\":\"\"},\"type\":\"choropleth\"}],\"contour\":[{\"colorbar\":{\"outlinewidth\":0,\"ticks\":\"\"},\"colorscale\":[[0.0,\"#0d0887\"],[0.1111111111111111,\"#46039f\"],[0.2222222222222222,\"#7201a8\"],[0.3333333333333333,\"#9c179e\"],[0.4444444444444444,\"#bd3786\"],[0.5555555555555556,\"#d8576b\"],[0.6666666666666666,\"#ed7953\"],[0.7777777777777778,\"#fb9f3a\"],[0.8888888888888888,\"#fdca26\"],[1.0,\"#f0f921\"]],\"type\":\"contour\"}],\"contourcarpet\":[{\"colorbar\":{\"outlinewidth\":0,\"ticks\":\"\"},\"type\":\"contourcarpet\"}],\"heatmap\":[{\"colorbar\":{\"outlinewidth\":0,\"ticks\":\"\"},\"colorscale\":[[0.0,\"#0d0887\"],[0.1111111111111111,\"#46039f\"],[0.2222222222222222,\"#7201a8\"],[0.3333333333333333,\"#9c179e\"],[0.4444444444444444,\"#bd3786\"],[0.5555555555555556,\"#d8576b\"],[0.6666666666666666,\"#ed7953\"],[0.7777777777777778,\"#fb9f3a\"],[0.8888888888888888,\"#fdca26\"],[1.0,\"#f0f921\"]],\"type\":\"heatmap\"}],\"heatmapgl\":[{\"colorbar\":{\"outlinewidth\":0,\"ticks\":\"\"},\"colorscale\":[[0.0,\"#0d0887\"],[0.1111111111111111,\"#46039f\"],[0.2222222222222222,\"#7201a8\"],[0.3333333333333333,\"#9c179e\"],[0.4444444444444444,\"#bd3786\"],[0.5555555555555556,\"#d8576b\"],[0.6666666666666666,\"#ed7953\"],[0.7777777777777778,\"#fb9f3a\"],[0.8888888888888888,\"#fdca26\"],[1.0,\"#f0f921\"]],\"type\":\"heatmapgl\"}],\"histogram\":[{\"marker\":{\"pattern\":{\"fillmode\":\"overlay\",\"size\":10,\"solidity\":0.2}},\"type\":\"histogram\"}],\"histogram2d\":[{\"colorbar\":{\"outlinewidth\":0,\"ticks\":\"\"},\"colorscale\":[[0.0,\"#0d0887\"],[0.1111111111111111,\"#46039f\"],[0.2222222222222222,\"#7201a8\"],[0.3333333333333333,\"#9c179e\"],[0.4444444444444444,\"#bd3786\"],[0.5555555555555556,\"#d8576b\"],[0.6666666666666666,\"#ed7953\"],[0.7777777777777778,\"#fb9f3a\"],[0.8888888888888888,\"#fdca26\"],[1.0,\"#f0f921\"]],\"type\":\"histogram2d\"}],\"histogram2dcontour\":[{\"colorbar\":{\"outlinewidth\":0,\"ticks\":\"\"},\"colorscale\":[[0.0,\"#0d0887\"],[0.1111111111111111,\"#46039f\"],[0.2222222222222222,\"#7201a8\"],[0.3333333333333333,\"#9c179e\"],[0.4444444444444444,\"#bd3786\"],[0.5555555555555556,\"#d8576b\"],[0.6666666666666666,\"#ed7953\"],[0.7777777777777778,\"#fb9f3a\"],[0.8888888888888888,\"#fdca26\"],[1.0,\"#f0f921\"]],\"type\":\"histogram2dcontour\"}],\"mesh3d\":[{\"colorbar\":{\"outlinewidth\":0,\"ticks\":\"\"},\"type\":\"mesh3d\"}],\"parcoords\":[{\"line\":{\"colorbar\":{\"outlinewidth\":0,\"ticks\":\"\"}},\"type\":\"parcoords\"}],\"pie\":[{\"automargin\":true,\"type\":\"pie\"}],\"scatter\":[{\"marker\":{\"colorbar\":{\"outlinewidth\":0,\"ticks\":\"\"}},\"type\":\"scatter\"}],\"scatter3d\":[{\"line\":{\"colorbar\":{\"outlinewidth\":0,\"ticks\":\"\"}},\"marker\":{\"colorbar\":{\"outlinewidth\":0,\"ticks\":\"\"}},\"type\":\"scatter3d\"}],\"scattercarpet\":[{\"marker\":{\"colorbar\":{\"outlinewidth\":0,\"ticks\":\"\"}},\"type\":\"scattercarpet\"}],\"scattergeo\":[{\"marker\":{\"colorbar\":{\"outlinewidth\":0,\"ticks\":\"\"}},\"type\":\"scattergeo\"}],\"scattergl\":[{\"marker\":{\"colorbar\":{\"outlinewidth\":0,\"ticks\":\"\"}},\"type\":\"scattergl\"}],\"scattermapbox\":[{\"marker\":{\"colorbar\":{\"outlinewidth\":0,\"ticks\":\"\"}},\"type\":\"scattermapbox\"}],\"scatterpolar\":[{\"marker\":{\"colorbar\":{\"outlinewidth\":0,\"ticks\":\"\"}},\"type\":\"scatterpolar\"}],\"scatterpolargl\":[{\"marker\":{\"colorbar\":{\"outlinewidth\":0,\"ticks\":\"\"}},\"type\":\"scatterpolargl\"}],\"scatterternary\":[{\"marker\":{\"colorbar\":{\"outlinewidth\":0,\"ticks\":\"\"}},\"type\":\"scatterternary\"}],\"surface\":[{\"colorbar\":{\"outlinewidth\":0,\"ticks\":\"\"},\"colorscale\":[[0.0,\"#0d0887\"],[0.1111111111111111,\"#46039f\"],[0.2222222222222222,\"#7201a8\"],[0.3333333333333333,\"#9c179e\"],[0.4444444444444444,\"#bd3786\"],[0.5555555555555556,\"#d8576b\"],[0.6666666666666666,\"#ed7953\"],[0.7777777777777778,\"#fb9f3a\"],[0.8888888888888888,\"#fdca26\"],[1.0,\"#f0f921\"]],\"type\":\"surface\"}],\"table\":[{\"cells\":{\"fill\":{\"color\":\"#EBF0F8\"},\"line\":{\"color\":\"white\"}},\"header\":{\"fill\":{\"color\":\"#C8D4E3\"},\"line\":{\"color\":\"white\"}},\"type\":\"table\"}]},\"layout\":{\"annotationdefaults\":{\"arrowcolor\":\"#2a3f5f\",\"arrowhead\":0,\"arrowwidth\":1},\"autotypenumbers\":\"strict\",\"coloraxis\":{\"colorbar\":{\"outlinewidth\":0,\"ticks\":\"\"}},\"colorscale\":{\"diverging\":[[0,\"#8e0152\"],[0.1,\"#c51b7d\"],[0.2,\"#de77ae\"],[0.3,\"#f1b6da\"],[0.4,\"#fde0ef\"],[0.5,\"#f7f7f7\"],[0.6,\"#e6f5d0\"],[0.7,\"#b8e186\"],[0.8,\"#7fbc41\"],[0.9,\"#4d9221\"],[1,\"#276419\"]],\"sequential\":[[0.0,\"#0d0887\"],[0.1111111111111111,\"#46039f\"],[0.2222222222222222,\"#7201a8\"],[0.3333333333333333,\"#9c179e\"],[0.4444444444444444,\"#bd3786\"],[0.5555555555555556,\"#d8576b\"],[0.6666666666666666,\"#ed7953\"],[0.7777777777777778,\"#fb9f3a\"],[0.8888888888888888,\"#fdca26\"],[1.0,\"#f0f921\"]],\"sequentialminus\":[[0.0,\"#0d0887\"],[0.1111111111111111,\"#46039f\"],[0.2222222222222222,\"#7201a8\"],[0.3333333333333333,\"#9c179e\"],[0.4444444444444444,\"#bd3786\"],[0.5555555555555556,\"#d8576b\"],[0.6666666666666666,\"#ed7953\"],[0.7777777777777778,\"#fb9f3a\"],[0.8888888888888888,\"#fdca26\"],[1.0,\"#f0f921\"]]},\"colorway\":[\"#636efa\",\"#EF553B\",\"#00cc96\",\"#ab63fa\",\"#FFA15A\",\"#19d3f3\",\"#FF6692\",\"#B6E880\",\"#FF97FF\",\"#FECB52\"],\"font\":{\"color\":\"#2a3f5f\"},\"geo\":{\"bgcolor\":\"white\",\"lakecolor\":\"white\",\"landcolor\":\"#E5ECF6\",\"showlakes\":true,\"showland\":true,\"subunitcolor\":\"white\"},\"hoverlabel\":{\"align\":\"left\"},\"hovermode\":\"closest\",\"mapbox\":{\"style\":\"light\"},\"paper_bgcolor\":\"white\",\"plot_bgcolor\":\"#E5ECF6\",\"polar\":{\"angularaxis\":{\"gridcolor\":\"white\",\"linecolor\":\"white\",\"ticks\":\"\"},\"bgcolor\":\"#E5ECF6\",\"radialaxis\":{\"gridcolor\":\"white\",\"linecolor\":\"white\",\"ticks\":\"\"}},\"scene\":{\"xaxis\":{\"backgroundcolor\":\"#E5ECF6\",\"gridcolor\":\"white\",\"gridwidth\":2,\"linecolor\":\"white\",\"showbackground\":true,\"ticks\":\"\",\"zerolinecolor\":\"white\"},\"yaxis\":{\"backgroundcolor\":\"#E5ECF6\",\"gridcolor\":\"white\",\"gridwidth\":2,\"linecolor\":\"white\",\"showbackground\":true,\"ticks\":\"\",\"zerolinecolor\":\"white\"},\"zaxis\":{\"backgroundcolor\":\"#E5ECF6\",\"gridcolor\":\"white\",\"gridwidth\":2,\"linecolor\":\"white\",\"showbackground\":true,\"ticks\":\"\",\"zerolinecolor\":\"white\"}},\"shapedefaults\":{\"line\":{\"color\":\"#2a3f5f\"}},\"ternary\":{\"aaxis\":{\"gridcolor\":\"white\",\"linecolor\":\"white\",\"ticks\":\"\"},\"baxis\":{\"gridcolor\":\"white\",\"linecolor\":\"white\",\"ticks\":\"\"},\"bgcolor\":\"#E5ECF6\",\"caxis\":{\"gridcolor\":\"white\",\"linecolor\":\"white\",\"ticks\":\"\"}},\"title\":{\"x\":0.05},\"xaxis\":{\"automargin\":true,\"gridcolor\":\"white\",\"linecolor\":\"white\",\"ticks\":\"\",\"title\":{\"standoff\":15},\"zerolinecolor\":\"white\",\"zerolinewidth\":2},\"yaxis\":{\"automargin\":true,\"gridcolor\":\"white\",\"linecolor\":\"white\",\"ticks\":\"\",\"title\":{\"standoff\":15},\"zerolinecolor\":\"white\",\"zerolinewidth\":2}}},\"xaxis\":{\"linecolor\":\"rgb(204, 204, 204)\",\"linewidth\":2,\"showgrid\":false,\"showline\":true,\"showticklabels\":true,\"tickfont\":{\"color\":\"rgb(82, 82, 82)\",\"family\":\"Arial\",\"size\":12},\"ticks\":\"outside\"},\"yaxis\":{\"showgrid\":false,\"showline\":false,\"showticklabels\":false,\"zeroline\":false}},                        {\"responsive\": true}                    ).then(function(){\n",
       "                            \n",
       "var gd = document.getElementById('c5a00407-4b3d-483e-9944-b6e42bafb93f');\n",
       "var x = new MutationObserver(function (mutations, observer) {{\n",
       "        var display = window.getComputedStyle(gd).display;\n",
       "        if (!display || display === 'none') {{\n",
       "            console.log([gd, 'removed!']);\n",
       "            Plotly.purge(gd);\n",
       "            observer.disconnect();\n",
       "        }}\n",
       "}});\n",
       "\n",
       "// Listen for the removal of the full notebook cells\n",
       "var notebookContainer = gd.closest('#notebook-container');\n",
       "if (notebookContainer) {{\n",
       "    x.observe(notebookContainer, {childList: true});\n",
       "}}\n",
       "\n",
       "// Listen for the clearing of the current output cell\n",
       "var outputEl = gd.closest('.output');\n",
       "if (outputEl) {{\n",
       "    x.observe(outputEl, {childList: true});\n",
       "}}\n",
       "\n",
       "                        })                };                });            </script>        </div>"
      ]
     },
     "metadata": {},
     "output_type": "display_data"
    }
   ],
   "source": [
    "title = 'Different top genres trend'\n",
    "labels = ['Drama', 'Comedy','Thriller','Romance','Action']\n",
    "colors = ['rgb(67,67,67)', 'rgb(115,115,115)', 'rgb(49,130,189)', 'rgb(189,189,189)','rgb(115,115,115)']\n",
    "mode_size = [8, 8, 12, 8]\n",
    "line_size = [2, 2, 4, 2]\n",
    "x_data = np.vstack((np.arange(2005, 2017),)*4)\n",
    "y_data = np.array([\n",
    "    combine.loc['Drama'].iloc[-15:-3].values.flatten(),\n",
    "    combine.loc['Comedy'].iloc[-15:-3].values.flatten(),\n",
    "    combine.loc['Thriller'].iloc[-15:-3].values.flatten(),\n",
    "    combine.loc['Romance'].iloc[-15:-3].values.flatten()])\n",
    "fig = go.Figure()\n",
    "for i in range(0, 4):\n",
    "    fig.add_trace(go.Scatter(x=x_data[i], y=y_data[i], mode='lines',\n",
    "        name=labels[i],line=dict(color=colors[i], width=line_size[i]),connectgaps=True,))\n",
    "    fig.add_trace(go.Scatter(\n",
    "        x=[x_data[i][0], x_data[i][-1]],y=[y_data[i][0], y_data[i][-1]],\n",
    "        mode='markers',marker=dict(color=colors[i], size=mode_size[i])))\n",
    "fig.update_layout(\n",
    "    xaxis=dict(showline=True,showgrid=False,showticklabels=True,linecolor='rgb(204, 204, 204)',linewidth=2,\n",
    "        ticks='outside',tickfont=dict(family='Arial',size=12,color='rgb(82, 82, 82)',),),\n",
    "    yaxis=dict(showgrid=False,zeroline=False,showline=False,showticklabels=False,),\n",
    "    autosize=False,margin=dict(autoexpand=False,l=100,r=20,t=110,),showlegend=False,plot_bgcolor='white')\n",
    "annotations = []\n",
    "for y_trace, label, color in zip(y_data, labels, colors):\n",
    "    # labeling the left_side of the plot\n",
    "    annotations.append(dict(xref='paper', x=0.05, y=y_trace[0],\n",
    "                                  xanchor='right', yanchor='middle',\n",
    "                                  text=label + ' {}'.format(y_trace[0]),\n",
    "                                  font=dict(family='Arial',size=16),showarrow=False))\n",
    "    # labeling the right_side of the plot\n",
    "    annotations.append(dict(xref='paper', x=0.95, y=y_trace[11],\n",
    "                                  xanchor='left', yanchor='middle',\n",
    "                                  text='{}'.format(y_trace[11]),\n",
    "                                  font=dict(family='Arial',size=16),showarrow=False))\n",
    "annotations.append(dict(xref='paper', yref='paper', x=0.0, y=1.05,\n",
    "                              xanchor='left', yanchor='bottom',\n",
    "                              text='Different types of movies\\' trend',\n",
    "                              font=dict(family='Arial',size=30,color='rgb(37,37,37)'),showarrow=False))\n",
    "annotations.append(dict(xref='paper', yref='paper', x=0.5, y=-0.1,\n",
    "                              xanchor='center', yanchor='top',\n",
    "                              text='Source: Moives DataSet from CC0: Public Domain',\n",
    "                              font=dict(family='Arial',size=12,color='rgb(150,150,150)'),showarrow=False))\n",
    "fig.update_layout(annotations=annotations)\n",
    "fig.show()"
   ]
  },
  {
   "cell_type": "markdown",
   "id": "4e6807cb",
   "metadata": {},
   "source": [
    "Build Movie rating model \n",
    "Weighted Rating (WR) = $(\\frac{v}{v + m} . R) + (\\frac{m}{v + m} . C)$  \n",
    "* *v* is the number of votes for the movie\n",
    "* *m* is the minimum votes required to be listed in the chart\n",
    "* *R* is the average rating of the movie\n",
    "* *C* is the mean vote across the whole report"
   ]
  },
  {
   "cell_type": "code",
   "execution_count": 52,
   "id": "f2db0c7b",
   "metadata": {},
   "outputs": [
    {
     "data": {
      "text/html": [
       "<div>\n",
       "<style scoped>\n",
       "    .dataframe tbody tr th:only-of-type {\n",
       "        vertical-align: middle;\n",
       "    }\n",
       "\n",
       "    .dataframe tbody tr th {\n",
       "        vertical-align: top;\n",
       "    }\n",
       "\n",
       "    .dataframe thead th {\n",
       "        text-align: right;\n",
       "    }\n",
       "</style>\n",
       "<table border=\"1\" class=\"dataframe\">\n",
       "  <thead>\n",
       "    <tr style=\"text-align: right;\">\n",
       "      <th></th>\n",
       "      <th>title</th>\n",
       "      <th>weighted</th>\n",
       "    </tr>\n",
       "  </thead>\n",
       "  <tbody>\n",
       "    <tr>\n",
       "      <th>280</th>\n",
       "      <td>The Shawshank Redemption</td>\n",
       "      <td>8.262609</td>\n",
       "    </tr>\n",
       "    <tr>\n",
       "      <th>734</th>\n",
       "      <td>The Godfather</td>\n",
       "      <td>8.179341</td>\n",
       "    </tr>\n",
       "    <tr>\n",
       "      <th>10314</th>\n",
       "      <td>The Dark Knight</td>\n",
       "      <td>8.144355</td>\n",
       "    </tr>\n",
       "    <tr>\n",
       "      <th>2566</th>\n",
       "      <td>Fight Club</td>\n",
       "      <td>8.105232</td>\n",
       "    </tr>\n",
       "    <tr>\n",
       "      <th>265</th>\n",
       "      <td>Pulp Fiction</td>\n",
       "      <td>8.084122</td>\n",
       "    </tr>\n",
       "    <tr>\n",
       "      <th>315</th>\n",
       "      <td>Forrest Gump</td>\n",
       "      <td>7.978436</td>\n",
       "    </tr>\n",
       "    <tr>\n",
       "      <th>12503</th>\n",
       "      <td>Inception</td>\n",
       "      <td>7.972039</td>\n",
       "    </tr>\n",
       "    <tr>\n",
       "      <th>17744</th>\n",
       "      <td>Interstellar</td>\n",
       "      <td>7.940766</td>\n",
       "    </tr>\n",
       "    <tr>\n",
       "      <th>1023</th>\n",
       "      <td>The Empire Strikes Back</td>\n",
       "      <td>7.906598</td>\n",
       "    </tr>\n",
       "    <tr>\n",
       "      <th>482</th>\n",
       "      <td>Schindler's List</td>\n",
       "      <td>7.903698</td>\n",
       "    </tr>\n",
       "  </tbody>\n",
       "</table>\n",
       "</div>"
      ],
      "text/plain": [
       "                          title  weighted\n",
       "280    The Shawshank Redemption  8.262609\n",
       "734               The Godfather  8.179341\n",
       "10314           The Dark Knight  8.144355\n",
       "2566                 Fight Club  8.105232\n",
       "265                Pulp Fiction  8.084122\n",
       "315                Forrest Gump  7.978436\n",
       "12503                 Inception  7.972039\n",
       "17744              Interstellar  7.940766\n",
       "1023    The Empire Strikes Back  7.906598\n",
       "482            Schindler's List  7.903698"
      ]
     },
     "execution_count": 52,
     "metadata": {},
     "output_type": "execute_result"
    }
   ],
   "source": [
    "# explore the top movies according to the weighted rating\n",
    "vote_counts = data[data['vote_count'].notnull()]['vote_count'].astype('int')\n",
    "vote_averages = data[data['vote_average'].notnull()]['vote_average'].astype('int')\n",
    "C = vote_averages.mean()\n",
    "m = vote_counts.quantile(0.95)\n",
    "\n",
    "def weighted_rating(x):\n",
    "    v = x['vote_count']\n",
    "    R = x['vote_average']\n",
    "    return (v/(v+m) * R) + (m/(m+v) * C)\n",
    "data['weighted'] = data.apply(weighted_rating,axis = 1)\n",
    "\n",
    "# print the top 10 movies \n",
    "data.sort_values('weighted',ascending= False).loc[:,['title','weighted']].head(10)"
   ]
  },
  {
   "cell_type": "markdown",
   "id": "20b5a2a9",
   "metadata": {},
   "source": [
    "## User-Rating based collaberative filtering part   \n",
    "**Note:**  *In this part, we will utilize the surprise package to compare the performance of different user-rating based algorithms.*"
   ]
  },
  {
   "cell_type": "code",
   "execution_count": 11,
   "id": "65bd9052",
   "metadata": {},
   "outputs": [
    {
     "name": "stdout",
     "output_type": "stream",
     "text": [
      "Evaluating RMSE, MAE of algorithm SVD on 3 split(s).\n",
      "\n",
      "                  Fold 1  Fold 2  Fold 3  Mean    Std     \n",
      "RMSE (testset)    0.9012  0.9041  0.9043  0.9032  0.0014  \n",
      "MAE (testset)     0.6965  0.6960  0.6963  0.6963  0.0002  \n",
      "Fit time          2.58    2.31    2.32    2.41    0.13    \n",
      "Test time         0.14    0.14    0.15    0.15    0.00    \n"
     ]
    }
   ],
   "source": [
    "from surprise import SVD\n",
    "data2 = Dataset.load_from_df(ratings[['userId', 'movieId', 'rating']], Reader())\n",
    "svd = SVD()\n",
    "svdmodel = surprise.model_selection.cross_validate(svd, data2, measures=['RMSE', 'MAE'], cv=3, verbose=True)"
   ]
  },
  {
   "cell_type": "code",
   "execution_count": 12,
   "id": "f7a932ce",
   "metadata": {},
   "outputs": [
    {
     "name": "stdout",
     "output_type": "stream",
     "text": [
      "Estimating biases using als...\n",
      "Estimating biases using als...\n",
      "Estimating biases using als...\n",
      "Evaluating RMSE, MAE of algorithm BaselineOnly on 3 split(s).\n",
      "\n",
      "                  Fold 1  Fold 2  Fold 3  Mean    Std     \n",
      "RMSE (testset)    0.8977  0.8977  0.8953  0.8969  0.0011  \n",
      "MAE (testset)     0.6933  0.6957  0.6918  0.6936  0.0016  \n",
      "Fit time          0.11    0.09    0.10    0.10    0.01    \n",
      "Test time         0.11    0.22    0.10    0.14    0.05    \n"
     ]
    }
   ],
   "source": [
    "from surprise import BaselineOnly\n",
    "algo = BaselineOnly()\n",
    "basemodel = surprise.model_selection.cross_validate(algo, data2, measures=['RMSE', 'MAE'], cv=3,verbose=True)"
   ]
  },
  {
   "cell_type": "code",
   "execution_count": 13,
   "id": "f38977a3",
   "metadata": {
    "scrolled": false
   },
   "outputs": [
    {
     "name": "stdout",
     "output_type": "stream",
     "text": [
      "Computing the msd similarity matrix...\n",
      "Done computing similarity matrix.\n",
      "Computing the msd similarity matrix...\n",
      "Done computing similarity matrix.\n",
      "Computing the msd similarity matrix...\n",
      "Done computing similarity matrix.\n",
      "Evaluating RMSE, MAE of algorithm KNNWithMeans on 3 split(s).\n",
      "\n",
      "                  Fold 1  Fold 2  Fold 3  Mean    Std     \n",
      "RMSE (testset)    0.9276  0.9298  0.9282  0.9285  0.0009  \n",
      "MAE (testset)     0.7099  0.7111  0.7119  0.7110  0.0008  \n",
      "Fit time          0.10    0.12    0.13    0.12    0.01    \n",
      "Test time         1.53    1.47    1.56    1.52    0.04    \n"
     ]
    }
   ],
   "source": [
    "from surprise import KNNWithMeans\n",
    "algo = KNNWithMeans()\n",
    "meanmodel = surprise.model_selection.cross_validate(algo, data2, measures=['RMSE', 'MAE'], cv=3,verbose = True)"
   ]
  },
  {
   "cell_type": "code",
   "execution_count": 14,
   "id": "158f5990",
   "metadata": {},
   "outputs": [
    {
     "data": {
      "application/vnd.plotly.v1+json": {
       "config": {
        "plotlyServerURL": "https://plot.ly"
       },
       "data": [
        {
         "colorscale": [
          [
           0,
           "#00083e"
          ],
          [
           0.5,
           "#ededee"
          ],
          [
           1,
           "#ffffff"
          ]
         ],
         "hoverinfo": "none",
         "opacity": 0.75,
         "showscale": false,
         "type": "heatmap",
         "z": [
          [
           0,
           0,
           0,
           0,
           0
          ],
          [
           0.5,
           0.5,
           0.5,
           0.5,
           0.5
          ],
          [
           1,
           1,
           1,
           1,
           1
          ],
          [
           0.5,
           0.5,
           0.5,
           0.5,
           0.5
          ]
         ]
        },
        {
         "marker": {
          "color": "#0099ff"
         },
         "name": "RMSE",
         "type": "bar",
         "x": [
          "SVD",
          "Base",
          "Mean"
         ],
         "xaxis": "x2",
         "y": [
          0.9032244266501537,
          0.9032244266501537,
          0.9032244266501537
         ],
         "yaxis": "y2"
        },
        {
         "marker": {
          "color": "#404040"
         },
         "name": "MAE",
         "type": "bar",
         "x": [
          "SVD",
          "Base",
          "Mean"
         ],
         "xaxis": "x2",
         "y": [
          0.6962683554958738,
          0.6962683554958738,
          0.6962683554958738
         ],
         "yaxis": "y2"
        },
        {
         "marker": {
          "color": "red"
         },
         "name": "Fit Time",
         "type": "bar",
         "x": [
          "SVD",
          "Base",
          "Mean"
         ],
         "xaxis": "x2",
         "y": [
          2.3123228549957275,
          2.3123228549957275,
          2.3123228549957275
         ],
         "yaxis": "y2"
        },
        {
         "marker": {
          "color": "green"
         },
         "name": "Test Time",
         "type": "bar",
         "x": [
          "SVD",
          "Base",
          "Mean"
         ],
         "xaxis": "x2",
         "y": [
          0.14360260963439941,
          0.14360260963439941,
          0.14360260963439941
         ],
         "yaxis": "y2"
        }
       ],
       "layout": {
        "annotations": [
         {
          "align": "left",
          "font": {
           "color": "#ffffff"
          },
          "showarrow": false,
          "text": "<b>Models</b>",
          "x": -0.45,
          "xanchor": "left",
          "xref": "x",
          "y": 0,
          "yref": "y"
         },
         {
          "align": "left",
          "font": {
           "color": "#ffffff"
          },
          "showarrow": false,
          "text": "<b>RMSE</b>",
          "x": 0.55,
          "xanchor": "left",
          "xref": "x",
          "y": 0,
          "yref": "y"
         },
         {
          "align": "left",
          "font": {
           "color": "#ffffff"
          },
          "showarrow": false,
          "text": "<b>MAE</b>",
          "x": 1.55,
          "xanchor": "left",
          "xref": "x",
          "y": 0,
          "yref": "y"
         },
         {
          "align": "left",
          "font": {
           "color": "#ffffff"
          },
          "showarrow": false,
          "text": "<b>Fit Time</b>",
          "x": 2.55,
          "xanchor": "left",
          "xref": "x",
          "y": 0,
          "yref": "y"
         },
         {
          "align": "left",
          "font": {
           "color": "#ffffff"
          },
          "showarrow": false,
          "text": "<b>Test Time</b>",
          "x": 3.55,
          "xanchor": "left",
          "xref": "x",
          "y": 0,
          "yref": "y"
         },
         {
          "align": "left",
          "font": {
           "color": "#000000"
          },
          "showarrow": false,
          "text": "svd",
          "x": -0.45,
          "xanchor": "left",
          "xref": "x",
          "y": 1,
          "yref": "y"
         },
         {
          "align": "left",
          "font": {
           "color": "#000000"
          },
          "showarrow": false,
          "text": "0.903",
          "x": 0.55,
          "xanchor": "left",
          "xref": "x",
          "y": 1,
          "yref": "y"
         },
         {
          "align": "left",
          "font": {
           "color": "#000000"
          },
          "showarrow": false,
          "text": "0.696",
          "x": 1.55,
          "xanchor": "left",
          "xref": "x",
          "y": 1,
          "yref": "y"
         },
         {
          "align": "left",
          "font": {
           "color": "#000000"
          },
          "showarrow": false,
          "text": "2.312",
          "x": 2.55,
          "xanchor": "left",
          "xref": "x",
          "y": 1,
          "yref": "y"
         },
         {
          "align": "left",
          "font": {
           "color": "#000000"
          },
          "showarrow": false,
          "text": "0.144",
          "x": 3.55,
          "xanchor": "left",
          "xref": "x",
          "y": 1,
          "yref": "y"
         },
         {
          "align": "left",
          "font": {
           "color": "#000000"
          },
          "showarrow": false,
          "text": "base",
          "x": -0.45,
          "xanchor": "left",
          "xref": "x",
          "y": 2,
          "yref": "y"
         },
         {
          "align": "left",
          "font": {
           "color": "#000000"
          },
          "showarrow": false,
          "text": "0.897",
          "x": 0.55,
          "xanchor": "left",
          "xref": "x",
          "y": 2,
          "yref": "y"
         },
         {
          "align": "left",
          "font": {
           "color": "#000000"
          },
          "showarrow": false,
          "text": "0.694",
          "x": 1.55,
          "xanchor": "left",
          "xref": "x",
          "y": 2,
          "yref": "y"
         },
         {
          "align": "left",
          "font": {
           "color": "#000000"
          },
          "showarrow": false,
          "text": "0.089",
          "x": 2.55,
          "xanchor": "left",
          "xref": "x",
          "y": 2,
          "yref": "y"
         },
         {
          "align": "left",
          "font": {
           "color": "#000000"
          },
          "showarrow": false,
          "text": "0.216",
          "x": 3.55,
          "xanchor": "left",
          "xref": "x",
          "y": 2,
          "yref": "y"
         },
         {
          "align": "left",
          "font": {
           "color": "#000000"
          },
          "showarrow": false,
          "text": "mean",
          "x": -0.45,
          "xanchor": "left",
          "xref": "x",
          "y": 3,
          "yref": "y"
         },
         {
          "align": "left",
          "font": {
           "color": "#000000"
          },
          "showarrow": false,
          "text": "0.929",
          "x": 0.55,
          "xanchor": "left",
          "xref": "x",
          "y": 3,
          "yref": "y"
         },
         {
          "align": "left",
          "font": {
           "color": "#000000"
          },
          "showarrow": false,
          "text": "0.711",
          "x": 1.55,
          "xanchor": "left",
          "xref": "x",
          "y": 3,
          "yref": "y"
         },
         {
          "align": "left",
          "font": {
           "color": "#000000"
          },
          "showarrow": false,
          "text": "0.124",
          "x": 2.55,
          "xanchor": "left",
          "xref": "x",
          "y": 3,
          "yref": "y"
         },
         {
          "align": "left",
          "font": {
           "color": "#000000"
          },
          "showarrow": false,
          "text": "1.466",
          "x": 3.55,
          "xanchor": "left",
          "xref": "x",
          "y": 3,
          "yref": "y"
         }
        ],
        "height": 400,
        "margin": {
         "b": 0,
         "l": 50,
         "r": 0,
         "t": 50
        },
        "template": {
         "data": {
          "bar": [
           {
            "error_x": {
             "color": "#2a3f5f"
            },
            "error_y": {
             "color": "#2a3f5f"
            },
            "marker": {
             "line": {
              "color": "#E5ECF6",
              "width": 0.5
             },
             "pattern": {
              "fillmode": "overlay",
              "size": 10,
              "solidity": 0.2
             }
            },
            "type": "bar"
           }
          ],
          "barpolar": [
           {
            "marker": {
             "line": {
              "color": "#E5ECF6",
              "width": 0.5
             },
             "pattern": {
              "fillmode": "overlay",
              "size": 10,
              "solidity": 0.2
             }
            },
            "type": "barpolar"
           }
          ],
          "carpet": [
           {
            "aaxis": {
             "endlinecolor": "#2a3f5f",
             "gridcolor": "white",
             "linecolor": "white",
             "minorgridcolor": "white",
             "startlinecolor": "#2a3f5f"
            },
            "baxis": {
             "endlinecolor": "#2a3f5f",
             "gridcolor": "white",
             "linecolor": "white",
             "minorgridcolor": "white",
             "startlinecolor": "#2a3f5f"
            },
            "type": "carpet"
           }
          ],
          "choropleth": [
           {
            "colorbar": {
             "outlinewidth": 0,
             "ticks": ""
            },
            "type": "choropleth"
           }
          ],
          "contour": [
           {
            "colorbar": {
             "outlinewidth": 0,
             "ticks": ""
            },
            "colorscale": [
             [
              0,
              "#0d0887"
             ],
             [
              0.1111111111111111,
              "#46039f"
             ],
             [
              0.2222222222222222,
              "#7201a8"
             ],
             [
              0.3333333333333333,
              "#9c179e"
             ],
             [
              0.4444444444444444,
              "#bd3786"
             ],
             [
              0.5555555555555556,
              "#d8576b"
             ],
             [
              0.6666666666666666,
              "#ed7953"
             ],
             [
              0.7777777777777778,
              "#fb9f3a"
             ],
             [
              0.8888888888888888,
              "#fdca26"
             ],
             [
              1,
              "#f0f921"
             ]
            ],
            "type": "contour"
           }
          ],
          "contourcarpet": [
           {
            "colorbar": {
             "outlinewidth": 0,
             "ticks": ""
            },
            "type": "contourcarpet"
           }
          ],
          "heatmap": [
           {
            "colorbar": {
             "outlinewidth": 0,
             "ticks": ""
            },
            "colorscale": [
             [
              0,
              "#0d0887"
             ],
             [
              0.1111111111111111,
              "#46039f"
             ],
             [
              0.2222222222222222,
              "#7201a8"
             ],
             [
              0.3333333333333333,
              "#9c179e"
             ],
             [
              0.4444444444444444,
              "#bd3786"
             ],
             [
              0.5555555555555556,
              "#d8576b"
             ],
             [
              0.6666666666666666,
              "#ed7953"
             ],
             [
              0.7777777777777778,
              "#fb9f3a"
             ],
             [
              0.8888888888888888,
              "#fdca26"
             ],
             [
              1,
              "#f0f921"
             ]
            ],
            "type": "heatmap"
           }
          ],
          "heatmapgl": [
           {
            "colorbar": {
             "outlinewidth": 0,
             "ticks": ""
            },
            "colorscale": [
             [
              0,
              "#0d0887"
             ],
             [
              0.1111111111111111,
              "#46039f"
             ],
             [
              0.2222222222222222,
              "#7201a8"
             ],
             [
              0.3333333333333333,
              "#9c179e"
             ],
             [
              0.4444444444444444,
              "#bd3786"
             ],
             [
              0.5555555555555556,
              "#d8576b"
             ],
             [
              0.6666666666666666,
              "#ed7953"
             ],
             [
              0.7777777777777778,
              "#fb9f3a"
             ],
             [
              0.8888888888888888,
              "#fdca26"
             ],
             [
              1,
              "#f0f921"
             ]
            ],
            "type": "heatmapgl"
           }
          ],
          "histogram": [
           {
            "marker": {
             "pattern": {
              "fillmode": "overlay",
              "size": 10,
              "solidity": 0.2
             }
            },
            "type": "histogram"
           }
          ],
          "histogram2d": [
           {
            "colorbar": {
             "outlinewidth": 0,
             "ticks": ""
            },
            "colorscale": [
             [
              0,
              "#0d0887"
             ],
             [
              0.1111111111111111,
              "#46039f"
             ],
             [
              0.2222222222222222,
              "#7201a8"
             ],
             [
              0.3333333333333333,
              "#9c179e"
             ],
             [
              0.4444444444444444,
              "#bd3786"
             ],
             [
              0.5555555555555556,
              "#d8576b"
             ],
             [
              0.6666666666666666,
              "#ed7953"
             ],
             [
              0.7777777777777778,
              "#fb9f3a"
             ],
             [
              0.8888888888888888,
              "#fdca26"
             ],
             [
              1,
              "#f0f921"
             ]
            ],
            "type": "histogram2d"
           }
          ],
          "histogram2dcontour": [
           {
            "colorbar": {
             "outlinewidth": 0,
             "ticks": ""
            },
            "colorscale": [
             [
              0,
              "#0d0887"
             ],
             [
              0.1111111111111111,
              "#46039f"
             ],
             [
              0.2222222222222222,
              "#7201a8"
             ],
             [
              0.3333333333333333,
              "#9c179e"
             ],
             [
              0.4444444444444444,
              "#bd3786"
             ],
             [
              0.5555555555555556,
              "#d8576b"
             ],
             [
              0.6666666666666666,
              "#ed7953"
             ],
             [
              0.7777777777777778,
              "#fb9f3a"
             ],
             [
              0.8888888888888888,
              "#fdca26"
             ],
             [
              1,
              "#f0f921"
             ]
            ],
            "type": "histogram2dcontour"
           }
          ],
          "mesh3d": [
           {
            "colorbar": {
             "outlinewidth": 0,
             "ticks": ""
            },
            "type": "mesh3d"
           }
          ],
          "parcoords": [
           {
            "line": {
             "colorbar": {
              "outlinewidth": 0,
              "ticks": ""
             }
            },
            "type": "parcoords"
           }
          ],
          "pie": [
           {
            "automargin": true,
            "type": "pie"
           }
          ],
          "scatter": [
           {
            "marker": {
             "colorbar": {
              "outlinewidth": 0,
              "ticks": ""
             }
            },
            "type": "scatter"
           }
          ],
          "scatter3d": [
           {
            "line": {
             "colorbar": {
              "outlinewidth": 0,
              "ticks": ""
             }
            },
            "marker": {
             "colorbar": {
              "outlinewidth": 0,
              "ticks": ""
             }
            },
            "type": "scatter3d"
           }
          ],
          "scattercarpet": [
           {
            "marker": {
             "colorbar": {
              "outlinewidth": 0,
              "ticks": ""
             }
            },
            "type": "scattercarpet"
           }
          ],
          "scattergeo": [
           {
            "marker": {
             "colorbar": {
              "outlinewidth": 0,
              "ticks": ""
             }
            },
            "type": "scattergeo"
           }
          ],
          "scattergl": [
           {
            "marker": {
             "colorbar": {
              "outlinewidth": 0,
              "ticks": ""
             }
            },
            "type": "scattergl"
           }
          ],
          "scattermapbox": [
           {
            "marker": {
             "colorbar": {
              "outlinewidth": 0,
              "ticks": ""
             }
            },
            "type": "scattermapbox"
           }
          ],
          "scatterpolar": [
           {
            "marker": {
             "colorbar": {
              "outlinewidth": 0,
              "ticks": ""
             }
            },
            "type": "scatterpolar"
           }
          ],
          "scatterpolargl": [
           {
            "marker": {
             "colorbar": {
              "outlinewidth": 0,
              "ticks": ""
             }
            },
            "type": "scatterpolargl"
           }
          ],
          "scatterternary": [
           {
            "marker": {
             "colorbar": {
              "outlinewidth": 0,
              "ticks": ""
             }
            },
            "type": "scatterternary"
           }
          ],
          "surface": [
           {
            "colorbar": {
             "outlinewidth": 0,
             "ticks": ""
            },
            "colorscale": [
             [
              0,
              "#0d0887"
             ],
             [
              0.1111111111111111,
              "#46039f"
             ],
             [
              0.2222222222222222,
              "#7201a8"
             ],
             [
              0.3333333333333333,
              "#9c179e"
             ],
             [
              0.4444444444444444,
              "#bd3786"
             ],
             [
              0.5555555555555556,
              "#d8576b"
             ],
             [
              0.6666666666666666,
              "#ed7953"
             ],
             [
              0.7777777777777778,
              "#fb9f3a"
             ],
             [
              0.8888888888888888,
              "#fdca26"
             ],
             [
              1,
              "#f0f921"
             ]
            ],
            "type": "surface"
           }
          ],
          "table": [
           {
            "cells": {
             "fill": {
              "color": "#EBF0F8"
             },
             "line": {
              "color": "white"
             }
            },
            "header": {
             "fill": {
              "color": "#C8D4E3"
             },
             "line": {
              "color": "white"
             }
            },
            "type": "table"
           }
          ]
         },
         "layout": {
          "annotationdefaults": {
           "arrowcolor": "#2a3f5f",
           "arrowhead": 0,
           "arrowwidth": 1
          },
          "autotypenumbers": "strict",
          "coloraxis": {
           "colorbar": {
            "outlinewidth": 0,
            "ticks": ""
           }
          },
          "colorscale": {
           "diverging": [
            [
             0,
             "#8e0152"
            ],
            [
             0.1,
             "#c51b7d"
            ],
            [
             0.2,
             "#de77ae"
            ],
            [
             0.3,
             "#f1b6da"
            ],
            [
             0.4,
             "#fde0ef"
            ],
            [
             0.5,
             "#f7f7f7"
            ],
            [
             0.6,
             "#e6f5d0"
            ],
            [
             0.7,
             "#b8e186"
            ],
            [
             0.8,
             "#7fbc41"
            ],
            [
             0.9,
             "#4d9221"
            ],
            [
             1,
             "#276419"
            ]
           ],
           "sequential": [
            [
             0,
             "#0d0887"
            ],
            [
             0.1111111111111111,
             "#46039f"
            ],
            [
             0.2222222222222222,
             "#7201a8"
            ],
            [
             0.3333333333333333,
             "#9c179e"
            ],
            [
             0.4444444444444444,
             "#bd3786"
            ],
            [
             0.5555555555555556,
             "#d8576b"
            ],
            [
             0.6666666666666666,
             "#ed7953"
            ],
            [
             0.7777777777777778,
             "#fb9f3a"
            ],
            [
             0.8888888888888888,
             "#fdca26"
            ],
            [
             1,
             "#f0f921"
            ]
           ],
           "sequentialminus": [
            [
             0,
             "#0d0887"
            ],
            [
             0.1111111111111111,
             "#46039f"
            ],
            [
             0.2222222222222222,
             "#7201a8"
            ],
            [
             0.3333333333333333,
             "#9c179e"
            ],
            [
             0.4444444444444444,
             "#bd3786"
            ],
            [
             0.5555555555555556,
             "#d8576b"
            ],
            [
             0.6666666666666666,
             "#ed7953"
            ],
            [
             0.7777777777777778,
             "#fb9f3a"
            ],
            [
             0.8888888888888888,
             "#fdca26"
            ],
            [
             1,
             "#f0f921"
            ]
           ]
          },
          "colorway": [
           "#636efa",
           "#EF553B",
           "#00cc96",
           "#ab63fa",
           "#FFA15A",
           "#19d3f3",
           "#FF6692",
           "#B6E880",
           "#FF97FF",
           "#FECB52"
          ],
          "font": {
           "color": "#2a3f5f"
          },
          "geo": {
           "bgcolor": "white",
           "lakecolor": "white",
           "landcolor": "#E5ECF6",
           "showlakes": true,
           "showland": true,
           "subunitcolor": "white"
          },
          "hoverlabel": {
           "align": "left"
          },
          "hovermode": "closest",
          "mapbox": {
           "style": "light"
          },
          "paper_bgcolor": "white",
          "plot_bgcolor": "#E5ECF6",
          "polar": {
           "angularaxis": {
            "gridcolor": "white",
            "linecolor": "white",
            "ticks": ""
           },
           "bgcolor": "#E5ECF6",
           "radialaxis": {
            "gridcolor": "white",
            "linecolor": "white",
            "ticks": ""
           }
          },
          "scene": {
           "xaxis": {
            "backgroundcolor": "#E5ECF6",
            "gridcolor": "white",
            "gridwidth": 2,
            "linecolor": "white",
            "showbackground": true,
            "ticks": "",
            "zerolinecolor": "white"
           },
           "yaxis": {
            "backgroundcolor": "#E5ECF6",
            "gridcolor": "white",
            "gridwidth": 2,
            "linecolor": "white",
            "showbackground": true,
            "ticks": "",
            "zerolinecolor": "white"
           },
           "zaxis": {
            "backgroundcolor": "#E5ECF6",
            "gridcolor": "white",
            "gridwidth": 2,
            "linecolor": "white",
            "showbackground": true,
            "ticks": "",
            "zerolinecolor": "white"
           }
          },
          "shapedefaults": {
           "line": {
            "color": "#2a3f5f"
           }
          },
          "ternary": {
           "aaxis": {
            "gridcolor": "white",
            "linecolor": "white",
            "ticks": ""
           },
           "baxis": {
            "gridcolor": "white",
            "linecolor": "white",
            "ticks": ""
           },
           "bgcolor": "#E5ECF6",
           "caxis": {
            "gridcolor": "white",
            "linecolor": "white",
            "ticks": ""
           }
          },
          "title": {
           "x": 0.05
          },
          "xaxis": {
           "automargin": true,
           "gridcolor": "white",
           "linecolor": "white",
           "ticks": "",
           "title": {
            "standoff": 15
           },
           "zerolinecolor": "white",
           "zerolinewidth": 2
          },
          "yaxis": {
           "automargin": true,
           "gridcolor": "white",
           "linecolor": "white",
           "ticks": "",
           "title": {
            "standoff": 15
           },
           "zerolinecolor": "white",
           "zerolinewidth": 2
          }
         }
        },
        "title": {
         "text": "The Comparison of different models"
        },
        "xaxis": {
         "dtick": 1,
         "gridwidth": 2,
         "showticklabels": false,
         "tick0": -0.5,
         "ticks": "",
         "zeroline": false
        },
        "xaxis2": {
         "anchor": "y2"
        },
        "yaxis": {
         "autorange": "reversed",
         "domain": [
          0,
          0.55
         ],
         "dtick": 1,
         "gridwidth": 2,
         "showticklabels": false,
         "tick0": 0.5,
         "ticks": "",
         "zeroline": false
        },
        "yaxis2": {
         "anchor": "x2",
         "domain": [
          0.6,
          1
         ],
         "title": {
          "text": "Comparisons"
         }
        }
       }
      },
      "text/html": [
       "<div>                            <div id=\"2e596b2f-5764-4b75-bf00-8194b39c2a5e\" class=\"plotly-graph-div\" style=\"height:400px; width:100%;\"></div>            <script type=\"text/javascript\">                require([\"plotly\"], function(Plotly) {                    window.PLOTLYENV=window.PLOTLYENV || {};                                    if (document.getElementById(\"2e596b2f-5764-4b75-bf00-8194b39c2a5e\")) {                    Plotly.newPlot(                        \"2e596b2f-5764-4b75-bf00-8194b39c2a5e\",                        [{\"colorscale\":[[0,\"#00083e\"],[0.5,\"#ededee\"],[1,\"#ffffff\"]],\"hoverinfo\":\"none\",\"opacity\":0.75,\"showscale\":false,\"type\":\"heatmap\",\"z\":[[0,0,0,0,0],[0.5,0.5,0.5,0.5,0.5],[1,1,1,1,1],[0.5,0.5,0.5,0.5,0.5]]},{\"marker\":{\"color\":\"#0099ff\"},\"name\":\"RMSE\",\"type\":\"bar\",\"x\":[\"SVD\",\"Base\",\"Mean\"],\"xaxis\":\"x2\",\"y\":[0.9032244266501537,0.9032244266501537,0.9032244266501537],\"yaxis\":\"y2\"},{\"marker\":{\"color\":\"#404040\"},\"name\":\"MAE\",\"type\":\"bar\",\"x\":[\"SVD\",\"Base\",\"Mean\"],\"xaxis\":\"x2\",\"y\":[0.6962683554958738,0.6962683554958738,0.6962683554958738],\"yaxis\":\"y2\"},{\"marker\":{\"color\":\"red\"},\"name\":\"Fit Time\",\"type\":\"bar\",\"x\":[\"SVD\",\"Base\",\"Mean\"],\"xaxis\":\"x2\",\"y\":[2.3123228549957275,2.3123228549957275,2.3123228549957275],\"yaxis\":\"y2\"},{\"marker\":{\"color\":\"green\"},\"name\":\"Test Time\",\"type\":\"bar\",\"x\":[\"SVD\",\"Base\",\"Mean\"],\"xaxis\":\"x2\",\"y\":[0.14360260963439941,0.14360260963439941,0.14360260963439941],\"yaxis\":\"y2\"}],                        {\"annotations\":[{\"align\":\"left\",\"font\":{\"color\":\"#ffffff\"},\"showarrow\":false,\"text\":\"<b>Models</b>\",\"x\":-0.45,\"xanchor\":\"left\",\"xref\":\"x\",\"y\":0,\"yref\":\"y\"},{\"align\":\"left\",\"font\":{\"color\":\"#ffffff\"},\"showarrow\":false,\"text\":\"<b>RMSE</b>\",\"x\":0.55,\"xanchor\":\"left\",\"xref\":\"x\",\"y\":0,\"yref\":\"y\"},{\"align\":\"left\",\"font\":{\"color\":\"#ffffff\"},\"showarrow\":false,\"text\":\"<b>MAE</b>\",\"x\":1.55,\"xanchor\":\"left\",\"xref\":\"x\",\"y\":0,\"yref\":\"y\"},{\"align\":\"left\",\"font\":{\"color\":\"#ffffff\"},\"showarrow\":false,\"text\":\"<b>Fit Time</b>\",\"x\":2.55,\"xanchor\":\"left\",\"xref\":\"x\",\"y\":0,\"yref\":\"y\"},{\"align\":\"left\",\"font\":{\"color\":\"#ffffff\"},\"showarrow\":false,\"text\":\"<b>Test Time</b>\",\"x\":3.55,\"xanchor\":\"left\",\"xref\":\"x\",\"y\":0,\"yref\":\"y\"},{\"align\":\"left\",\"font\":{\"color\":\"#000000\"},\"showarrow\":false,\"text\":\"svd\",\"x\":-0.45,\"xanchor\":\"left\",\"xref\":\"x\",\"y\":1,\"yref\":\"y\"},{\"align\":\"left\",\"font\":{\"color\":\"#000000\"},\"showarrow\":false,\"text\":\"0.903\",\"x\":0.55,\"xanchor\":\"left\",\"xref\":\"x\",\"y\":1,\"yref\":\"y\"},{\"align\":\"left\",\"font\":{\"color\":\"#000000\"},\"showarrow\":false,\"text\":\"0.696\",\"x\":1.55,\"xanchor\":\"left\",\"xref\":\"x\",\"y\":1,\"yref\":\"y\"},{\"align\":\"left\",\"font\":{\"color\":\"#000000\"},\"showarrow\":false,\"text\":\"2.312\",\"x\":2.55,\"xanchor\":\"left\",\"xref\":\"x\",\"y\":1,\"yref\":\"y\"},{\"align\":\"left\",\"font\":{\"color\":\"#000000\"},\"showarrow\":false,\"text\":\"0.144\",\"x\":3.55,\"xanchor\":\"left\",\"xref\":\"x\",\"y\":1,\"yref\":\"y\"},{\"align\":\"left\",\"font\":{\"color\":\"#000000\"},\"showarrow\":false,\"text\":\"base\",\"x\":-0.45,\"xanchor\":\"left\",\"xref\":\"x\",\"y\":2,\"yref\":\"y\"},{\"align\":\"left\",\"font\":{\"color\":\"#000000\"},\"showarrow\":false,\"text\":\"0.897\",\"x\":0.55,\"xanchor\":\"left\",\"xref\":\"x\",\"y\":2,\"yref\":\"y\"},{\"align\":\"left\",\"font\":{\"color\":\"#000000\"},\"showarrow\":false,\"text\":\"0.694\",\"x\":1.55,\"xanchor\":\"left\",\"xref\":\"x\",\"y\":2,\"yref\":\"y\"},{\"align\":\"left\",\"font\":{\"color\":\"#000000\"},\"showarrow\":false,\"text\":\"0.089\",\"x\":2.55,\"xanchor\":\"left\",\"xref\":\"x\",\"y\":2,\"yref\":\"y\"},{\"align\":\"left\",\"font\":{\"color\":\"#000000\"},\"showarrow\":false,\"text\":\"0.216\",\"x\":3.55,\"xanchor\":\"left\",\"xref\":\"x\",\"y\":2,\"yref\":\"y\"},{\"align\":\"left\",\"font\":{\"color\":\"#000000\"},\"showarrow\":false,\"text\":\"mean\",\"x\":-0.45,\"xanchor\":\"left\",\"xref\":\"x\",\"y\":3,\"yref\":\"y\"},{\"align\":\"left\",\"font\":{\"color\":\"#000000\"},\"showarrow\":false,\"text\":\"0.929\",\"x\":0.55,\"xanchor\":\"left\",\"xref\":\"x\",\"y\":3,\"yref\":\"y\"},{\"align\":\"left\",\"font\":{\"color\":\"#000000\"},\"showarrow\":false,\"text\":\"0.711\",\"x\":1.55,\"xanchor\":\"left\",\"xref\":\"x\",\"y\":3,\"yref\":\"y\"},{\"align\":\"left\",\"font\":{\"color\":\"#000000\"},\"showarrow\":false,\"text\":\"0.124\",\"x\":2.55,\"xanchor\":\"left\",\"xref\":\"x\",\"y\":3,\"yref\":\"y\"},{\"align\":\"left\",\"font\":{\"color\":\"#000000\"},\"showarrow\":false,\"text\":\"1.466\",\"x\":3.55,\"xanchor\":\"left\",\"xref\":\"x\",\"y\":3,\"yref\":\"y\"}],\"height\":400,\"margin\":{\"b\":0,\"l\":50,\"r\":0,\"t\":50},\"template\":{\"data\":{\"bar\":[{\"error_x\":{\"color\":\"#2a3f5f\"},\"error_y\":{\"color\":\"#2a3f5f\"},\"marker\":{\"line\":{\"color\":\"#E5ECF6\",\"width\":0.5},\"pattern\":{\"fillmode\":\"overlay\",\"size\":10,\"solidity\":0.2}},\"type\":\"bar\"}],\"barpolar\":[{\"marker\":{\"line\":{\"color\":\"#E5ECF6\",\"width\":0.5},\"pattern\":{\"fillmode\":\"overlay\",\"size\":10,\"solidity\":0.2}},\"type\":\"barpolar\"}],\"carpet\":[{\"aaxis\":{\"endlinecolor\":\"#2a3f5f\",\"gridcolor\":\"white\",\"linecolor\":\"white\",\"minorgridcolor\":\"white\",\"startlinecolor\":\"#2a3f5f\"},\"baxis\":{\"endlinecolor\":\"#2a3f5f\",\"gridcolor\":\"white\",\"linecolor\":\"white\",\"minorgridcolor\":\"white\",\"startlinecolor\":\"#2a3f5f\"},\"type\":\"carpet\"}],\"choropleth\":[{\"colorbar\":{\"outlinewidth\":0,\"ticks\":\"\"},\"type\":\"choropleth\"}],\"contour\":[{\"colorbar\":{\"outlinewidth\":0,\"ticks\":\"\"},\"colorscale\":[[0.0,\"#0d0887\"],[0.1111111111111111,\"#46039f\"],[0.2222222222222222,\"#7201a8\"],[0.3333333333333333,\"#9c179e\"],[0.4444444444444444,\"#bd3786\"],[0.5555555555555556,\"#d8576b\"],[0.6666666666666666,\"#ed7953\"],[0.7777777777777778,\"#fb9f3a\"],[0.8888888888888888,\"#fdca26\"],[1.0,\"#f0f921\"]],\"type\":\"contour\"}],\"contourcarpet\":[{\"colorbar\":{\"outlinewidth\":0,\"ticks\":\"\"},\"type\":\"contourcarpet\"}],\"heatmap\":[{\"colorbar\":{\"outlinewidth\":0,\"ticks\":\"\"},\"colorscale\":[[0.0,\"#0d0887\"],[0.1111111111111111,\"#46039f\"],[0.2222222222222222,\"#7201a8\"],[0.3333333333333333,\"#9c179e\"],[0.4444444444444444,\"#bd3786\"],[0.5555555555555556,\"#d8576b\"],[0.6666666666666666,\"#ed7953\"],[0.7777777777777778,\"#fb9f3a\"],[0.8888888888888888,\"#fdca26\"],[1.0,\"#f0f921\"]],\"type\":\"heatmap\"}],\"heatmapgl\":[{\"colorbar\":{\"outlinewidth\":0,\"ticks\":\"\"},\"colorscale\":[[0.0,\"#0d0887\"],[0.1111111111111111,\"#46039f\"],[0.2222222222222222,\"#7201a8\"],[0.3333333333333333,\"#9c179e\"],[0.4444444444444444,\"#bd3786\"],[0.5555555555555556,\"#d8576b\"],[0.6666666666666666,\"#ed7953\"],[0.7777777777777778,\"#fb9f3a\"],[0.8888888888888888,\"#fdca26\"],[1.0,\"#f0f921\"]],\"type\":\"heatmapgl\"}],\"histogram\":[{\"marker\":{\"pattern\":{\"fillmode\":\"overlay\",\"size\":10,\"solidity\":0.2}},\"type\":\"histogram\"}],\"histogram2d\":[{\"colorbar\":{\"outlinewidth\":0,\"ticks\":\"\"},\"colorscale\":[[0.0,\"#0d0887\"],[0.1111111111111111,\"#46039f\"],[0.2222222222222222,\"#7201a8\"],[0.3333333333333333,\"#9c179e\"],[0.4444444444444444,\"#bd3786\"],[0.5555555555555556,\"#d8576b\"],[0.6666666666666666,\"#ed7953\"],[0.7777777777777778,\"#fb9f3a\"],[0.8888888888888888,\"#fdca26\"],[1.0,\"#f0f921\"]],\"type\":\"histogram2d\"}],\"histogram2dcontour\":[{\"colorbar\":{\"outlinewidth\":0,\"ticks\":\"\"},\"colorscale\":[[0.0,\"#0d0887\"],[0.1111111111111111,\"#46039f\"],[0.2222222222222222,\"#7201a8\"],[0.3333333333333333,\"#9c179e\"],[0.4444444444444444,\"#bd3786\"],[0.5555555555555556,\"#d8576b\"],[0.6666666666666666,\"#ed7953\"],[0.7777777777777778,\"#fb9f3a\"],[0.8888888888888888,\"#fdca26\"],[1.0,\"#f0f921\"]],\"type\":\"histogram2dcontour\"}],\"mesh3d\":[{\"colorbar\":{\"outlinewidth\":0,\"ticks\":\"\"},\"type\":\"mesh3d\"}],\"parcoords\":[{\"line\":{\"colorbar\":{\"outlinewidth\":0,\"ticks\":\"\"}},\"type\":\"parcoords\"}],\"pie\":[{\"automargin\":true,\"type\":\"pie\"}],\"scatter\":[{\"marker\":{\"colorbar\":{\"outlinewidth\":0,\"ticks\":\"\"}},\"type\":\"scatter\"}],\"scatter3d\":[{\"line\":{\"colorbar\":{\"outlinewidth\":0,\"ticks\":\"\"}},\"marker\":{\"colorbar\":{\"outlinewidth\":0,\"ticks\":\"\"}},\"type\":\"scatter3d\"}],\"scattercarpet\":[{\"marker\":{\"colorbar\":{\"outlinewidth\":0,\"ticks\":\"\"}},\"type\":\"scattercarpet\"}],\"scattergeo\":[{\"marker\":{\"colorbar\":{\"outlinewidth\":0,\"ticks\":\"\"}},\"type\":\"scattergeo\"}],\"scattergl\":[{\"marker\":{\"colorbar\":{\"outlinewidth\":0,\"ticks\":\"\"}},\"type\":\"scattergl\"}],\"scattermapbox\":[{\"marker\":{\"colorbar\":{\"outlinewidth\":0,\"ticks\":\"\"}},\"type\":\"scattermapbox\"}],\"scatterpolar\":[{\"marker\":{\"colorbar\":{\"outlinewidth\":0,\"ticks\":\"\"}},\"type\":\"scatterpolar\"}],\"scatterpolargl\":[{\"marker\":{\"colorbar\":{\"outlinewidth\":0,\"ticks\":\"\"}},\"type\":\"scatterpolargl\"}],\"scatterternary\":[{\"marker\":{\"colorbar\":{\"outlinewidth\":0,\"ticks\":\"\"}},\"type\":\"scatterternary\"}],\"surface\":[{\"colorbar\":{\"outlinewidth\":0,\"ticks\":\"\"},\"colorscale\":[[0.0,\"#0d0887\"],[0.1111111111111111,\"#46039f\"],[0.2222222222222222,\"#7201a8\"],[0.3333333333333333,\"#9c179e\"],[0.4444444444444444,\"#bd3786\"],[0.5555555555555556,\"#d8576b\"],[0.6666666666666666,\"#ed7953\"],[0.7777777777777778,\"#fb9f3a\"],[0.8888888888888888,\"#fdca26\"],[1.0,\"#f0f921\"]],\"type\":\"surface\"}],\"table\":[{\"cells\":{\"fill\":{\"color\":\"#EBF0F8\"},\"line\":{\"color\":\"white\"}},\"header\":{\"fill\":{\"color\":\"#C8D4E3\"},\"line\":{\"color\":\"white\"}},\"type\":\"table\"}]},\"layout\":{\"annotationdefaults\":{\"arrowcolor\":\"#2a3f5f\",\"arrowhead\":0,\"arrowwidth\":1},\"autotypenumbers\":\"strict\",\"coloraxis\":{\"colorbar\":{\"outlinewidth\":0,\"ticks\":\"\"}},\"colorscale\":{\"diverging\":[[0,\"#8e0152\"],[0.1,\"#c51b7d\"],[0.2,\"#de77ae\"],[0.3,\"#f1b6da\"],[0.4,\"#fde0ef\"],[0.5,\"#f7f7f7\"],[0.6,\"#e6f5d0\"],[0.7,\"#b8e186\"],[0.8,\"#7fbc41\"],[0.9,\"#4d9221\"],[1,\"#276419\"]],\"sequential\":[[0.0,\"#0d0887\"],[0.1111111111111111,\"#46039f\"],[0.2222222222222222,\"#7201a8\"],[0.3333333333333333,\"#9c179e\"],[0.4444444444444444,\"#bd3786\"],[0.5555555555555556,\"#d8576b\"],[0.6666666666666666,\"#ed7953\"],[0.7777777777777778,\"#fb9f3a\"],[0.8888888888888888,\"#fdca26\"],[1.0,\"#f0f921\"]],\"sequentialminus\":[[0.0,\"#0d0887\"],[0.1111111111111111,\"#46039f\"],[0.2222222222222222,\"#7201a8\"],[0.3333333333333333,\"#9c179e\"],[0.4444444444444444,\"#bd3786\"],[0.5555555555555556,\"#d8576b\"],[0.6666666666666666,\"#ed7953\"],[0.7777777777777778,\"#fb9f3a\"],[0.8888888888888888,\"#fdca26\"],[1.0,\"#f0f921\"]]},\"colorway\":[\"#636efa\",\"#EF553B\",\"#00cc96\",\"#ab63fa\",\"#FFA15A\",\"#19d3f3\",\"#FF6692\",\"#B6E880\",\"#FF97FF\",\"#FECB52\"],\"font\":{\"color\":\"#2a3f5f\"},\"geo\":{\"bgcolor\":\"white\",\"lakecolor\":\"white\",\"landcolor\":\"#E5ECF6\",\"showlakes\":true,\"showland\":true,\"subunitcolor\":\"white\"},\"hoverlabel\":{\"align\":\"left\"},\"hovermode\":\"closest\",\"mapbox\":{\"style\":\"light\"},\"paper_bgcolor\":\"white\",\"plot_bgcolor\":\"#E5ECF6\",\"polar\":{\"angularaxis\":{\"gridcolor\":\"white\",\"linecolor\":\"white\",\"ticks\":\"\"},\"bgcolor\":\"#E5ECF6\",\"radialaxis\":{\"gridcolor\":\"white\",\"linecolor\":\"white\",\"ticks\":\"\"}},\"scene\":{\"xaxis\":{\"backgroundcolor\":\"#E5ECF6\",\"gridcolor\":\"white\",\"gridwidth\":2,\"linecolor\":\"white\",\"showbackground\":true,\"ticks\":\"\",\"zerolinecolor\":\"white\"},\"yaxis\":{\"backgroundcolor\":\"#E5ECF6\",\"gridcolor\":\"white\",\"gridwidth\":2,\"linecolor\":\"white\",\"showbackground\":true,\"ticks\":\"\",\"zerolinecolor\":\"white\"},\"zaxis\":{\"backgroundcolor\":\"#E5ECF6\",\"gridcolor\":\"white\",\"gridwidth\":2,\"linecolor\":\"white\",\"showbackground\":true,\"ticks\":\"\",\"zerolinecolor\":\"white\"}},\"shapedefaults\":{\"line\":{\"color\":\"#2a3f5f\"}},\"ternary\":{\"aaxis\":{\"gridcolor\":\"white\",\"linecolor\":\"white\",\"ticks\":\"\"},\"baxis\":{\"gridcolor\":\"white\",\"linecolor\":\"white\",\"ticks\":\"\"},\"bgcolor\":\"#E5ECF6\",\"caxis\":{\"gridcolor\":\"white\",\"linecolor\":\"white\",\"ticks\":\"\"}},\"title\":{\"x\":0.05},\"xaxis\":{\"automargin\":true,\"gridcolor\":\"white\",\"linecolor\":\"white\",\"ticks\":\"\",\"title\":{\"standoff\":15},\"zerolinecolor\":\"white\",\"zerolinewidth\":2},\"yaxis\":{\"automargin\":true,\"gridcolor\":\"white\",\"linecolor\":\"white\",\"ticks\":\"\",\"title\":{\"standoff\":15},\"zerolinecolor\":\"white\",\"zerolinewidth\":2}}},\"title\":{\"text\":\"The Comparison of different models\"},\"xaxis\":{\"dtick\":1,\"gridwidth\":2,\"showticklabels\":false,\"tick0\":-0.5,\"ticks\":\"\",\"zeroline\":false},\"xaxis2\":{\"anchor\":\"y2\"},\"yaxis\":{\"autorange\":\"reversed\",\"domain\":[0,0.55],\"dtick\":1,\"gridwidth\":2,\"showticklabels\":false,\"tick0\":0.5,\"ticks\":\"\",\"zeroline\":false},\"yaxis2\":{\"anchor\":\"x2\",\"domain\":[0.6,1],\"title\":{\"text\":\"Comparisons\"}}},                        {\"responsive\": true}                    ).then(function(){\n",
       "                            \n",
       "var gd = document.getElementById('2e596b2f-5764-4b75-bf00-8194b39c2a5e');\n",
       "var x = new MutationObserver(function (mutations, observer) {{\n",
       "        var display = window.getComputedStyle(gd).display;\n",
       "        if (!display || display === 'none') {{\n",
       "            console.log([gd, 'removed!']);\n",
       "            Plotly.purge(gd);\n",
       "            observer.disconnect();\n",
       "        }}\n",
       "}});\n",
       "\n",
       "// Listen for the removal of the full notebook cells\n",
       "var notebookContainer = gd.closest('#notebook-container');\n",
       "if (notebookContainer) {{\n",
       "    x.observe(notebookContainer, {childList: true});\n",
       "}}\n",
       "\n",
       "// Listen for the clearing of the current output cell\n",
       "var outputEl = gd.closest('.output');\n",
       "if (outputEl) {{\n",
       "    x.observe(outputEl, {childList: true});\n",
       "}}\n",
       "\n",
       "                        })                };                });            </script>        </div>"
      ]
     },
     "metadata": {},
     "output_type": "display_data"
    }
   ],
   "source": [
    "import plotly.graph_objects as go\n",
    "import plotly.figure_factory as ff\n",
    "table_data = [['Models','RMSE', 'MAE', 'Fit Time','Test Time'],\n",
    "              ['svd',svdmodel['test_rmse'].mean().round(3),svdmodel['test_mae'].mean().round(3),round(svdmodel['fit_time'][1],3),round(svdmodel['test_time'][1],3)],\n",
    "              ['base',basemodel['test_rmse'].mean().round(3),basemodel['test_mae'].mean().round(3),round(basemodel['fit_time'][1],3),round(basemodel['test_time'][1],3)],\n",
    "              ['mean',meanmodel['test_rmse'].mean().round(3),meanmodel['test_mae'].mean().round(3),round(meanmodel['fit_time'][1],3),round(meanmodel['test_time'][1],3)]]\n",
    "fig = ff.create_table(table_data, height_constant=20)\n",
    "teams = ['SVD','Base','Mean']\n",
    "\n",
    "# create four different bars \n",
    "nm = [svdmodel['test_rmse'].mean(),svdmodel['test_rmse'].mean(),svdmodel['test_rmse'].mean()]\n",
    "fm = [svdmodel['test_mae'].mean(),svdmodel['test_mae'].mean(),svdmodel['test_mae'].mean()]\n",
    "ns = [svdmodel['fit_time'][1],svdmodel['fit_time'][1],svdmodel['fit_time'][1]]\n",
    "fs = [svdmodel['test_time'][1],svdmodel['test_time'][1],svdmodel['test_time'][1]]\n",
    "\n",
    "# Make traces for graph\n",
    "trace1 = go.Bar(x=teams, y=nm, xaxis='x2', yaxis='y2',\n",
    "                marker=dict(color='#0099ff'),\n",
    "                name='RMSE')\n",
    "trace2 = go.Bar(x=teams, y=fm, xaxis='x2', yaxis='y2',\n",
    "                marker=dict(color='#404040'),\n",
    "                name='MAE')\n",
    "trace3 = go.Bar(x=teams, y=ns, xaxis='x2', yaxis='y2',\n",
    "                marker=dict(color='red'),\n",
    "                name='Fit Time')\n",
    "trace4 = go.Bar(x=teams, y=fs, xaxis='x2', yaxis='y2',\n",
    "                marker=dict(color='green'),\n",
    "                name='Test Time')\n",
    "# Add trace data to figure\n",
    "fig.add_traces([trace1, trace2,trace3,trace4])\n",
    "# initialize xaxis2 and yaxis2\n",
    "fig['layout']['xaxis2'] = {}\n",
    "fig['layout']['yaxis2'] = {}\n",
    "\n",
    "# Edit layout for subplots\n",
    "fig.layout.yaxis.update({'domain': [0, .55]})\n",
    "fig.layout.yaxis2.update({'domain': [.6, 1]})\n",
    "\n",
    "# The graph's yaxis2 MUST BE anchored to the graph's xaxis2 and vice versa\n",
    "fig.layout.yaxis2.update({'anchor': 'x2'})\n",
    "fig.layout.xaxis2.update({'anchor': 'y2'})\n",
    "fig.layout.yaxis2.update({'title': 'Comparisons'})\n",
    "\n",
    "# Update the margins to add a title and see graph x-labels.\n",
    "fig.layout.margin.update({'t':50, 'l':50})\n",
    "fig.layout.update({'title': 'The Comparison of different models'})\n",
    "\n",
    "# Update the height because adding a graph vertically will interact with the plot height calculated for the table\n",
    "fig.layout.update({'height':400})\n",
    "fig.show()"
   ]
  },
  {
   "cell_type": "markdown",
   "id": "5c549ad0",
   "metadata": {},
   "source": [
    "**Note:** *To our surprise, the baseline method has both the best RMSE performance and shortest training time.*"
   ]
  },
  {
   "cell_type": "markdown",
   "id": "0c68b823",
   "metadata": {},
   "source": [
    "###  User-rating based CF Recommender  \n",
    "**Note:** *In this part, we will implement the recommender algorithms to help us recommend movies according to the specified user and movie.*"
   ]
  },
  {
   "cell_type": "code",
   "execution_count": 16,
   "id": "38b332ef",
   "metadata": {},
   "outputs": [],
   "source": [
    "from surprise import KNNWithMeans\n",
    "rating_data = Dataset.load_from_df(ratings[['userId', 'movieId', 'rating']], Reader())\n",
    "def user_based_CF_recommender(uid,k=15,recom_num=10,return_list=False):\n",
    "    if not return_list:\n",
    "        print('Recommendation Engine: User-based CF',)\n",
    "        print('Recommendation for user',uid)\n",
    "    user_id = uid\n",
    "    algo = KNNWithMeans(verbose=False)\n",
    "    trainset = rating_data.build_full_trainset()\n",
    "    algo.fit(trainset)\n",
    "    sim_matrix = algo.compute_similarities()\n",
    "    neighbor_list = algo.get_neighbors(uid-1,15)\n",
    "\n",
    "    count_dict = {}\n",
    "    for uid in neighbor_list:\n",
    "        sim = sim_matrix[user_id-1][uid-1]\n",
    "        ratings_movies = set(ratings[ratings['userId'] == uid].movieId.tolist())\n",
    "        for m in ratings_movies:\n",
    "            if m not in count_dict:\n",
    "                count_dict[m] = sim\n",
    "            else:\n",
    "                count_dict[m] += sim\n",
    "    sorted_dict = {k: v for k, v in sorted(count_dict.items(), key=lambda item: item[1],reverse=True)}\n",
    "    recommend_movie = list(sorted_dict.keys())[:31]\n",
    "    final_recom = []\n",
    "    count = 0\n",
    "    for id in recommend_movie:\n",
    "        t1 = data[data['id'] == id].title.tolist()\n",
    "        if t1 != []:\n",
    "            if count < recom_num:\n",
    "                final_recom.append(id)\n",
    "                count += 1\n",
    "                if not return_list:\n",
    "                    print('{}. {}'.format(count,t1[0]))\n",
    "    if not return_list:\n",
    "        return (final_recom, sorted_dict)\n",
    "    else:\n",
    "        return final_recom"
   ]
  },
  {
   "cell_type": "code",
   "execution_count": 17,
   "id": "05a418e1",
   "metadata": {},
   "outputs": [
    {
     "name": "stdout",
     "output_type": "stream",
     "text": [
      "Recommendation Engine: User-based CF\n",
      "Recommendation for user 1\n",
      "1. Terminator 3: Rise of the Machines\n",
      "2. Young and Innocent\n",
      "3. The Great Outdoors\n",
      "4. My Tutor\n",
      "5. Married to the Mob\n",
      "6. One Night at McCool's\n",
      "7. The Goddess\n",
      "8. Night on Earth\n",
      "9. Titanic\n",
      "10. Cars\n",
      "11. Ask the Dust\n",
      "12. Batman Returns\n"
     ]
    }
   ],
   "source": [
    "recom,countdict = user_based_CF_recommender(1,k=15,recom_num=15)"
   ]
  },
  {
   "cell_type": "code",
   "execution_count": 18,
   "id": "6dda0b3f",
   "metadata": {},
   "outputs": [
    {
     "data": {
      "text/html": [
       "<div>\n",
       "<style scoped>\n",
       "    .dataframe tbody tr th:only-of-type {\n",
       "        vertical-align: middle;\n",
       "    }\n",
       "\n",
       "    .dataframe tbody tr th {\n",
       "        vertical-align: top;\n",
       "    }\n",
       "\n",
       "    .dataframe thead th {\n",
       "        text-align: right;\n",
       "    }\n",
       "</style>\n",
       "<table border=\"1\" class=\"dataframe\">\n",
       "  <thead>\n",
       "    <tr style=\"text-align: right;\">\n",
       "      <th></th>\n",
       "      <th>Movie ID</th>\n",
       "      <th>Recommendation score</th>\n",
       "    </tr>\n",
       "  </thead>\n",
       "  <tbody>\n",
       "    <tr>\n",
       "      <th>0</th>\n",
       "      <td>296</td>\n",
       "      <td>1.791393</td>\n",
       "    </tr>\n",
       "    <tr>\n",
       "      <th>1</th>\n",
       "      <td>2762</td>\n",
       "      <td>1.621632</td>\n",
       "    </tr>\n",
       "    <tr>\n",
       "      <th>2</th>\n",
       "      <td>1198</td>\n",
       "      <td>1.483701</td>\n",
       "    </tr>\n",
       "    <tr>\n",
       "      <th>3</th>\n",
       "      <td>2617</td>\n",
       "      <td>1.483701</td>\n",
       "    </tr>\n",
       "    <tr>\n",
       "      <th>4</th>\n",
       "      <td>2193</td>\n",
       "      <td>1.483701</td>\n",
       "    </tr>\n",
       "    <tr>\n",
       "      <th>...</th>\n",
       "      <td>...</td>\n",
       "      <td>...</td>\n",
       "    </tr>\n",
       "    <tr>\n",
       "      <th>1286</th>\n",
       "      <td>1517</td>\n",
       "      <td>0.000000</td>\n",
       "    </tr>\n",
       "    <tr>\n",
       "      <th>1287</th>\n",
       "      <td>1007</td>\n",
       "      <td>0.000000</td>\n",
       "    </tr>\n",
       "    <tr>\n",
       "      <th>1288</th>\n",
       "      <td>1175</td>\n",
       "      <td>0.000000</td>\n",
       "    </tr>\n",
       "    <tr>\n",
       "      <th>1289</th>\n",
       "      <td>1348</td>\n",
       "      <td>0.000000</td>\n",
       "    </tr>\n",
       "    <tr>\n",
       "      <th>1290</th>\n",
       "      <td>1223</td>\n",
       "      <td>0.000000</td>\n",
       "    </tr>\n",
       "  </tbody>\n",
       "</table>\n",
       "<p>1291 rows × 2 columns</p>\n",
       "</div>"
      ],
      "text/plain": [
       "      Movie ID  Recommendation score\n",
       "0          296              1.791393\n",
       "1         2762              1.621632\n",
       "2         1198              1.483701\n",
       "3         2617              1.483701\n",
       "4         2193              1.483701\n",
       "...        ...                   ...\n",
       "1286      1517              0.000000\n",
       "1287      1007              0.000000\n",
       "1288      1175              0.000000\n",
       "1289      1348              0.000000\n",
       "1290      1223              0.000000\n",
       "\n",
       "[1291 rows x 2 columns]"
      ]
     },
     "execution_count": 18,
     "metadata": {},
     "output_type": "execute_result"
    }
   ],
   "source": [
    "mids = []\n",
    "scores = []\n",
    "for k in countdict:\n",
    "    mids.append(k)\n",
    "    scores.append(countdict[k])\n",
    "pd.DataFrame({'Movie ID':mids, 'Recommendation score': scores})"
   ]
  },
  {
   "cell_type": "markdown",
   "id": "bf83b3ff",
   "metadata": {},
   "source": [
    "###  Description-based recommender  \n",
    "**Note:** *In this part, we will make use the tf-idf matrix to recommend movies basing on the cosine similarity measurement.*"
   ]
  },
  {
   "cell_type": "code",
   "execution_count": 19,
   "id": "97d9dac3",
   "metadata": {},
   "outputs": [
    {
     "data": {
      "text/plain": [
       "0    Led by Woody, Andy's toys live happily in his ...\n",
       "1    Roll the dice and unleash the excitement!When ...\n",
       "2    Still Yelling. Still Fighting. Still Ready for...\n",
       "3    Friends are the people who let you be yourself...\n",
       "4    Just When His World Is Back To Normal... He's ...\n",
       "Name: text, dtype: object"
      ]
     },
     "execution_count": 19,
     "metadata": {},
     "output_type": "execute_result"
    }
   ],
   "source": [
    "data['text'] = data['tagline'].fillna('') + data['overview'].fillna('')\n",
    "data['text'].head()"
   ]
  },
  {
   "cell_type": "code",
   "execution_count": 20,
   "id": "ce778815",
   "metadata": {},
   "outputs": [],
   "source": [
    "# Stemming algorithm\n",
    "stemmer = SnowballStemmer('english')\n",
    "data['text'] = data['text'].apply(lambda x: stemmer.stem(x))"
   ]
  },
  {
   "cell_type": "code",
   "execution_count": 21,
   "id": "a4d9ab2d",
   "metadata": {},
   "outputs": [],
   "source": [
    "# Find the cosine similarity score between the descriptions of each movie\n",
    "tf = TfidfVectorizer(analyzer='word',ngram_range=(1, 2),min_df=0, stop_words='english',use_idf=True)\n",
    "tfidf_matrix = tf.fit_transform(data['text'])\n",
    "\n",
    "from sklearn.metrics.pairwise import cosine_similarity\n",
    "cosine_sim = cosine_similarity(tfidf_matrix, tfidf_matrix)\n",
    "indice = pd.Series(data.index,index = data['title'])"
   ]
  },
  {
   "cell_type": "code",
   "execution_count": 22,
   "id": "4675ccef",
   "metadata": {},
   "outputs": [],
   "source": [
    "def description_recommender(name,recom_num=10):\n",
    "    print('Recommendation Engine: description-based',)\n",
    "    print('Recommendation from',name)\n",
    "    idx = indice[name]\n",
    "    similarity = list(enumerate(cosine_sim[idx]))\n",
    "    similarity = sorted(similarity,key = lambda x:x[1], reverse = True)\n",
    "    idxlist = [i[0] for i in similarity[1:recom_num+1]]\n",
    "    recommend_list = data['title'].iloc[idxlist]\n",
    "    for i in range(len(recommend_list)):\n",
    "        print(str(i+1)+'.',recommend_list.iloc[i])"
   ]
  },
  {
   "cell_type": "code",
   "execution_count": 23,
   "id": "a3854442",
   "metadata": {},
   "outputs": [
    {
     "name": "stdout",
     "output_type": "stream",
     "text": [
      "Recommendation Engine: description-based\n",
      "Recommendation from Toy Story\n",
      "1. Toy Story 2\n",
      "2. Toy Story 3\n",
      "3. Small Fry\n",
      "4. Andy Hardy's Blonde Trouble\n",
      "5. The Champ\n",
      "6. The 40 Year Old Virgin\n",
      "7. Andy Kaufman Plays Carnegie Hall\n",
      "8. Man on the Moon\n",
      "9. Superstar: The Life and Times of Andy Warhol\n",
      "10. Andy Peters: Exclamation Mark Question Point\n"
     ]
    }
   ],
   "source": [
    "movie_name = 'Toy Story'\n",
    "description_recommender(movie_name,recom_num=10)"
   ]
  },
  {
   "cell_type": "code",
   "execution_count": 24,
   "id": "51638a59",
   "metadata": {},
   "outputs": [
    {
     "data": {
      "text/html": [
       "<div>\n",
       "<style scoped>\n",
       "    .dataframe tbody tr th:only-of-type {\n",
       "        vertical-align: middle;\n",
       "    }\n",
       "\n",
       "    .dataframe tbody tr th {\n",
       "        vertical-align: top;\n",
       "    }\n",
       "\n",
       "    .dataframe thead th {\n",
       "        text-align: right;\n",
       "    }\n",
       "</style>\n",
       "<table border=\"1\" class=\"dataframe\">\n",
       "  <thead>\n",
       "    <tr style=\"text-align: right;\">\n",
       "      <th></th>\n",
       "      <th>Movie names</th>\n",
       "      <th>Description similarity</th>\n",
       "    </tr>\n",
       "  </thead>\n",
       "  <tbody>\n",
       "    <tr>\n",
       "      <th>0</th>\n",
       "      <td>Toy Story 2</td>\n",
       "      <td>0.239584</td>\n",
       "    </tr>\n",
       "    <tr>\n",
       "      <th>1</th>\n",
       "      <td>Toy Story 3</td>\n",
       "      <td>0.212397</td>\n",
       "    </tr>\n",
       "    <tr>\n",
       "      <th>2</th>\n",
       "      <td>Small Fry</td>\n",
       "      <td>0.113012</td>\n",
       "    </tr>\n",
       "    <tr>\n",
       "      <th>3</th>\n",
       "      <td>Andy Hardy's Blonde Trouble</td>\n",
       "      <td>0.099923</td>\n",
       "    </tr>\n",
       "    <tr>\n",
       "      <th>4</th>\n",
       "      <td>The Champ</td>\n",
       "      <td>0.099666</td>\n",
       "    </tr>\n",
       "    <tr>\n",
       "      <th>5</th>\n",
       "      <td>The 40 Year Old Virgin</td>\n",
       "      <td>0.089242</td>\n",
       "    </tr>\n",
       "    <tr>\n",
       "      <th>6</th>\n",
       "      <td>Andy Kaufman Plays Carnegie Hall</td>\n",
       "      <td>0.089238</td>\n",
       "    </tr>\n",
       "    <tr>\n",
       "      <th>7</th>\n",
       "      <td>Man on the Moon</td>\n",
       "      <td>0.088255</td>\n",
       "    </tr>\n",
       "    <tr>\n",
       "      <th>8</th>\n",
       "      <td>Superstar: The Life and Times of Andy Warhol</td>\n",
       "      <td>0.086806</td>\n",
       "    </tr>\n",
       "    <tr>\n",
       "      <th>9</th>\n",
       "      <td>Andy Peters: Exclamation Mark Question Point</td>\n",
       "      <td>0.081660</td>\n",
       "    </tr>\n",
       "  </tbody>\n",
       "</table>\n",
       "</div>"
      ],
      "text/plain": [
       "                                    Movie names  Description similarity\n",
       "0                                   Toy Story 2                0.239584\n",
       "1                                   Toy Story 3                0.212397\n",
       "2                                     Small Fry                0.113012\n",
       "3                   Andy Hardy's Blonde Trouble                0.099923\n",
       "4                                     The Champ                0.099666\n",
       "5                        The 40 Year Old Virgin                0.089242\n",
       "6              Andy Kaufman Plays Carnegie Hall                0.089238\n",
       "7                               Man on the Moon                0.088255\n",
       "8  Superstar: The Life and Times of Andy Warhol                0.086806\n",
       "9  Andy Peters: Exclamation Mark Question Point                0.081660"
      ]
     },
     "execution_count": 24,
     "metadata": {},
     "output_type": "execute_result"
    }
   ],
   "source": [
    "idxlist = [2697, 12403, 18994, 18475, 7263, 8645, 31769, 2754, 28525, 31286]\n",
    "sim_score = []\n",
    "for id in idxlist:\n",
    "    sim_score.append(cosine_sim[0][id])\n",
    "names = ['Toy Story 2','Toy Story 3','Small Fry',\"Andy Hardy's Blonde Trouble\",'The Champ','The 40 Year Old Virgin','Andy Kaufman Plays Carnegie Hall','Man on the Moon','Superstar: The Life and Times of Andy Warhol','Andy Peters: Exclamation Mark Question Point']\n",
    "pd.DataFrame({'Movie names':names,'Description similarity':sim_score})"
   ]
  },
  {
   "cell_type": "markdown",
   "id": "fd3381da",
   "metadata": {},
   "source": [
    "### Keywords-based recommender  \n",
    "**Note:** *The improvement of the content-based method, this keywords-based recommender only consider the common keywords.*"
   ]
  },
  {
   "cell_type": "code",
   "execution_count": 26,
   "id": "9bcc34d5",
   "metadata": {},
   "outputs": [],
   "source": [
    "num_movie = data.shape[0]\n",
    "new_doc = []\n",
    "self_voc = {}\n",
    "count = 0\n",
    "# Create new_doc, which is a list of keywords\n",
    "for i in range(num_movie):\n",
    "    key_lists = data.loc[(i,'keylist')]\n",
    "    actors = data.loc[(i,'actors')]\n",
    "    director = data.loc[(i,'director')]\n",
    "    genres = data.loc[(i,'genres')]\n",
    "    company = data.loc[(i,'production_companies')]\n",
    "    str1 = \"\"\n",
    "    str2 = \"\"\n",
    "    str3 = \"\"\n",
    "    if key_lists != []:\n",
    "        for key in key_lists:\n",
    "            key = key.replace(\" \",\"\")\n",
    "            if key not in self_voc:\n",
    "                self_voc[key] = count\n",
    "                count += 1\n",
    "            str1  = str1 + key + \" \"\n",
    "    if actors != []:\n",
    "        for actor in actors:\n",
    "            if actor not in self_voc:\n",
    "                self_voc[actor] = count\n",
    "                count += 1\n",
    "        str2 = \" \".join(actors)\n",
    "    if genres != []:\n",
    "        for genre in genres:\n",
    "            genre = genre.replace(\" \",\"\")\n",
    "            if genre not in self_voc:\n",
    "                self_voc[genre] = count\n",
    "                count += 1\n",
    "            str3  = str3 + genre + \" \"\n",
    "        str1 = str1 + \" \"+ str2 + \" \" + str3 + \" \"\n",
    "    if type(director) != float:\n",
    "        if director not in self_voc:\n",
    "            self_voc[director] = count\n",
    "            count += 1\n",
    "        str1 = str1 + director + \" \"\n",
    "    if type(company) != float:\n",
    "        if company not in self_voc:\n",
    "            self_voc[company] = count\n",
    "            count += 1\n",
    "        str1 = str1 +company\n",
    "    new_doc.append(str1)\n",
    "data['new_doc'] = new_doc"
   ]
  },
  {
   "cell_type": "code",
   "execution_count": 27,
   "id": "11248fed",
   "metadata": {},
   "outputs": [],
   "source": [
    "ct = CountVectorizer(analyzer='word',lowercase=False,ngram_range=(1,9),vocabulary=self_voc)\n",
    "count_matrix = ct.fit_transform(data['new_doc'])\n",
    "\n",
    "from sklearn.metrics.pairwise import linear_kernel\n",
    "cosine_sim = linear_kernel(count_matrix, count_matrix)\n",
    "indice = pd.Series(data.index,index = data['title'])"
   ]
  },
  {
   "cell_type": "code",
   "execution_count": 28,
   "id": "594e08d4",
   "metadata": {},
   "outputs": [],
   "source": [
    "# Recommendation engine\n",
    "def keywords_recommender(name,recom_num=10,return_list=False):\n",
    "    idx = indice[name]\n",
    "    similarity = list(enumerate(cosine_sim[idx]))\n",
    "    similarity = sorted(similarity,key = lambda x:x[1], reverse = True)\n",
    "    idxlist = [i[0] for i in similarity[1:recom_num+1]]\n",
    "    title_list = data['title'].iloc[idxlist].tolist()[:recom_num]\n",
    "    if not return_list:\n",
    "        print('Recommendation Engine: keywords-based',)\n",
    "        print('Recommendation from',movie_name)\n",
    "        for i in range(len(title_list)):\n",
    "            print('{}. {}'.format(i+1,title_list[i]))\n",
    "    else:\n",
    "        return idxlist"
   ]
  },
  {
   "cell_type": "code",
   "execution_count": 29,
   "id": "97a5633d",
   "metadata": {},
   "outputs": [
    {
     "name": "stdout",
     "output_type": "stream",
     "text": [
      "Recommendation Engine: keywords-based\n",
      "Recommendation from The Shawshank Redemption\n",
      "1. The Green Mile\n",
      "2. Malcolm X\n",
      "3. Dead Man Walking\n",
      "4. Strange Days\n",
      "5. Dolores Claiborne\n",
      "6. Murder in the First\n",
      "7. The Hudsucker Proxy\n",
      "8. In the Line of Fire\n",
      "9. The Spitfire Grill\n",
      "10. Hurricane Streets\n",
      "11. Witness\n",
      "12. Palmetto\n",
      "13. The Limey\n",
      "14. Papillon\n",
      "15. Antitrust\n"
     ]
    }
   ],
   "source": [
    "movie_name = 'The Shawshank Redemption'\n",
    "keywords_recommender(movie_name,recom_num=15)"
   ]
  },
  {
   "cell_type": "code",
   "execution_count": 30,
   "id": "2014cba3",
   "metadata": {},
   "outputs": [
    {
     "data": {
      "text/html": [
       "<div>\n",
       "<style scoped>\n",
       "    .dataframe tbody tr th:only-of-type {\n",
       "        vertical-align: middle;\n",
       "    }\n",
       "\n",
       "    .dataframe tbody tr th {\n",
       "        vertical-align: top;\n",
       "    }\n",
       "\n",
       "    .dataframe thead th {\n",
       "        text-align: right;\n",
       "    }\n",
       "</style>\n",
       "<table border=\"1\" class=\"dataframe\">\n",
       "  <thead>\n",
       "    <tr style=\"text-align: right;\">\n",
       "      <th></th>\n",
       "      <th>Movie names</th>\n",
       "      <th>Count similarity</th>\n",
       "    </tr>\n",
       "  </thead>\n",
       "  <tbody>\n",
       "    <tr>\n",
       "      <th>0</th>\n",
       "      <td>Toy Story 2</td>\n",
       "      <td>12.0</td>\n",
       "    </tr>\n",
       "    <tr>\n",
       "      <th>1</th>\n",
       "      <td>Toy Story That Time Forgot</td>\n",
       "      <td>9.0</td>\n",
       "    </tr>\n",
       "    <tr>\n",
       "      <th>2</th>\n",
       "      <td>Toy Story 3</td>\n",
       "      <td>8.0</td>\n",
       "    </tr>\n",
       "    <tr>\n",
       "      <th>3</th>\n",
       "      <td>Recess: School's Out</td>\n",
       "      <td>7.0</td>\n",
       "    </tr>\n",
       "    <tr>\n",
       "      <th>4</th>\n",
       "      <td>Up</td>\n",
       "      <td>7.0</td>\n",
       "    </tr>\n",
       "    <tr>\n",
       "      <th>5</th>\n",
       "      <td>One Man Band</td>\n",
       "      <td>7.0</td>\n",
       "    </tr>\n",
       "    <tr>\n",
       "      <th>6</th>\n",
       "      <td>Dug's Special Mission</td>\n",
       "      <td>7.0</td>\n",
       "    </tr>\n",
       "    <tr>\n",
       "      <th>7</th>\n",
       "      <td>Hawaiian Vacation</td>\n",
       "      <td>7.0</td>\n",
       "    </tr>\n",
       "    <tr>\n",
       "      <th>8</th>\n",
       "      <td>Small Fry</td>\n",
       "      <td>7.0</td>\n",
       "    </tr>\n",
       "    <tr>\n",
       "      <th>9</th>\n",
       "      <td>The Iron Giant</td>\n",
       "      <td>6.0</td>\n",
       "    </tr>\n",
       "    <tr>\n",
       "      <th>10</th>\n",
       "      <td>Finding Nemo</td>\n",
       "      <td>6.0</td>\n",
       "    </tr>\n",
       "  </tbody>\n",
       "</table>\n",
       "</div>"
      ],
      "text/plain": [
       "                   Movie names  Count similarity\n",
       "0                  Toy Story 2              12.0\n",
       "1   Toy Story That Time Forgot               9.0\n",
       "2                  Toy Story 3               8.0\n",
       "3         Recess: School's Out               7.0\n",
       "4                           Up               7.0\n",
       "5                 One Man Band               7.0\n",
       "6        Dug's Special Mission               7.0\n",
       "7            Hawaiian Vacation               7.0\n",
       "8                    Small Fry               7.0\n",
       "9               The Iron Giant               6.0\n",
       "10                Finding Nemo               6.0"
      ]
     },
     "execution_count": 30,
     "metadata": {},
     "output_type": "execute_result"
    }
   ],
   "source": [
    "idxlist = [2697, 19921, 12403, 3637, 11259, 14991, 17732, 18992, 18994, 2393, 5522]\n",
    "sim_score = []\n",
    "for id in idxlist:\n",
    "    sim_score.append(cosine_sim[0][id])\n",
    "names = ['Toy Story 2', 'Toy Story That Time Forgot', 'Toy Story 3', \"Recess: School's Out\", 'Up', 'One Man Band', \"Dug's Special Mission\", 'Hawaiian Vacation', 'Small Fry', 'The Iron Giant', 'Finding Nemo']\n",
    "pd.DataFrame({'Movie names':names,'Count similarity':sim_score})"
   ]
  },
  {
   "cell_type": "markdown",
   "id": "72df11df",
   "metadata": {},
   "source": [
    "### Hybrid recommender  \n",
    "**Note:** *The hypbrid method combining both baseline method and keyword-based method.*"
   ]
  },
  {
   "cell_type": "code",
   "execution_count": 31,
   "id": "3b307568",
   "metadata": {},
   "outputs": [],
   "source": [
    "from surprise import BaselineOnly\n",
    "def Hybrid_recommender(uid,mn,recom_num=10):\n",
    "    print('Recommendation engine: Hybrid')\n",
    "    print('Recommendation for user {}'.format(uid))\n",
    "    print('After watching {}, you may like:'.format(mn))\n",
    "    algo = BaselineOnly(verbose=False)\n",
    "    trainset = rating_data.build_full_trainset()\n",
    "    algo.fit(trainset)\n",
    "    mb_list = keywords_recommender(mn,return_list=True,recom_num=15)\n",
    "    mb_list = data['id'].iloc[mb_list].tolist()\n",
    "    ub_list = user_based_CF_recommender(uid,return_list=True,recom_num=15)\n",
    "    cand = mb_list + ub_list\n",
    "    cand_pred = []\n",
    "    for c in cand:\n",
    "        prediction = algo.predict(uid, c)\n",
    "        cand_pred.append(prediction.est)\n",
    "    df = pd.DataFrame({'id':cand, 'pred_rating':cand_pred})\n",
    "    df.sort_values(by='pred_rating',ascending=False,inplace=True)\n",
    "    recom_order = df.id.tolist()\n",
    "    recom_count = 0\n",
    "    for cid in recom_order:\n",
    "        t = data[data['id']==cid].title.tolist()\n",
    "        if t != []:\n",
    "            recom_count += 1\n",
    "            print('{}. {}'.format(recom_count,t[0]))\n",
    "        if recom_count >= recom_num:\n",
    "            break"
   ]
  },
  {
   "cell_type": "code",
   "execution_count": 32,
   "id": "cfa420e9",
   "metadata": {},
   "outputs": [
    {
     "name": "stdout",
     "output_type": "stream",
     "text": [
      "Recommendation engine: Hybrid\n",
      "Recommendation for user 1\n",
      "After watching The Shawshank Redemption, you may like:\n",
      "1. Terminator 3: Rise of the Machines\n",
      "2. Cars\n",
      "3. Young and Innocent\n",
      "4. The Green Mile\n",
      "5. One Night at McCool's\n",
      "6. Strange Days\n",
      "7. Batman Returns\n",
      "8. Married to the Mob\n",
      "9. The Goddess\n",
      "10. Ask the Dust\n"
     ]
    }
   ],
   "source": [
    "Hybrid_recommender(1,'The Shawshank Redemption',recom_num=10)"
   ]
  },
  {
   "cell_type": "markdown",
   "id": "29d33027",
   "metadata": {},
   "source": [
    "### Deep Learning method  \n",
    "**Note:** *In this part, we will try to utilize the deep learning method to implement the GMF and MLP method.*"
   ]
  },
  {
   "cell_type": "code",
   "execution_count": 44,
   "id": "c29784de",
   "metadata": {},
   "outputs": [],
   "source": [
    "X = ratings.iloc[:,:2]\n",
    "Y = ratings.iloc[:,2]\n",
    "x_train, x_test, y_train, y_test = train_test_split(X, Y, test_size = 0.2, random_state = 66)\n",
    "# The number of latent factors for the embedding\n",
    "n_latent_factors = 50\n",
    "# no of users and movies\n",
    "n_users, n_movies = len(ratings['userId'].unique()), len(ratings['movieId'].unique()) "
   ]
  },
  {
   "cell_type": "markdown",
   "id": "97f6c96f",
   "metadata": {},
   "source": [
    "#### GMF- model "
   ]
  },
  {
   "cell_type": "code",
   "execution_count": 45,
   "id": "b451968e",
   "metadata": {},
   "outputs": [],
   "source": [
    "# User Embeddings\n",
    "user_input = Input(shape=(1,), name='User_Input')\n",
    "user_embeddings = Embedding(input_dim = n_users, output_dim=n_latent_factors, input_length=1, \n",
    "                              name='User_Embedding') (user_input)\n",
    "user_vector = Flatten(name='User_Vector') (user_embeddings)\n",
    "# Movie Embeddings\n",
    "movie_input = Input(shape=(1,), name='Movie_Input')\n",
    "movie_embeddings = Embedding(input_dim = n_movies, output_dim=n_latent_factors, input_length=1, \n",
    "                               name='Movie_Embedding') (movie_input)\n",
    "movie_vector = Flatten(name='Movie_Vector') (movie_embeddings)\n",
    "# Dot Product\n",
    "merged_vectors = dot([user_vector, movie_vector], name='Dot_Product', axes=1)\n",
    "model = Model([user_input, movie_input], merged_vectors)"
   ]
  },
  {
   "cell_type": "code",
   "execution_count": 46,
   "id": "f732497f",
   "metadata": {},
   "outputs": [],
   "source": [
    "optimizer = Adam(lr = 0.0005)\n",
    "\n",
    "model.compile(loss='mean_squared_error', optimizer = optimizer)"
   ]
  },
  {
   "cell_type": "code",
   "execution_count": 47,
   "id": "d29c28e6",
   "metadata": {},
   "outputs": [
    {
     "name": "stdout",
     "output_type": "stream",
     "text": [
      "Epoch 1/20\n",
      "626/626 - 4s - loss: 13.6413 - val_loss: 13.4453 - 4s/epoch - 6ms/step\n",
      "Epoch 2/20\n",
      "626/626 - 2s - loss: 11.3218 - val_loss: 8.1918 - 2s/epoch - 3ms/step\n",
      "Epoch 3/20\n",
      "626/626 - 2s - loss: 5.8834 - val_loss: 4.7229 - 2s/epoch - 3ms/step\n",
      "Epoch 4/20\n",
      "626/626 - 2s - loss: 4.0090 - val_loss: 3.8260 - 2s/epoch - 3ms/step\n",
      "Epoch 5/20\n",
      "626/626 - 2s - loss: 3.3891 - val_loss: 3.4302 - 2s/epoch - 3ms/step\n",
      "Epoch 6/20\n",
      "626/626 - 2s - loss: 3.0890 - val_loss: 3.2231 - 2s/epoch - 3ms/step\n",
      "Epoch 7/20\n",
      "626/626 - 2s - loss: 2.9207 - val_loss: 3.1030 - 2s/epoch - 3ms/step\n",
      "Epoch 8/20\n",
      "626/626 - 2s - loss: 2.8175 - val_loss: 3.0296 - 2s/epoch - 3ms/step\n",
      "Epoch 9/20\n",
      "626/626 - 2s - loss: 2.7490 - val_loss: 2.9834 - 2s/epoch - 3ms/step\n",
      "Epoch 10/20\n",
      "626/626 - 2s - loss: 2.7011 - val_loss: 2.9528 - 2s/epoch - 3ms/step\n",
      "Epoch 11/20\n",
      "626/626 - 2s - loss: 2.6653 - val_loss: 2.9317 - 2s/epoch - 3ms/step\n",
      "Epoch 12/20\n",
      "626/626 - 2s - loss: 2.6368 - val_loss: 2.9186 - 2s/epoch - 3ms/step\n",
      "Epoch 13/20\n",
      "626/626 - 2s - loss: 2.6130 - val_loss: 2.9072 - 2s/epoch - 3ms/step\n",
      "Epoch 14/20\n",
      "626/626 - 2s - loss: 2.5926 - val_loss: 2.9008 - 2s/epoch - 3ms/step\n",
      "Epoch 15/20\n",
      "626/626 - 2s - loss: 2.5738 - val_loss: 2.8949 - 2s/epoch - 3ms/step\n",
      "Epoch 16/20\n",
      "626/626 - 2s - loss: 2.5566 - val_loss: 2.8929 - 2s/epoch - 3ms/step\n",
      "Epoch 17/20\n",
      "626/626 - 2s - loss: 2.5402 - val_loss: 2.8898 - 2s/epoch - 3ms/step\n",
      "Epoch 18/20\n",
      "626/626 - 2s - loss: 2.5239 - val_loss: 2.8881 - 2s/epoch - 3ms/step\n",
      "Epoch 19/20\n",
      "626/626 - 2s - loss: 2.5082 - val_loss: 2.8869 - 2s/epoch - 3ms/step\n",
      "Epoch 20/20\n",
      "626/626 - 2s - loss: 2.4926 - val_loss: 2.8868 - 2s/epoch - 3ms/step\n"
     ]
    }
   ],
   "source": [
    "batch_size = 128\n",
    "epochs = 20\n",
    "history = model.fit(x=[x_train['userId'], x_train['movieId']], y=y_train, batch_size= batch_size, epochs=epochs, \\\n",
    "                    verbose= 2, validation_data=([x_test['userId'], x_test['movieId']], y_test))"
   ]
  },
  {
   "cell_type": "code",
   "execution_count": 48,
   "id": "202fc254",
   "metadata": {},
   "outputs": [
    {
     "data": {
      "image/png": "[encoded data removed]",
      "text/plain": [
       "<Figure size 480x320 with 1 Axes>"
      ]
     },
     "metadata": {
      "needs_background": "light"
     },
     "output_type": "display_data"
    }
   ],
   "source": [
    "training_loss = history.history['loss']\n",
    "test_loss = history.history['val_loss']\n",
    "\n",
    "# Create count of the number of epochs\n",
    "epoch_count = range(1, len(training_loss) + 1)\n",
    "\n",
    "plt.figure(figsize = (6,4),dpi = 80)\n",
    "plt.plot(epoch_count, training_loss, 'r--')\n",
    "plt.plot(epoch_count, test_loss, 'b-')\n",
    "plt.legend(['Training Loss', 'Test Loss'])\n",
    "plt.xlabel('Epoch number')\n",
    "plt.ylabel('Loss')\n",
    "plt.title(\"The loss value of GMF model\")\n",
    "plt.show()"
   ]
  },
  {
   "cell_type": "markdown",
   "id": "8adcc662",
   "metadata": {},
   "source": [
    "#### MLP-model "
   ]
  },
  {
   "cell_type": "code",
   "execution_count": 49,
   "id": "68f6a349",
   "metadata": {},
   "outputs": [
    {
     "name": "stdout",
     "output_type": "stream",
     "text": [
      "Epoch 1/20\n",
      "626/626 - 3s - loss: 4.9405 - val_loss: 1.0057 - 3s/epoch - 4ms/step\n",
      "Epoch 2/20\n",
      "626/626 - 2s - loss: 0.8881 - val_loss: 0.8551 - 2s/epoch - 3ms/step\n",
      "Epoch 3/20\n",
      "626/626 - 2s - loss: 0.8076 - val_loss: 0.8302 - 2s/epoch - 3ms/step\n",
      "Epoch 4/20\n",
      "626/626 - 2s - loss: 0.7828 - val_loss: 0.8223 - 2s/epoch - 4ms/step\n",
      "Epoch 5/20\n",
      "626/626 - 2s - loss: 0.7687 - val_loss: 0.8199 - 2s/epoch - 4ms/step\n",
      "Epoch 6/20\n",
      "626/626 - 2s - loss: 0.7588 - val_loss: 0.8140 - 2s/epoch - 3ms/step\n",
      "Epoch 7/20\n",
      "626/626 - 2s - loss: 0.7522 - val_loss: 0.8127 - 2s/epoch - 3ms/step\n",
      "Epoch 8/20\n",
      "626/626 - 2s - loss: 0.7460 - val_loss: 0.8116 - 2s/epoch - 3ms/step\n",
      "Epoch 9/20\n",
      "626/626 - 2s - loss: 0.7412 - val_loss: 0.8105 - 2s/epoch - 3ms/step\n",
      "Epoch 10/20\n",
      "626/626 - 2s - loss: 0.7354 - val_loss: 0.8105 - 2s/epoch - 3ms/step\n",
      "Epoch 11/20\n",
      "626/626 - 2s - loss: 0.7302 - val_loss: 0.8078 - 2s/epoch - 3ms/step\n",
      "Epoch 12/20\n",
      "626/626 - 2s - loss: 0.7244 - val_loss: 0.8028 - 2s/epoch - 3ms/step\n",
      "Epoch 13/20\n",
      "626/626 - 2s - loss: 0.7192 - val_loss: 0.7972 - 2s/epoch - 3ms/step\n",
      "Epoch 14/20\n",
      "626/626 - 2s - loss: 0.7132 - val_loss: 0.7968 - 2s/epoch - 3ms/step\n",
      "Epoch 15/20\n",
      "626/626 - 2s - loss: 0.7075 - val_loss: 0.7942 - 2s/epoch - 3ms/step\n",
      "Epoch 16/20\n",
      "626/626 - 2s - loss: 0.7027 - val_loss: 0.7907 - 2s/epoch - 3ms/step\n",
      "Epoch 17/20\n",
      "626/626 - 2s - loss: 0.6973 - val_loss: 0.7969 - 2s/epoch - 3ms/step\n",
      "Epoch 18/20\n",
      "626/626 - 2s - loss: 0.6920 - val_loss: 0.7925 - 2s/epoch - 3ms/step\n",
      "Epoch 19/20\n",
      "626/626 - 2s - loss: 0.6870 - val_loss: 0.7950 - 2s/epoch - 3ms/step\n",
      "Epoch 20/20\n",
      "626/626 - 2s - loss: 0.6817 - val_loss: 0.7949 - 2s/epoch - 3ms/step\n"
     ]
    }
   ],
   "source": [
    "# User Embeddings\n",
    "user_input = Input(shape=(1,), name='User_Input')\n",
    "user_embeddings = Embedding(input_dim = n_users, output_dim=n_latent_factors, input_length=1, \n",
    "                              name='User_Embedding') (user_input)\n",
    "user_vector = Flatten(name='User_Vector') (user_embeddings)\n",
    "\n",
    "# Movie Embeddings\n",
    "movie_input = Input(shape=(1,), name='Movie_Input')\n",
    "movie_embeddings = Embedding(input_dim = n_movies, output_dim=n_latent_factors, input_length=1, \n",
    "                               name='Movie_Embedding') (movie_input)\n",
    "movie_vector = Flatten(name='Movie_Vector') (movie_embeddings)\n",
    "\n",
    "# Concatenate Product\n",
    "merged_vectors = concatenate([user_vector, movie_vector], name='Concantenate')\n",
    "dense_layer_1 = Dense(100, activation='relu')(merged_vectors) \n",
    "result = Dense(1)(dense_layer_1)\n",
    "model = Model([user_input, movie_input], result)\n",
    "\n",
    "optimizer = Adam(lr=0.0002)\n",
    "model.compile(loss='mean_squared_error', optimizer=optimizer)\n",
    "\n",
    "batch_size = 128\n",
    "epochs = 20\n",
    "history = model.fit(x=[x_train['userId'], x_train['movieId']], y=y_train, batch_size= batch_size, epochs=epochs, \n",
    "                    verbose= 2, validation_data=([x_test['userId'], x_test['movieId']], y_test))"
   ]
  },
  {
   "cell_type": "code",
   "execution_count": 50,
   "id": "e031729a",
   "metadata": {},
   "outputs": [
    {
     "data": {
      "image/png": "[encoded data removed]",
      "text/plain": [
       "<Figure size 480x320 with 1 Axes>"
      ]
     },
     "metadata": {
      "needs_background": "light"
     },
     "output_type": "display_data"
    }
   ],
   "source": [
    "# Get training and test loss histories\n",
    "training_loss = history.history['loss']\n",
    "test_loss = history.history['val_loss']\n",
    "\n",
    "# Create count of the number of epochs\n",
    "epoch_count = range(1, len(training_loss) + 1)\n",
    "\n",
    "# Visualize loss history\n",
    "plt.figure(figsize = (6,4),dpi = 80)\n",
    "plt.plot(epoch_count, training_loss, 'r--')\n",
    "plt.plot(epoch_count, test_loss, 'b-')\n",
    "plt.legend(['Training Loss', 'Test Loss'])\n",
    "plt.xlabel('Epoch number')\n",
    "plt.ylabel('Loss')\n",
    "plt.title(\"The loss value of MLP model\")\n",
    "plt.show()"
   ]
  },
  {
   "cell_type": "code",
   "execution_count": 51,
   "id": "71cfede0",
   "metadata": {
    "scrolled": true
   },
   "outputs": [
    {
     "name": "stdout",
     "output_type": "stream",
     "text": [
      "626/626 [==============================] - 1s 1ms/step - loss: 0.7949\n",
      "\n",
      "RMSE: 0.8916\n"
     ]
    }
   ],
   "source": [
    "score = model.evaluate([x_test['userId'], x_test['movieId']], y_test)\n",
    "\n",
    "print()\n",
    "print('RMSE: {:.4f}'.format(np.sqrt(score)))"
   ]
  },
  {
   "cell_type": "markdown",
   "id": "a79edb61",
   "metadata": {},
   "source": [
    "*That's all for the project code, thanks for the referential documents and articles.*\n",
    "****"
   ]
  }
 ],
 "metadata": {
  "kernelspec": {
   "display_name": "Python 3 (ipykernel)",
   "language": "python",
   "name": "python3"
  },
  "language_info": {
   "codemirror_mode": {
    "name": "ipython",
    "version": 3
   },
   "file_extension": ".py",
   "mimetype": "text/x-python",
   "name": "python",
   "nbconvert_exporter": "python",
   "pygments_lexer": "ipython3",
   "version": "3.8.11"
  },
  "varInspector": {
   "cols": {
    "lenName": 16,
    "lenType": 16,
    "lenVar": 40
   },
   "kernels_config": {
    "python": {
     "delete_cmd_postfix": "",
     "delete_cmd_prefix": "del ",
     "library": "var_list.py",
     "varRefreshCmd": "print(var_dic_list())"
    },
    "r": {
     "delete_cmd_postfix": ") ",
     "delete_cmd_prefix": "rm(",
     "library": "var_list.r",
     "varRefreshCmd": "cat(var_dic_list()) "
    }
   },
   "types_to_exclude": [
    "module",
    "function",
    "builtin_function_or_method",
    "instance",
    "_Feature"
   ],
   "window_display": false
  }
 },
 "nbformat": 4,
 "nbformat_minor": 5
}
